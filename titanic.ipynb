{
 "cells": [
  {
   "cell_type": "markdown",
   "id": "f9e0238a",
   "metadata": {},
   "source": [
    "# Aplicación de algoritmos de clasificación para predecir los sobrevivientes del titanic"
   ]
  },
  {
   "cell_type": "code",
   "execution_count": 1,
   "id": "df145816",
   "metadata": {},
   "outputs": [],
   "source": [
    "import pandas as pd\n",
    "import numpy as np\n",
    "import matplotlib as mpl\n",
    "import matplotlib.pyplot as plt\n",
    "import seaborn as sns\n",
    "import plotly.express as px\n",
    "import warnings \n",
    "warnings.filterwarnings(\"ignore\")"
   ]
  },
  {
   "cell_type": "markdown",
   "id": "ea2d1409",
   "metadata": {},
   "source": [
    "# Analisis de set de datos test"
   ]
  },
  {
   "cell_type": "code",
   "execution_count": 2,
   "id": "ffcc5d6a",
   "metadata": {},
   "outputs": [],
   "source": [
    "path=\"test.csv\""
   ]
  },
  {
   "cell_type": "code",
   "execution_count": 3,
   "id": "4f76f30b",
   "metadata": {},
   "outputs": [],
   "source": [
    "test = pd.read_csv(path) "
   ]
  },
  {
   "cell_type": "code",
   "execution_count": 4,
   "id": "0c250b1e",
   "metadata": {},
   "outputs": [
    {
     "data": {
      "text/html": [
       "<div>\n",
       "<style scoped>\n",
       "    .dataframe tbody tr th:only-of-type {\n",
       "        vertical-align: middle;\n",
       "    }\n",
       "\n",
       "    .dataframe tbody tr th {\n",
       "        vertical-align: top;\n",
       "    }\n",
       "\n",
       "    .dataframe thead th {\n",
       "        text-align: right;\n",
       "    }\n",
       "</style>\n",
       "<table border=\"1\" class=\"dataframe\">\n",
       "  <thead>\n",
       "    <tr style=\"text-align: right;\">\n",
       "      <th></th>\n",
       "      <th>PassengerId</th>\n",
       "      <th>Pclass</th>\n",
       "      <th>Name</th>\n",
       "      <th>Sex</th>\n",
       "      <th>Age</th>\n",
       "      <th>SibSp</th>\n",
       "      <th>Parch</th>\n",
       "      <th>Ticket</th>\n",
       "      <th>Fare</th>\n",
       "      <th>Cabin</th>\n",
       "      <th>Embarked</th>\n",
       "    </tr>\n",
       "  </thead>\n",
       "  <tbody>\n",
       "    <tr>\n",
       "      <th>0</th>\n",
       "      <td>892</td>\n",
       "      <td>3</td>\n",
       "      <td>Kelly, Mr. James</td>\n",
       "      <td>male</td>\n",
       "      <td>34.5</td>\n",
       "      <td>0</td>\n",
       "      <td>0</td>\n",
       "      <td>330911</td>\n",
       "      <td>7.8292</td>\n",
       "      <td>NaN</td>\n",
       "      <td>Q</td>\n",
       "    </tr>\n",
       "    <tr>\n",
       "      <th>1</th>\n",
       "      <td>893</td>\n",
       "      <td>3</td>\n",
       "      <td>Wilkes, Mrs. James (Ellen Needs)</td>\n",
       "      <td>female</td>\n",
       "      <td>47.0</td>\n",
       "      <td>1</td>\n",
       "      <td>0</td>\n",
       "      <td>363272</td>\n",
       "      <td>7.0000</td>\n",
       "      <td>NaN</td>\n",
       "      <td>S</td>\n",
       "    </tr>\n",
       "    <tr>\n",
       "      <th>2</th>\n",
       "      <td>894</td>\n",
       "      <td>2</td>\n",
       "      <td>Myles, Mr. Thomas Francis</td>\n",
       "      <td>male</td>\n",
       "      <td>62.0</td>\n",
       "      <td>0</td>\n",
       "      <td>0</td>\n",
       "      <td>240276</td>\n",
       "      <td>9.6875</td>\n",
       "      <td>NaN</td>\n",
       "      <td>Q</td>\n",
       "    </tr>\n",
       "    <tr>\n",
       "      <th>3</th>\n",
       "      <td>895</td>\n",
       "      <td>3</td>\n",
       "      <td>Wirz, Mr. Albert</td>\n",
       "      <td>male</td>\n",
       "      <td>27.0</td>\n",
       "      <td>0</td>\n",
       "      <td>0</td>\n",
       "      <td>315154</td>\n",
       "      <td>8.6625</td>\n",
       "      <td>NaN</td>\n",
       "      <td>S</td>\n",
       "    </tr>\n",
       "    <tr>\n",
       "      <th>4</th>\n",
       "      <td>896</td>\n",
       "      <td>3</td>\n",
       "      <td>Hirvonen, Mrs. Alexander (Helga E Lindqvist)</td>\n",
       "      <td>female</td>\n",
       "      <td>22.0</td>\n",
       "      <td>1</td>\n",
       "      <td>1</td>\n",
       "      <td>3101298</td>\n",
       "      <td>12.2875</td>\n",
       "      <td>NaN</td>\n",
       "      <td>S</td>\n",
       "    </tr>\n",
       "    <tr>\n",
       "      <th>...</th>\n",
       "      <td>...</td>\n",
       "      <td>...</td>\n",
       "      <td>...</td>\n",
       "      <td>...</td>\n",
       "      <td>...</td>\n",
       "      <td>...</td>\n",
       "      <td>...</td>\n",
       "      <td>...</td>\n",
       "      <td>...</td>\n",
       "      <td>...</td>\n",
       "      <td>...</td>\n",
       "    </tr>\n",
       "    <tr>\n",
       "      <th>413</th>\n",
       "      <td>1305</td>\n",
       "      <td>3</td>\n",
       "      <td>Spector, Mr. Woolf</td>\n",
       "      <td>male</td>\n",
       "      <td>NaN</td>\n",
       "      <td>0</td>\n",
       "      <td>0</td>\n",
       "      <td>A.5. 3236</td>\n",
       "      <td>8.0500</td>\n",
       "      <td>NaN</td>\n",
       "      <td>S</td>\n",
       "    </tr>\n",
       "    <tr>\n",
       "      <th>414</th>\n",
       "      <td>1306</td>\n",
       "      <td>1</td>\n",
       "      <td>Oliva y Ocana, Dona. Fermina</td>\n",
       "      <td>female</td>\n",
       "      <td>39.0</td>\n",
       "      <td>0</td>\n",
       "      <td>0</td>\n",
       "      <td>PC 17758</td>\n",
       "      <td>108.9000</td>\n",
       "      <td>C105</td>\n",
       "      <td>C</td>\n",
       "    </tr>\n",
       "    <tr>\n",
       "      <th>415</th>\n",
       "      <td>1307</td>\n",
       "      <td>3</td>\n",
       "      <td>Saether, Mr. Simon Sivertsen</td>\n",
       "      <td>male</td>\n",
       "      <td>38.5</td>\n",
       "      <td>0</td>\n",
       "      <td>0</td>\n",
       "      <td>SOTON/O.Q. 3101262</td>\n",
       "      <td>7.2500</td>\n",
       "      <td>NaN</td>\n",
       "      <td>S</td>\n",
       "    </tr>\n",
       "    <tr>\n",
       "      <th>416</th>\n",
       "      <td>1308</td>\n",
       "      <td>3</td>\n",
       "      <td>Ware, Mr. Frederick</td>\n",
       "      <td>male</td>\n",
       "      <td>NaN</td>\n",
       "      <td>0</td>\n",
       "      <td>0</td>\n",
       "      <td>359309</td>\n",
       "      <td>8.0500</td>\n",
       "      <td>NaN</td>\n",
       "      <td>S</td>\n",
       "    </tr>\n",
       "    <tr>\n",
       "      <th>417</th>\n",
       "      <td>1309</td>\n",
       "      <td>3</td>\n",
       "      <td>Peter, Master. Michael J</td>\n",
       "      <td>male</td>\n",
       "      <td>NaN</td>\n",
       "      <td>1</td>\n",
       "      <td>1</td>\n",
       "      <td>2668</td>\n",
       "      <td>22.3583</td>\n",
       "      <td>NaN</td>\n",
       "      <td>C</td>\n",
       "    </tr>\n",
       "  </tbody>\n",
       "</table>\n",
       "<p>418 rows × 11 columns</p>\n",
       "</div>"
      ],
      "text/plain": [
       "     PassengerId  Pclass                                          Name  \\\n",
       "0            892       3                              Kelly, Mr. James   \n",
       "1            893       3              Wilkes, Mrs. James (Ellen Needs)   \n",
       "2            894       2                     Myles, Mr. Thomas Francis   \n",
       "3            895       3                              Wirz, Mr. Albert   \n",
       "4            896       3  Hirvonen, Mrs. Alexander (Helga E Lindqvist)   \n",
       "..           ...     ...                                           ...   \n",
       "413         1305       3                            Spector, Mr. Woolf   \n",
       "414         1306       1                  Oliva y Ocana, Dona. Fermina   \n",
       "415         1307       3                  Saether, Mr. Simon Sivertsen   \n",
       "416         1308       3                           Ware, Mr. Frederick   \n",
       "417         1309       3                      Peter, Master. Michael J   \n",
       "\n",
       "        Sex   Age  SibSp  Parch              Ticket      Fare Cabin Embarked  \n",
       "0      male  34.5      0      0              330911    7.8292   NaN        Q  \n",
       "1    female  47.0      1      0              363272    7.0000   NaN        S  \n",
       "2      male  62.0      0      0              240276    9.6875   NaN        Q  \n",
       "3      male  27.0      0      0              315154    8.6625   NaN        S  \n",
       "4    female  22.0      1      1             3101298   12.2875   NaN        S  \n",
       "..      ...   ...    ...    ...                 ...       ...   ...      ...  \n",
       "413    male   NaN      0      0           A.5. 3236    8.0500   NaN        S  \n",
       "414  female  39.0      0      0            PC 17758  108.9000  C105        C  \n",
       "415    male  38.5      0      0  SOTON/O.Q. 3101262    7.2500   NaN        S  \n",
       "416    male   NaN      0      0              359309    8.0500   NaN        S  \n",
       "417    male   NaN      1      1                2668   22.3583   NaN        C  \n",
       "\n",
       "[418 rows x 11 columns]"
      ]
     },
     "execution_count": 4,
     "metadata": {},
     "output_type": "execute_result"
    }
   ],
   "source": [
    "test"
   ]
  },
  {
   "cell_type": "code",
   "execution_count": 5,
   "id": "2154f98b",
   "metadata": {},
   "outputs": [
    {
     "data": {
      "text/plain": [
       "(418, 11)"
      ]
     },
     "execution_count": 5,
     "metadata": {},
     "output_type": "execute_result"
    }
   ],
   "source": [
    "test.shape"
   ]
  },
  {
   "cell_type": "code",
   "execution_count": 6,
   "id": "d00be04c",
   "metadata": {},
   "outputs": [
    {
     "data": {
      "text/html": [
       "<div>\n",
       "<style scoped>\n",
       "    .dataframe tbody tr th:only-of-type {\n",
       "        vertical-align: middle;\n",
       "    }\n",
       "\n",
       "    .dataframe tbody tr th {\n",
       "        vertical-align: top;\n",
       "    }\n",
       "\n",
       "    .dataframe thead th {\n",
       "        text-align: right;\n",
       "    }\n",
       "</style>\n",
       "<table border=\"1\" class=\"dataframe\">\n",
       "  <thead>\n",
       "    <tr style=\"text-align: right;\">\n",
       "      <th></th>\n",
       "      <th>PassengerId</th>\n",
       "      <th>Pclass</th>\n",
       "      <th>Age</th>\n",
       "      <th>SibSp</th>\n",
       "      <th>Parch</th>\n",
       "      <th>Fare</th>\n",
       "    </tr>\n",
       "  </thead>\n",
       "  <tbody>\n",
       "    <tr>\n",
       "      <th>count</th>\n",
       "      <td>418.000000</td>\n",
       "      <td>418.000000</td>\n",
       "      <td>332.000000</td>\n",
       "      <td>418.000000</td>\n",
       "      <td>418.000000</td>\n",
       "      <td>417.000000</td>\n",
       "    </tr>\n",
       "    <tr>\n",
       "      <th>mean</th>\n",
       "      <td>1100.500000</td>\n",
       "      <td>2.265550</td>\n",
       "      <td>30.272590</td>\n",
       "      <td>0.447368</td>\n",
       "      <td>0.392344</td>\n",
       "      <td>35.627188</td>\n",
       "    </tr>\n",
       "    <tr>\n",
       "      <th>std</th>\n",
       "      <td>120.810458</td>\n",
       "      <td>0.841838</td>\n",
       "      <td>14.181209</td>\n",
       "      <td>0.896760</td>\n",
       "      <td>0.981429</td>\n",
       "      <td>55.907576</td>\n",
       "    </tr>\n",
       "    <tr>\n",
       "      <th>min</th>\n",
       "      <td>892.000000</td>\n",
       "      <td>1.000000</td>\n",
       "      <td>0.170000</td>\n",
       "      <td>0.000000</td>\n",
       "      <td>0.000000</td>\n",
       "      <td>0.000000</td>\n",
       "    </tr>\n",
       "    <tr>\n",
       "      <th>25%</th>\n",
       "      <td>996.250000</td>\n",
       "      <td>1.000000</td>\n",
       "      <td>21.000000</td>\n",
       "      <td>0.000000</td>\n",
       "      <td>0.000000</td>\n",
       "      <td>7.895800</td>\n",
       "    </tr>\n",
       "    <tr>\n",
       "      <th>50%</th>\n",
       "      <td>1100.500000</td>\n",
       "      <td>3.000000</td>\n",
       "      <td>27.000000</td>\n",
       "      <td>0.000000</td>\n",
       "      <td>0.000000</td>\n",
       "      <td>14.454200</td>\n",
       "    </tr>\n",
       "    <tr>\n",
       "      <th>75%</th>\n",
       "      <td>1204.750000</td>\n",
       "      <td>3.000000</td>\n",
       "      <td>39.000000</td>\n",
       "      <td>1.000000</td>\n",
       "      <td>0.000000</td>\n",
       "      <td>31.500000</td>\n",
       "    </tr>\n",
       "    <tr>\n",
       "      <th>max</th>\n",
       "      <td>1309.000000</td>\n",
       "      <td>3.000000</td>\n",
       "      <td>76.000000</td>\n",
       "      <td>8.000000</td>\n",
       "      <td>9.000000</td>\n",
       "      <td>512.329200</td>\n",
       "    </tr>\n",
       "  </tbody>\n",
       "</table>\n",
       "</div>"
      ],
      "text/plain": [
       "       PassengerId      Pclass         Age       SibSp       Parch        Fare\n",
       "count   418.000000  418.000000  332.000000  418.000000  418.000000  417.000000\n",
       "mean   1100.500000    2.265550   30.272590    0.447368    0.392344   35.627188\n",
       "std     120.810458    0.841838   14.181209    0.896760    0.981429   55.907576\n",
       "min     892.000000    1.000000    0.170000    0.000000    0.000000    0.000000\n",
       "25%     996.250000    1.000000   21.000000    0.000000    0.000000    7.895800\n",
       "50%    1100.500000    3.000000   27.000000    0.000000    0.000000   14.454200\n",
       "75%    1204.750000    3.000000   39.000000    1.000000    0.000000   31.500000\n",
       "max    1309.000000    3.000000   76.000000    8.000000    9.000000  512.329200"
      ]
     },
     "execution_count": 6,
     "metadata": {},
     "output_type": "execute_result"
    }
   ],
   "source": [
    "test.describe()"
   ]
  },
  {
   "cell_type": "code",
   "execution_count": 7,
   "id": "84a98967",
   "metadata": {},
   "outputs": [
    {
     "name": "stdout",
     "output_type": "stream",
     "text": [
      "<class 'pandas.core.frame.DataFrame'>\n",
      "RangeIndex: 418 entries, 0 to 417\n",
      "Data columns (total 11 columns):\n",
      " #   Column       Non-Null Count  Dtype  \n",
      "---  ------       --------------  -----  \n",
      " 0   PassengerId  418 non-null    int64  \n",
      " 1   Pclass       418 non-null    int64  \n",
      " 2   Name         418 non-null    object \n",
      " 3   Sex          418 non-null    object \n",
      " 4   Age          332 non-null    float64\n",
      " 5   SibSp        418 non-null    int64  \n",
      " 6   Parch        418 non-null    int64  \n",
      " 7   Ticket       418 non-null    object \n",
      " 8   Fare         417 non-null    float64\n",
      " 9   Cabin        91 non-null     object \n",
      " 10  Embarked     418 non-null    object \n",
      "dtypes: float64(2), int64(4), object(5)\n",
      "memory usage: 36.0+ KB\n"
     ]
    }
   ],
   "source": [
    "test.info()"
   ]
  },
  {
   "cell_type": "code",
   "execution_count": 8,
   "id": "cce07fe0",
   "metadata": {},
   "outputs": [
    {
     "data": {
      "text/plain": [
       "PassengerId      0\n",
       "Pclass           0\n",
       "Name             0\n",
       "Sex              0\n",
       "Age             86\n",
       "SibSp            0\n",
       "Parch            0\n",
       "Ticket           0\n",
       "Fare             1\n",
       "Cabin          327\n",
       "Embarked         0\n",
       "dtype: int64"
      ]
     },
     "execution_count": 8,
     "metadata": {},
     "output_type": "execute_result"
    }
   ],
   "source": [
    "test.isnull().sum(axis=0)"
   ]
  },
  {
   "cell_type": "code",
   "execution_count": 9,
   "id": "6e0694e0",
   "metadata": {},
   "outputs": [
    {
     "data": {
      "image/png": "[encoded data removed]",
      "text/plain": [
       "<Figure size 1000x500 with 6 Axes>"
      ]
     },
     "metadata": {},
     "output_type": "display_data"
    }
   ],
   "source": [
    "#analisis antes de limpieza de las que deberian ser categoricas y las actualmente son object, a excepcion de name, ticket y cabin\n",
    "\n",
    "cat_var=['Pclass','Sex', 'SibSp', 'Parch', 'Embarked'] \n",
    "\n",
    "fig,axs=plt.subplots(nrows=2,ncols=3,figsize=(10,5))\n",
    "axs=axs.flatten()\n",
    "\n",
    "for i, var in enumerate  (cat_var):\n",
    "    sns.countplot(x=var, data=test,ax=axs[i])\n",
    "    axs[i].set_xticklabels(axs[i].get_xticklabels(),rotation=90)\n",
    "    \n",
    "fig.tight_layout()\n",
    "plt.show()"
   ]
  },
  {
   "cell_type": "code",
   "execution_count": 10,
   "id": "8886ac73",
   "metadata": {},
   "outputs": [
    {
     "data": {
      "image/png": "[encoded data removed]",
      "text/plain": [
       "<Figure size 700x500 with 2 Axes>"
      ]
     },
     "metadata": {},
     "output_type": "display_data"
    }
   ],
   "source": [
    "num_vars=['Age','Fare'] \n",
    "\n",
    "fig, axs = plt.subplots(nrows=1, ncols=2, figsize=(7, 5))\n",
    "axs = axs.flatten()\n",
    "\n",
    "for i, var in enumerate(num_vars): \n",
    "    sns.boxplot(x=var, data=test,ax=axs[i])\n",
    "    \n",
    "fig.tight_layout()\n",
    "    \n",
    "plt.show()"
   ]
  },
  {
   "cell_type": "markdown",
   "id": "60fb69ab",
   "metadata": {},
   "source": [
    "# Limpieza set de datos test"
   ]
  },
  {
   "cell_type": "code",
   "execution_count": 11,
   "id": "1fa7af03",
   "metadata": {},
   "outputs": [],
   "source": [
    "#por cantidad de nulos se elimna variable cabin\n",
    "test.drop(['Cabin'],axis=1, inplace=True)"
   ]
  },
  {
   "cell_type": "code",
   "execution_count": 12,
   "id": "e6014cf3",
   "metadata": {},
   "outputs": [],
   "source": [
    "df_num=test[['Age','Fare']]"
   ]
  },
  {
   "cell_type": "code",
   "execution_count": 13,
   "id": "4e7cc265",
   "metadata": {},
   "outputs": [],
   "source": [
    "from sklearn.impute import KNNImputer"
   ]
  },
  {
   "cell_type": "code",
   "execution_count": 14,
   "id": "b49a0130",
   "metadata": {},
   "outputs": [],
   "source": [
    "#se aplica imputador knn para la var edad, viendo su histograma y boxplot no esta muy sesgado hacia los extremos, podria haberse reemplazado tb por la media\n",
    "imputer = KNNImputer(n_neighbors=5, weights=\"uniform\")\n",
    "imputer.fit(df_num)\n",
    "df_num = imputer.transform(df_num)"
   ]
  },
  {
   "cell_type": "code",
   "execution_count": 15,
   "id": "482ff3a3",
   "metadata": {},
   "outputs": [],
   "source": [
    "df_num=pd.DataFrame(df_num,columns=['Age','Fare'])"
   ]
  },
  {
   "cell_type": "code",
   "execution_count": 16,
   "id": "43170aeb",
   "metadata": {},
   "outputs": [],
   "source": [
    "test.drop(['Age','Fare'],axis=1, inplace=True)"
   ]
  },
  {
   "cell_type": "code",
   "execution_count": 17,
   "id": "dcd1174d",
   "metadata": {},
   "outputs": [],
   "source": [
    "test=pd.concat([test, df_num], axis=1)"
   ]
  },
  {
   "cell_type": "code",
   "execution_count": 18,
   "id": "ecf170ac",
   "metadata": {},
   "outputs": [],
   "source": [
    "test['Fare'].fillna(test['Fare'].mean(), inplace=True)"
   ]
  },
  {
   "cell_type": "code",
   "execution_count": 19,
   "id": "887479bc",
   "metadata": {},
   "outputs": [
    {
     "data": {
      "text/plain": [
       "PassengerId    0\n",
       "Pclass         0\n",
       "Name           0\n",
       "Sex            0\n",
       "SibSp          0\n",
       "Parch          0\n",
       "Ticket         0\n",
       "Embarked       0\n",
       "Age            0\n",
       "Fare           0\n",
       "dtype: int64"
      ]
     },
     "execution_count": 19,
     "metadata": {},
     "output_type": "execute_result"
    }
   ],
   "source": [
    "test.isnull().sum(axis=0) #se comprueba que ya no existen nulos"
   ]
  },
  {
   "cell_type": "code",
   "execution_count": 20,
   "id": "4e2135e3",
   "metadata": {},
   "outputs": [
    {
     "data": {
      "text/html": [
       "<div>\n",
       "<style scoped>\n",
       "    .dataframe tbody tr th:only-of-type {\n",
       "        vertical-align: middle;\n",
       "    }\n",
       "\n",
       "    .dataframe tbody tr th {\n",
       "        vertical-align: top;\n",
       "    }\n",
       "\n",
       "    .dataframe thead th {\n",
       "        text-align: right;\n",
       "    }\n",
       "</style>\n",
       "<table border=\"1\" class=\"dataframe\">\n",
       "  <thead>\n",
       "    <tr style=\"text-align: right;\">\n",
       "      <th></th>\n",
       "      <th>PassengerId</th>\n",
       "      <th>Pclass</th>\n",
       "      <th>SibSp</th>\n",
       "      <th>Parch</th>\n",
       "      <th>Age</th>\n",
       "      <th>Fare</th>\n",
       "    </tr>\n",
       "  </thead>\n",
       "  <tbody>\n",
       "    <tr>\n",
       "      <th>count</th>\n",
       "      <td>418.000000</td>\n",
       "      <td>418.000000</td>\n",
       "      <td>418.000000</td>\n",
       "      <td>418.000000</td>\n",
       "      <td>418.000000</td>\n",
       "      <td>418.000000</td>\n",
       "    </tr>\n",
       "    <tr>\n",
       "      <th>mean</th>\n",
       "      <td>1100.500000</td>\n",
       "      <td>2.265550</td>\n",
       "      <td>0.447368</td>\n",
       "      <td>0.392344</td>\n",
       "      <td>29.702225</td>\n",
       "      <td>35.848184</td>\n",
       "    </tr>\n",
       "    <tr>\n",
       "      <th>std</th>\n",
       "      <td>120.810458</td>\n",
       "      <td>0.841838</td>\n",
       "      <td>0.896760</td>\n",
       "      <td>0.981429</td>\n",
       "      <td>12.888177</td>\n",
       "      <td>56.022997</td>\n",
       "    </tr>\n",
       "    <tr>\n",
       "      <th>min</th>\n",
       "      <td>892.000000</td>\n",
       "      <td>1.000000</td>\n",
       "      <td>0.000000</td>\n",
       "      <td>0.000000</td>\n",
       "      <td>0.170000</td>\n",
       "      <td>0.000000</td>\n",
       "    </tr>\n",
       "    <tr>\n",
       "      <th>25%</th>\n",
       "      <td>996.250000</td>\n",
       "      <td>1.000000</td>\n",
       "      <td>0.000000</td>\n",
       "      <td>0.000000</td>\n",
       "      <td>22.000000</td>\n",
       "      <td>7.895800</td>\n",
       "    </tr>\n",
       "    <tr>\n",
       "      <th>50%</th>\n",
       "      <td>1100.500000</td>\n",
       "      <td>3.000000</td>\n",
       "      <td>0.000000</td>\n",
       "      <td>0.000000</td>\n",
       "      <td>27.000000</td>\n",
       "      <td>14.454200</td>\n",
       "    </tr>\n",
       "    <tr>\n",
       "      <th>75%</th>\n",
       "      <td>1204.750000</td>\n",
       "      <td>3.000000</td>\n",
       "      <td>1.000000</td>\n",
       "      <td>0.000000</td>\n",
       "      <td>36.000000</td>\n",
       "      <td>31.500000</td>\n",
       "    </tr>\n",
       "    <tr>\n",
       "      <th>max</th>\n",
       "      <td>1309.000000</td>\n",
       "      <td>3.000000</td>\n",
       "      <td>8.000000</td>\n",
       "      <td>9.000000</td>\n",
       "      <td>76.000000</td>\n",
       "      <td>512.329200</td>\n",
       "    </tr>\n",
       "  </tbody>\n",
       "</table>\n",
       "</div>"
      ],
      "text/plain": [
       "       PassengerId      Pclass       SibSp       Parch         Age        Fare\n",
       "count   418.000000  418.000000  418.000000  418.000000  418.000000  418.000000\n",
       "mean   1100.500000    2.265550    0.447368    0.392344   29.702225   35.848184\n",
       "std     120.810458    0.841838    0.896760    0.981429   12.888177   56.022997\n",
       "min     892.000000    1.000000    0.000000    0.000000    0.170000    0.000000\n",
       "25%     996.250000    1.000000    0.000000    0.000000   22.000000    7.895800\n",
       "50%    1100.500000    3.000000    0.000000    0.000000   27.000000   14.454200\n",
       "75%    1204.750000    3.000000    1.000000    0.000000   36.000000   31.500000\n",
       "max    1309.000000    3.000000    8.000000    9.000000   76.000000  512.329200"
      ]
     },
     "execution_count": 20,
     "metadata": {},
     "output_type": "execute_result"
    }
   ],
   "source": [
    "test.describe()\n",
    "#la distribucion de age no cambia drasticamente con la imputacion"
   ]
  },
  {
   "cell_type": "code",
   "execution_count": 21,
   "id": "499ac4f1",
   "metadata": {},
   "outputs": [
    {
     "data": {
      "text/html": [
       "<div>\n",
       "<style scoped>\n",
       "    .dataframe tbody tr th:only-of-type {\n",
       "        vertical-align: middle;\n",
       "    }\n",
       "\n",
       "    .dataframe tbody tr th {\n",
       "        vertical-align: top;\n",
       "    }\n",
       "\n",
       "    .dataframe thead th {\n",
       "        text-align: right;\n",
       "    }\n",
       "</style>\n",
       "<table border=\"1\" class=\"dataframe\">\n",
       "  <thead>\n",
       "    <tr style=\"text-align: right;\">\n",
       "      <th></th>\n",
       "      <th>PassengerId</th>\n",
       "      <th>Pclass</th>\n",
       "      <th>Name</th>\n",
       "      <th>Sex</th>\n",
       "      <th>SibSp</th>\n",
       "      <th>Parch</th>\n",
       "      <th>Ticket</th>\n",
       "      <th>Embarked</th>\n",
       "      <th>Age</th>\n",
       "      <th>Fare</th>\n",
       "    </tr>\n",
       "  </thead>\n",
       "  <tbody>\n",
       "    <tr>\n",
       "      <th>0</th>\n",
       "      <td>892</td>\n",
       "      <td>3</td>\n",
       "      <td>Kelly, Mr. James</td>\n",
       "      <td>male</td>\n",
       "      <td>0</td>\n",
       "      <td>0</td>\n",
       "      <td>330911</td>\n",
       "      <td>Q</td>\n",
       "      <td>34.5</td>\n",
       "      <td>7.8292</td>\n",
       "    </tr>\n",
       "    <tr>\n",
       "      <th>1</th>\n",
       "      <td>893</td>\n",
       "      <td>3</td>\n",
       "      <td>Wilkes, Mrs. James (Ellen Needs)</td>\n",
       "      <td>female</td>\n",
       "      <td>1</td>\n",
       "      <td>0</td>\n",
       "      <td>363272</td>\n",
       "      <td>S</td>\n",
       "      <td>47.0</td>\n",
       "      <td>7.0000</td>\n",
       "    </tr>\n",
       "    <tr>\n",
       "      <th>2</th>\n",
       "      <td>894</td>\n",
       "      <td>2</td>\n",
       "      <td>Myles, Mr. Thomas Francis</td>\n",
       "      <td>male</td>\n",
       "      <td>0</td>\n",
       "      <td>0</td>\n",
       "      <td>240276</td>\n",
       "      <td>Q</td>\n",
       "      <td>62.0</td>\n",
       "      <td>9.6875</td>\n",
       "    </tr>\n",
       "    <tr>\n",
       "      <th>3</th>\n",
       "      <td>895</td>\n",
       "      <td>3</td>\n",
       "      <td>Wirz, Mr. Albert</td>\n",
       "      <td>male</td>\n",
       "      <td>0</td>\n",
       "      <td>0</td>\n",
       "      <td>315154</td>\n",
       "      <td>S</td>\n",
       "      <td>27.0</td>\n",
       "      <td>8.6625</td>\n",
       "    </tr>\n",
       "    <tr>\n",
       "      <th>4</th>\n",
       "      <td>896</td>\n",
       "      <td>3</td>\n",
       "      <td>Hirvonen, Mrs. Alexander (Helga E Lindqvist)</td>\n",
       "      <td>female</td>\n",
       "      <td>1</td>\n",
       "      <td>1</td>\n",
       "      <td>3101298</td>\n",
       "      <td>S</td>\n",
       "      <td>22.0</td>\n",
       "      <td>12.2875</td>\n",
       "    </tr>\n",
       "  </tbody>\n",
       "</table>\n",
       "</div>"
      ],
      "text/plain": [
       "   PassengerId  Pclass                                          Name     Sex  \\\n",
       "0          892       3                              Kelly, Mr. James    male   \n",
       "1          893       3              Wilkes, Mrs. James (Ellen Needs)  female   \n",
       "2          894       2                     Myles, Mr. Thomas Francis    male   \n",
       "3          895       3                              Wirz, Mr. Albert    male   \n",
       "4          896       3  Hirvonen, Mrs. Alexander (Helga E Lindqvist)  female   \n",
       "\n",
       "   SibSp  Parch   Ticket Embarked   Age     Fare  \n",
       "0      0      0   330911        Q  34.5   7.8292  \n",
       "1      1      0   363272        S  47.0   7.0000  \n",
       "2      0      0   240276        Q  62.0   9.6875  \n",
       "3      0      0   315154        S  27.0   8.6625  \n",
       "4      1      1  3101298        S  22.0  12.2875  "
      ]
     },
     "execution_count": 21,
     "metadata": {},
     "output_type": "execute_result"
    }
   ],
   "source": [
    "test.head()\n",
    "#base de datos test limpia"
   ]
  },
  {
   "cell_type": "markdown",
   "id": "701866fe",
   "metadata": {},
   "source": [
    "Se aplica one hot encoding para transformar variables categoricas a etiquetas numericas. Con esto tendrian una distribucion mas cercana a una normal"
   ]
  },
  {
   "cell_type": "code",
   "execution_count": 22,
   "id": "1c0df176",
   "metadata": {},
   "outputs": [],
   "source": [
    "from sklearn import preprocessing\n",
    "label_encoder = preprocessing.LabelEncoder()\n",
    "test['Sex']= label_encoder.fit_transform(test['Sex'])\n",
    "test['Embarked']= label_encoder.fit_transform(test['Embarked'])"
   ]
  },
  {
   "cell_type": "markdown",
   "id": "00af4175",
   "metadata": {},
   "source": [
    "# Analisis de set de datos Train"
   ]
  },
  {
   "cell_type": "code",
   "execution_count": 23,
   "id": "eefc1470",
   "metadata": {},
   "outputs": [],
   "source": [
    "path=\"train.csv\""
   ]
  },
  {
   "cell_type": "code",
   "execution_count": 24,
   "id": "3101d115",
   "metadata": {},
   "outputs": [],
   "source": [
    "train = pd.read_csv(path) "
   ]
  },
  {
   "cell_type": "code",
   "execution_count": 25,
   "id": "1666db80",
   "metadata": {},
   "outputs": [
    {
     "data": {
      "text/html": [
       "<div>\n",
       "<style scoped>\n",
       "    .dataframe tbody tr th:only-of-type {\n",
       "        vertical-align: middle;\n",
       "    }\n",
       "\n",
       "    .dataframe tbody tr th {\n",
       "        vertical-align: top;\n",
       "    }\n",
       "\n",
       "    .dataframe thead th {\n",
       "        text-align: right;\n",
       "    }\n",
       "</style>\n",
       "<table border=\"1\" class=\"dataframe\">\n",
       "  <thead>\n",
       "    <tr style=\"text-align: right;\">\n",
       "      <th></th>\n",
       "      <th>PassengerId</th>\n",
       "      <th>Survived</th>\n",
       "      <th>Pclass</th>\n",
       "      <th>Name</th>\n",
       "      <th>Sex</th>\n",
       "      <th>Age</th>\n",
       "      <th>SibSp</th>\n",
       "      <th>Parch</th>\n",
       "      <th>Ticket</th>\n",
       "      <th>Fare</th>\n",
       "      <th>Cabin</th>\n",
       "      <th>Embarked</th>\n",
       "    </tr>\n",
       "  </thead>\n",
       "  <tbody>\n",
       "    <tr>\n",
       "      <th>0</th>\n",
       "      <td>1</td>\n",
       "      <td>0</td>\n",
       "      <td>3</td>\n",
       "      <td>Braund, Mr. Owen Harris</td>\n",
       "      <td>male</td>\n",
       "      <td>22.0</td>\n",
       "      <td>1</td>\n",
       "      <td>0</td>\n",
       "      <td>A/5 21171</td>\n",
       "      <td>7.2500</td>\n",
       "      <td>NaN</td>\n",
       "      <td>S</td>\n",
       "    </tr>\n",
       "    <tr>\n",
       "      <th>1</th>\n",
       "      <td>2</td>\n",
       "      <td>1</td>\n",
       "      <td>1</td>\n",
       "      <td>Cumings, Mrs. John Bradley (Florence Briggs Th...</td>\n",
       "      <td>female</td>\n",
       "      <td>38.0</td>\n",
       "      <td>1</td>\n",
       "      <td>0</td>\n",
       "      <td>PC 17599</td>\n",
       "      <td>71.2833</td>\n",
       "      <td>C85</td>\n",
       "      <td>C</td>\n",
       "    </tr>\n",
       "    <tr>\n",
       "      <th>2</th>\n",
       "      <td>3</td>\n",
       "      <td>1</td>\n",
       "      <td>3</td>\n",
       "      <td>Heikkinen, Miss. Laina</td>\n",
       "      <td>female</td>\n",
       "      <td>26.0</td>\n",
       "      <td>0</td>\n",
       "      <td>0</td>\n",
       "      <td>STON/O2. 3101282</td>\n",
       "      <td>7.9250</td>\n",
       "      <td>NaN</td>\n",
       "      <td>S</td>\n",
       "    </tr>\n",
       "    <tr>\n",
       "      <th>3</th>\n",
       "      <td>4</td>\n",
       "      <td>1</td>\n",
       "      <td>1</td>\n",
       "      <td>Futrelle, Mrs. Jacques Heath (Lily May Peel)</td>\n",
       "      <td>female</td>\n",
       "      <td>35.0</td>\n",
       "      <td>1</td>\n",
       "      <td>0</td>\n",
       "      <td>113803</td>\n",
       "      <td>53.1000</td>\n",
       "      <td>C123</td>\n",
       "      <td>S</td>\n",
       "    </tr>\n",
       "    <tr>\n",
       "      <th>4</th>\n",
       "      <td>5</td>\n",
       "      <td>0</td>\n",
       "      <td>3</td>\n",
       "      <td>Allen, Mr. William Henry</td>\n",
       "      <td>male</td>\n",
       "      <td>35.0</td>\n",
       "      <td>0</td>\n",
       "      <td>0</td>\n",
       "      <td>373450</td>\n",
       "      <td>8.0500</td>\n",
       "      <td>NaN</td>\n",
       "      <td>S</td>\n",
       "    </tr>\n",
       "  </tbody>\n",
       "</table>\n",
       "</div>"
      ],
      "text/plain": [
       "   PassengerId  Survived  Pclass  \\\n",
       "0            1         0       3   \n",
       "1            2         1       1   \n",
       "2            3         1       3   \n",
       "3            4         1       1   \n",
       "4            5         0       3   \n",
       "\n",
       "                                                Name     Sex   Age  SibSp  \\\n",
       "0                            Braund, Mr. Owen Harris    male  22.0      1   \n",
       "1  Cumings, Mrs. John Bradley (Florence Briggs Th...  female  38.0      1   \n",
       "2                             Heikkinen, Miss. Laina  female  26.0      0   \n",
       "3       Futrelle, Mrs. Jacques Heath (Lily May Peel)  female  35.0      1   \n",
       "4                           Allen, Mr. William Henry    male  35.0      0   \n",
       "\n",
       "   Parch            Ticket     Fare Cabin Embarked  \n",
       "0      0         A/5 21171   7.2500   NaN        S  \n",
       "1      0          PC 17599  71.2833   C85        C  \n",
       "2      0  STON/O2. 3101282   7.9250   NaN        S  \n",
       "3      0            113803  53.1000  C123        S  \n",
       "4      0            373450   8.0500   NaN        S  "
      ]
     },
     "execution_count": 25,
     "metadata": {},
     "output_type": "execute_result"
    }
   ],
   "source": [
    "train.head()"
   ]
  },
  {
   "cell_type": "code",
   "execution_count": 26,
   "id": "89de0c08",
   "metadata": {},
   "outputs": [
    {
     "data": {
      "text/html": [
       "<div>\n",
       "<style scoped>\n",
       "    .dataframe tbody tr th:only-of-type {\n",
       "        vertical-align: middle;\n",
       "    }\n",
       "\n",
       "    .dataframe tbody tr th {\n",
       "        vertical-align: top;\n",
       "    }\n",
       "\n",
       "    .dataframe thead th {\n",
       "        text-align: right;\n",
       "    }\n",
       "</style>\n",
       "<table border=\"1\" class=\"dataframe\">\n",
       "  <thead>\n",
       "    <tr style=\"text-align: right;\">\n",
       "      <th></th>\n",
       "      <th>PassengerId</th>\n",
       "      <th>Survived</th>\n",
       "      <th>Pclass</th>\n",
       "      <th>Age</th>\n",
       "      <th>SibSp</th>\n",
       "      <th>Parch</th>\n",
       "      <th>Fare</th>\n",
       "    </tr>\n",
       "  </thead>\n",
       "  <tbody>\n",
       "    <tr>\n",
       "      <th>count</th>\n",
       "      <td>891.000000</td>\n",
       "      <td>891.000000</td>\n",
       "      <td>891.000000</td>\n",
       "      <td>714.000000</td>\n",
       "      <td>891.000000</td>\n",
       "      <td>891.000000</td>\n",
       "      <td>891.000000</td>\n",
       "    </tr>\n",
       "    <tr>\n",
       "      <th>mean</th>\n",
       "      <td>446.000000</td>\n",
       "      <td>0.383838</td>\n",
       "      <td>2.308642</td>\n",
       "      <td>29.699118</td>\n",
       "      <td>0.523008</td>\n",
       "      <td>0.381594</td>\n",
       "      <td>32.204208</td>\n",
       "    </tr>\n",
       "    <tr>\n",
       "      <th>std</th>\n",
       "      <td>257.353842</td>\n",
       "      <td>0.486592</td>\n",
       "      <td>0.836071</td>\n",
       "      <td>14.526497</td>\n",
       "      <td>1.102743</td>\n",
       "      <td>0.806057</td>\n",
       "      <td>49.693429</td>\n",
       "    </tr>\n",
       "    <tr>\n",
       "      <th>min</th>\n",
       "      <td>1.000000</td>\n",
       "      <td>0.000000</td>\n",
       "      <td>1.000000</td>\n",
       "      <td>0.420000</td>\n",
       "      <td>0.000000</td>\n",
       "      <td>0.000000</td>\n",
       "      <td>0.000000</td>\n",
       "    </tr>\n",
       "    <tr>\n",
       "      <th>25%</th>\n",
       "      <td>223.500000</td>\n",
       "      <td>0.000000</td>\n",
       "      <td>2.000000</td>\n",
       "      <td>20.125000</td>\n",
       "      <td>0.000000</td>\n",
       "      <td>0.000000</td>\n",
       "      <td>7.910400</td>\n",
       "    </tr>\n",
       "    <tr>\n",
       "      <th>50%</th>\n",
       "      <td>446.000000</td>\n",
       "      <td>0.000000</td>\n",
       "      <td>3.000000</td>\n",
       "      <td>28.000000</td>\n",
       "      <td>0.000000</td>\n",
       "      <td>0.000000</td>\n",
       "      <td>14.454200</td>\n",
       "    </tr>\n",
       "    <tr>\n",
       "      <th>75%</th>\n",
       "      <td>668.500000</td>\n",
       "      <td>1.000000</td>\n",
       "      <td>3.000000</td>\n",
       "      <td>38.000000</td>\n",
       "      <td>1.000000</td>\n",
       "      <td>0.000000</td>\n",
       "      <td>31.000000</td>\n",
       "    </tr>\n",
       "    <tr>\n",
       "      <th>max</th>\n",
       "      <td>891.000000</td>\n",
       "      <td>1.000000</td>\n",
       "      <td>3.000000</td>\n",
       "      <td>80.000000</td>\n",
       "      <td>8.000000</td>\n",
       "      <td>6.000000</td>\n",
       "      <td>512.329200</td>\n",
       "    </tr>\n",
       "  </tbody>\n",
       "</table>\n",
       "</div>"
      ],
      "text/plain": [
       "       PassengerId    Survived      Pclass         Age       SibSp  \\\n",
       "count   891.000000  891.000000  891.000000  714.000000  891.000000   \n",
       "mean    446.000000    0.383838    2.308642   29.699118    0.523008   \n",
       "std     257.353842    0.486592    0.836071   14.526497    1.102743   \n",
       "min       1.000000    0.000000    1.000000    0.420000    0.000000   \n",
       "25%     223.500000    0.000000    2.000000   20.125000    0.000000   \n",
       "50%     446.000000    0.000000    3.000000   28.000000    0.000000   \n",
       "75%     668.500000    1.000000    3.000000   38.000000    1.000000   \n",
       "max     891.000000    1.000000    3.000000   80.000000    8.000000   \n",
       "\n",
       "            Parch        Fare  \n",
       "count  891.000000  891.000000  \n",
       "mean     0.381594   32.204208  \n",
       "std      0.806057   49.693429  \n",
       "min      0.000000    0.000000  \n",
       "25%      0.000000    7.910400  \n",
       "50%      0.000000   14.454200  \n",
       "75%      0.000000   31.000000  \n",
       "max      6.000000  512.329200  "
      ]
     },
     "execution_count": 26,
     "metadata": {},
     "output_type": "execute_result"
    }
   ],
   "source": [
    "train.describe()"
   ]
  },
  {
   "cell_type": "code",
   "execution_count": 27,
   "id": "f1b8cbbc",
   "metadata": {},
   "outputs": [
    {
     "name": "stdout",
     "output_type": "stream",
     "text": [
      "<class 'pandas.core.frame.DataFrame'>\n",
      "RangeIndex: 891 entries, 0 to 890\n",
      "Data columns (total 12 columns):\n",
      " #   Column       Non-Null Count  Dtype  \n",
      "---  ------       --------------  -----  \n",
      " 0   PassengerId  891 non-null    int64  \n",
      " 1   Survived     891 non-null    int64  \n",
      " 2   Pclass       891 non-null    int64  \n",
      " 3   Name         891 non-null    object \n",
      " 4   Sex          891 non-null    object \n",
      " 5   Age          714 non-null    float64\n",
      " 6   SibSp        891 non-null    int64  \n",
      " 7   Parch        891 non-null    int64  \n",
      " 8   Ticket       891 non-null    object \n",
      " 9   Fare         891 non-null    float64\n",
      " 10  Cabin        204 non-null    object \n",
      " 11  Embarked     889 non-null    object \n",
      "dtypes: float64(2), int64(5), object(5)\n",
      "memory usage: 83.7+ KB\n"
     ]
    }
   ],
   "source": [
    "train.info()"
   ]
  },
  {
   "cell_type": "code",
   "execution_count": 28,
   "id": "a6a618d5",
   "metadata": {},
   "outputs": [
    {
     "data": {
      "text/plain": [
       "PassengerId      0\n",
       "Survived         0\n",
       "Pclass           0\n",
       "Name             0\n",
       "Sex              0\n",
       "Age            177\n",
       "SibSp            0\n",
       "Parch            0\n",
       "Ticket           0\n",
       "Fare             0\n",
       "Cabin          687\n",
       "Embarked         2\n",
       "dtype: int64"
      ]
     },
     "execution_count": 28,
     "metadata": {},
     "output_type": "execute_result"
    }
   ],
   "source": [
    "train.isnull().sum(axis=0)"
   ]
  },
  {
   "cell_type": "code",
   "execution_count": 29,
   "id": "6b05758b",
   "metadata": {
    "scrolled": false
   },
   "outputs": [
    {
     "data": {
      "image/png": "[encoded data removed]",
      "text/plain": [
       "<Figure size 1000x500 with 6 Axes>"
      ]
     },
     "metadata": {},
     "output_type": "display_data"
    }
   ],
   "source": [
    "#analisis antes de limpieza de las que deberian ser categoricas y las actualmente son object, a excepcion de name, ticket y cabin\n",
    "\n",
    "cat_var=['Pclass','Sex', 'SibSp', 'Parch', 'Embarked'] \n",
    "\n",
    "fig,axs=plt.subplots(nrows=2,ncols=3,figsize=(10,5))\n",
    "axs=axs.flatten()\n",
    "\n",
    "for i, var in enumerate  (cat_var):\n",
    "    sns.countplot(x=var, data=train, hue='Survived',ax=axs[i])\n",
    "    axs[i].set_xticklabels(axs[i].get_xticklabels(),rotation=90)\n",
    "  \n",
    "    #abs_values = train[var].value_counts(ascending=False).values\n",
    "\n",
    "    #axs.bar_label(container=ax.containers[0], labels=abs_values)\n",
    "    \n",
    "fig.tight_layout()\n",
    "plt.show()"
   ]
  },
  {
   "cell_type": "code",
   "execution_count": 30,
   "id": "7bc1017b",
   "metadata": {},
   "outputs": [
    {
     "data": {
      "image/png": "[encoded data removed]",
      "text/plain": [
       "<Figure size 700x500 with 2 Axes>"
      ]
     },
     "metadata": {},
     "output_type": "display_data"
    }
   ],
   "source": [
    "num_vars=['Age','Fare'] \n",
    "\n",
    "fig, axs = plt.subplots(nrows=1, ncols=2, figsize=(7, 5))\n",
    "axs = axs.flatten()\n",
    "\n",
    "for i, var in enumerate(num_vars): \n",
    "    sns.boxplot(x=var, data=train,ax=axs[i])\n",
    "    \n",
    "fig.tight_layout()\n",
    "    \n",
    "plt.show()"
   ]
  },
  {
   "cell_type": "code",
   "execution_count": 31,
   "id": "11ee963a",
   "metadata": {},
   "outputs": [
    {
     "data": {
      "text/plain": [
       "<AxesSubplot:ylabel='Frequency'>"
      ]
     },
     "execution_count": 31,
     "metadata": {},
     "output_type": "execute_result"
    },
    {
     "data": {
      "image/png": "[encoded data removed]",
      "text/plain": [
       "<Figure size 640x480 with 1 Axes>"
      ]
     },
     "metadata": {},
     "output_type": "display_data"
    }
   ],
   "source": [
    "train['Age'].plot(kind='hist')"
   ]
  },
  {
   "cell_type": "code",
   "execution_count": 32,
   "id": "a535a659",
   "metadata": {},
   "outputs": [
    {
     "data": {
      "text/plain": [
       "array([nan, 'C85', 'C123', 'E46', 'G6', 'C103', 'D56', 'A6',\n",
       "       'C23 C25 C27', 'B78', 'D33', 'B30', 'C52', 'B28', 'C83', 'F33',\n",
       "       'F G73', 'E31', 'A5', 'D10 D12', 'D26', 'C110', 'B58 B60', 'E101',\n",
       "       'F E69', 'D47', 'B86', 'F2', 'C2', 'E33', 'B19', 'A7', 'C49', 'F4',\n",
       "       'A32', 'B4', 'B80', 'A31', 'D36', 'D15', 'C93', 'C78', 'D35',\n",
       "       'C87', 'B77', 'E67', 'B94', 'C125', 'C99', 'C118', 'D7', 'A19',\n",
       "       'B49', 'D', 'C22 C26', 'C106', 'C65', 'E36', 'C54',\n",
       "       'B57 B59 B63 B66', 'C7', 'E34', 'C32', 'B18', 'C124', 'C91', 'E40',\n",
       "       'T', 'C128', 'D37', 'B35', 'E50', 'C82', 'B96 B98', 'E10', 'E44',\n",
       "       'A34', 'C104', 'C111', 'C92', 'E38', 'D21', 'E12', 'E63', 'A14',\n",
       "       'B37', 'C30', 'D20', 'B79', 'E25', 'D46', 'B73', 'C95', 'B38',\n",
       "       'B39', 'B22', 'C86', 'C70', 'A16', 'C101', 'C68', 'A10', 'E68',\n",
       "       'B41', 'A20', 'D19', 'D50', 'D9', 'A23', 'B50', 'A26', 'D48',\n",
       "       'E58', 'C126', 'B71', 'B51 B53 B55', 'D49', 'B5', 'B20', 'F G63',\n",
       "       'C62 C64', 'E24', 'C90', 'C45', 'E8', 'B101', 'D45', 'C46', 'D30',\n",
       "       'E121', 'D11', 'E77', 'F38', 'B3', 'D6', 'B82 B84', 'D17', 'A36',\n",
       "       'B102', 'B69', 'E49', 'C47', 'D28', 'E17', 'A24', 'C50', 'B42',\n",
       "       'C148'], dtype=object)"
      ]
     },
     "execution_count": 32,
     "metadata": {},
     "output_type": "execute_result"
    }
   ],
   "source": [
    "#se quiere extraer solo la letra de cabina, para comparar con precio, pero hay filas/pasajero con varias cabinas, \n",
    "#se comprueba que tengan la misma letra de cabina, los que tienen mas de 1 cabina\n",
    "train['Cabin'].unique()"
   ]
  },
  {
   "cell_type": "code",
   "execution_count": 33,
   "id": "866b38d9",
   "metadata": {},
   "outputs": [
    {
     "data": {
      "text/plain": [
       "'C'"
      ]
     },
     "execution_count": 33,
     "metadata": {},
     "output_type": "execute_result"
    }
   ],
   "source": [
    "c=train['Cabin'][1][0]\n",
    "c"
   ]
  },
  {
   "cell_type": "code",
   "execution_count": 34,
   "id": "d8790a8f",
   "metadata": {},
   "outputs": [],
   "source": [
    "train2=train.copy()"
   ]
  },
  {
   "cell_type": "code",
   "execution_count": 35,
   "id": "bc4b17c1",
   "metadata": {},
   "outputs": [],
   "source": [
    "train2.dropna(inplace=True)"
   ]
  },
  {
   "cell_type": "code",
   "execution_count": 36,
   "id": "6acc5266",
   "metadata": {},
   "outputs": [],
   "source": [
    "train2['letter_cabin']=[palabra [0] for palabra in train2['Cabin']]"
   ]
  },
  {
   "cell_type": "code",
   "execution_count": 37,
   "id": "16e35140",
   "metadata": {},
   "outputs": [
    {
     "data": {
      "text/html": [
       "<div>\n",
       "<style scoped>\n",
       "    .dataframe tbody tr th:only-of-type {\n",
       "        vertical-align: middle;\n",
       "    }\n",
       "\n",
       "    .dataframe tbody tr th {\n",
       "        vertical-align: top;\n",
       "    }\n",
       "\n",
       "    .dataframe thead th {\n",
       "        text-align: right;\n",
       "    }\n",
       "</style>\n",
       "<table border=\"1\" class=\"dataframe\">\n",
       "  <thead>\n",
       "    <tr style=\"text-align: right;\">\n",
       "      <th></th>\n",
       "      <th>PassengerId</th>\n",
       "      <th>Survived</th>\n",
       "      <th>Pclass</th>\n",
       "      <th>Name</th>\n",
       "      <th>Sex</th>\n",
       "      <th>Age</th>\n",
       "      <th>SibSp</th>\n",
       "      <th>Parch</th>\n",
       "      <th>Ticket</th>\n",
       "      <th>Fare</th>\n",
       "      <th>Cabin</th>\n",
       "      <th>Embarked</th>\n",
       "      <th>letter_cabin</th>\n",
       "    </tr>\n",
       "  </thead>\n",
       "  <tbody>\n",
       "    <tr>\n",
       "      <th>1</th>\n",
       "      <td>2</td>\n",
       "      <td>1</td>\n",
       "      <td>1</td>\n",
       "      <td>Cumings, Mrs. John Bradley (Florence Briggs Th...</td>\n",
       "      <td>female</td>\n",
       "      <td>38.0</td>\n",
       "      <td>1</td>\n",
       "      <td>0</td>\n",
       "      <td>PC 17599</td>\n",
       "      <td>71.2833</td>\n",
       "      <td>C85</td>\n",
       "      <td>C</td>\n",
       "      <td>C</td>\n",
       "    </tr>\n",
       "    <tr>\n",
       "      <th>3</th>\n",
       "      <td>4</td>\n",
       "      <td>1</td>\n",
       "      <td>1</td>\n",
       "      <td>Futrelle, Mrs. Jacques Heath (Lily May Peel)</td>\n",
       "      <td>female</td>\n",
       "      <td>35.0</td>\n",
       "      <td>1</td>\n",
       "      <td>0</td>\n",
       "      <td>113803</td>\n",
       "      <td>53.1000</td>\n",
       "      <td>C123</td>\n",
       "      <td>S</td>\n",
       "      <td>C</td>\n",
       "    </tr>\n",
       "    <tr>\n",
       "      <th>6</th>\n",
       "      <td>7</td>\n",
       "      <td>0</td>\n",
       "      <td>1</td>\n",
       "      <td>McCarthy, Mr. Timothy J</td>\n",
       "      <td>male</td>\n",
       "      <td>54.0</td>\n",
       "      <td>0</td>\n",
       "      <td>0</td>\n",
       "      <td>17463</td>\n",
       "      <td>51.8625</td>\n",
       "      <td>E46</td>\n",
       "      <td>S</td>\n",
       "      <td>E</td>\n",
       "    </tr>\n",
       "    <tr>\n",
       "      <th>10</th>\n",
       "      <td>11</td>\n",
       "      <td>1</td>\n",
       "      <td>3</td>\n",
       "      <td>Sandstrom, Miss. Marguerite Rut</td>\n",
       "      <td>female</td>\n",
       "      <td>4.0</td>\n",
       "      <td>1</td>\n",
       "      <td>1</td>\n",
       "      <td>PP 9549</td>\n",
       "      <td>16.7000</td>\n",
       "      <td>G6</td>\n",
       "      <td>S</td>\n",
       "      <td>G</td>\n",
       "    </tr>\n",
       "    <tr>\n",
       "      <th>11</th>\n",
       "      <td>12</td>\n",
       "      <td>1</td>\n",
       "      <td>1</td>\n",
       "      <td>Bonnell, Miss. Elizabeth</td>\n",
       "      <td>female</td>\n",
       "      <td>58.0</td>\n",
       "      <td>0</td>\n",
       "      <td>0</td>\n",
       "      <td>113783</td>\n",
       "      <td>26.5500</td>\n",
       "      <td>C103</td>\n",
       "      <td>S</td>\n",
       "      <td>C</td>\n",
       "    </tr>\n",
       "  </tbody>\n",
       "</table>\n",
       "</div>"
      ],
      "text/plain": [
       "    PassengerId  Survived  Pclass  \\\n",
       "1             2         1       1   \n",
       "3             4         1       1   \n",
       "6             7         0       1   \n",
       "10           11         1       3   \n",
       "11           12         1       1   \n",
       "\n",
       "                                                 Name     Sex   Age  SibSp  \\\n",
       "1   Cumings, Mrs. John Bradley (Florence Briggs Th...  female  38.0      1   \n",
       "3        Futrelle, Mrs. Jacques Heath (Lily May Peel)  female  35.0      1   \n",
       "6                             McCarthy, Mr. Timothy J    male  54.0      0   \n",
       "10                    Sandstrom, Miss. Marguerite Rut  female   4.0      1   \n",
       "11                           Bonnell, Miss. Elizabeth  female  58.0      0   \n",
       "\n",
       "    Parch    Ticket     Fare Cabin Embarked letter_cabin  \n",
       "1       0  PC 17599  71.2833   C85        C            C  \n",
       "3       0    113803  53.1000  C123        S            C  \n",
       "6       0     17463  51.8625   E46        S            E  \n",
       "10      1   PP 9549  16.7000    G6        S            G  \n",
       "11      0    113783  26.5500  C103        S            C  "
      ]
     },
     "execution_count": 37,
     "metadata": {},
     "output_type": "execute_result"
    }
   ],
   "source": [
    "train2.head()"
   ]
  },
  {
   "cell_type": "code",
   "execution_count": 38,
   "id": "76795026",
   "metadata": {},
   "outputs": [
    {
     "data": {
      "image/png": "[encoded data removed]",
      "text/plain": [
       "<Figure size 640x480 with 1 Axes>"
      ]
     },
     "metadata": {},
     "output_type": "display_data"
    }
   ],
   "source": [
    "ax=sns.countplot(x='letter_cabin', data=train2, hue='Survived')\n",
    "abs_values = train2['letter_cabin'].value_counts(ascending=False).values\n",
    "\n",
    "\n",
    "ax.bar_label(container=ax.containers[0], labels=abs_values)\n",
    "plt.show()"
   ]
  },
  {
   "cell_type": "code",
   "execution_count": 39,
   "id": "68b1934f",
   "metadata": {},
   "outputs": [
    {
     "data": {
      "text/plain": [
       "<AxesSubplot:xlabel='letter_cabin'>"
      ]
     },
     "execution_count": 39,
     "metadata": {},
     "output_type": "execute_result"
    },
    {
     "data": {
      "image/png": "[encoded data removed]",
      "text/plain": [
       "<Figure size 1000x400 with 1 Axes>"
      ]
     },
     "metadata": {},
     "output_type": "display_data"
    }
   ],
   "source": [
    "train2.plot(x='letter_cabin',kind='bar', y=['Fare'],figsize=(10, 4))\n",
    "#no se ve una relacion entre cabina y precio, como para rellenar nulos"
   ]
  },
  {
   "cell_type": "markdown",
   "id": "7d2a4955",
   "metadata": {},
   "source": [
    "# Limpieza de set de datos train"
   ]
  },
  {
   "cell_type": "code",
   "execution_count": 40,
   "id": "7aad1bbc",
   "metadata": {},
   "outputs": [],
   "source": [
    "#por cantidad de nulos se elimna variable cabin\n",
    "train.drop(['Cabin'],axis=1, inplace=True)"
   ]
  },
  {
   "cell_type": "code",
   "execution_count": 41,
   "id": "85a28568",
   "metadata": {},
   "outputs": [],
   "source": [
    "df_num=train[['Age','Fare']]"
   ]
  },
  {
   "cell_type": "code",
   "execution_count": 42,
   "id": "6dc8fb35",
   "metadata": {},
   "outputs": [],
   "source": [
    "from sklearn.impute import KNNImputer"
   ]
  },
  {
   "cell_type": "code",
   "execution_count": 43,
   "id": "76128358",
   "metadata": {},
   "outputs": [],
   "source": [
    "#se aplica imputador knn para la var edad, viendo su histograma y boxplot no esta muy sesgado hacia los extremos, podria haberse reemplazado tb por la media\n",
    "imputer = KNNImputer(n_neighbors=5, weights=\"uniform\")\n",
    "imputer.fit(df_num)\n",
    "df_num = imputer.transform(df_num)"
   ]
  },
  {
   "cell_type": "code",
   "execution_count": 44,
   "id": "c56e95ab",
   "metadata": {},
   "outputs": [],
   "source": [
    "df_num=pd.DataFrame(df_num,columns=['Age','Fare'])"
   ]
  },
  {
   "cell_type": "code",
   "execution_count": 45,
   "id": "42c08101",
   "metadata": {},
   "outputs": [],
   "source": [
    "train.drop(['Age','Fare'],axis=1, inplace=True)"
   ]
  },
  {
   "cell_type": "code",
   "execution_count": 46,
   "id": "8c63741d",
   "metadata": {},
   "outputs": [],
   "source": [
    "train=pd.concat([train, df_num], axis=1)"
   ]
  },
  {
   "cell_type": "code",
   "execution_count": 47,
   "id": "009d8564",
   "metadata": {},
   "outputs": [],
   "source": [
    "#se reemplaza los nulos de embarked por moda\n",
    "train['Embarked'].fillna(train['Embarked'].mode()[0], inplace=True)"
   ]
  },
  {
   "cell_type": "code",
   "execution_count": 48,
   "id": "8fb53ff6",
   "metadata": {},
   "outputs": [
    {
     "data": {
      "text/plain": [
       "PassengerId    0\n",
       "Survived       0\n",
       "Pclass         0\n",
       "Name           0\n",
       "Sex            0\n",
       "SibSp          0\n",
       "Parch          0\n",
       "Ticket         0\n",
       "Embarked       0\n",
       "Age            0\n",
       "Fare           0\n",
       "dtype: int64"
      ]
     },
     "execution_count": 48,
     "metadata": {},
     "output_type": "execute_result"
    }
   ],
   "source": [
    "train.isnull().sum(axis=0) #se comprueba que ya no existen nulos"
   ]
  },
  {
   "cell_type": "code",
   "execution_count": 49,
   "id": "3f2659d7",
   "metadata": {},
   "outputs": [
    {
     "data": {
      "text/html": [
       "<div>\n",
       "<style scoped>\n",
       "    .dataframe tbody tr th:only-of-type {\n",
       "        vertical-align: middle;\n",
       "    }\n",
       "\n",
       "    .dataframe tbody tr th {\n",
       "        vertical-align: top;\n",
       "    }\n",
       "\n",
       "    .dataframe thead th {\n",
       "        text-align: right;\n",
       "    }\n",
       "</style>\n",
       "<table border=\"1\" class=\"dataframe\">\n",
       "  <thead>\n",
       "    <tr style=\"text-align: right;\">\n",
       "      <th></th>\n",
       "      <th>PassengerId</th>\n",
       "      <th>Survived</th>\n",
       "      <th>Pclass</th>\n",
       "      <th>SibSp</th>\n",
       "      <th>Parch</th>\n",
       "      <th>Age</th>\n",
       "      <th>Fare</th>\n",
       "    </tr>\n",
       "  </thead>\n",
       "  <tbody>\n",
       "    <tr>\n",
       "      <th>count</th>\n",
       "      <td>891.000000</td>\n",
       "      <td>891.000000</td>\n",
       "      <td>891.000000</td>\n",
       "      <td>891.000000</td>\n",
       "      <td>891.000000</td>\n",
       "      <td>891.000000</td>\n",
       "      <td>891.000000</td>\n",
       "    </tr>\n",
       "    <tr>\n",
       "      <th>mean</th>\n",
       "      <td>446.000000</td>\n",
       "      <td>0.383838</td>\n",
       "      <td>2.308642</td>\n",
       "      <td>0.523008</td>\n",
       "      <td>0.381594</td>\n",
       "      <td>29.638278</td>\n",
       "      <td>32.204208</td>\n",
       "    </tr>\n",
       "    <tr>\n",
       "      <th>std</th>\n",
       "      <td>257.353842</td>\n",
       "      <td>0.486592</td>\n",
       "      <td>0.836071</td>\n",
       "      <td>1.102743</td>\n",
       "      <td>0.806057</td>\n",
       "      <td>13.357812</td>\n",
       "      <td>49.693429</td>\n",
       "    </tr>\n",
       "    <tr>\n",
       "      <th>min</th>\n",
       "      <td>1.000000</td>\n",
       "      <td>0.000000</td>\n",
       "      <td>1.000000</td>\n",
       "      <td>0.000000</td>\n",
       "      <td>0.000000</td>\n",
       "      <td>0.420000</td>\n",
       "      <td>0.000000</td>\n",
       "    </tr>\n",
       "    <tr>\n",
       "      <th>25%</th>\n",
       "      <td>223.500000</td>\n",
       "      <td>0.000000</td>\n",
       "      <td>2.000000</td>\n",
       "      <td>0.000000</td>\n",
       "      <td>0.000000</td>\n",
       "      <td>22.000000</td>\n",
       "      <td>7.910400</td>\n",
       "    </tr>\n",
       "    <tr>\n",
       "      <th>50%</th>\n",
       "      <td>446.000000</td>\n",
       "      <td>0.000000</td>\n",
       "      <td>3.000000</td>\n",
       "      <td>0.000000</td>\n",
       "      <td>0.000000</td>\n",
       "      <td>28.000000</td>\n",
       "      <td>14.454200</td>\n",
       "    </tr>\n",
       "    <tr>\n",
       "      <th>75%</th>\n",
       "      <td>668.500000</td>\n",
       "      <td>1.000000</td>\n",
       "      <td>3.000000</td>\n",
       "      <td>1.000000</td>\n",
       "      <td>0.000000</td>\n",
       "      <td>36.400000</td>\n",
       "      <td>31.000000</td>\n",
       "    </tr>\n",
       "    <tr>\n",
       "      <th>max</th>\n",
       "      <td>891.000000</td>\n",
       "      <td>1.000000</td>\n",
       "      <td>3.000000</td>\n",
       "      <td>8.000000</td>\n",
       "      <td>6.000000</td>\n",
       "      <td>80.000000</td>\n",
       "      <td>512.329200</td>\n",
       "    </tr>\n",
       "  </tbody>\n",
       "</table>\n",
       "</div>"
      ],
      "text/plain": [
       "       PassengerId    Survived      Pclass       SibSp       Parch  \\\n",
       "count   891.000000  891.000000  891.000000  891.000000  891.000000   \n",
       "mean    446.000000    0.383838    2.308642    0.523008    0.381594   \n",
       "std     257.353842    0.486592    0.836071    1.102743    0.806057   \n",
       "min       1.000000    0.000000    1.000000    0.000000    0.000000   \n",
       "25%     223.500000    0.000000    2.000000    0.000000    0.000000   \n",
       "50%     446.000000    0.000000    3.000000    0.000000    0.000000   \n",
       "75%     668.500000    1.000000    3.000000    1.000000    0.000000   \n",
       "max     891.000000    1.000000    3.000000    8.000000    6.000000   \n",
       "\n",
       "              Age        Fare  \n",
       "count  891.000000  891.000000  \n",
       "mean    29.638278   32.204208  \n",
       "std     13.357812   49.693429  \n",
       "min      0.420000    0.000000  \n",
       "25%     22.000000    7.910400  \n",
       "50%     28.000000   14.454200  \n",
       "75%     36.400000   31.000000  \n",
       "max     80.000000  512.329200  "
      ]
     },
     "execution_count": 49,
     "metadata": {},
     "output_type": "execute_result"
    }
   ],
   "source": [
    "train.describe()\n",
    "#la distribucion de age no cambia drasticamente con la imputacion"
   ]
  },
  {
   "cell_type": "code",
   "execution_count": 50,
   "id": "a086ec81",
   "metadata": {},
   "outputs": [
    {
     "data": {
      "text/html": [
       "<div>\n",
       "<style scoped>\n",
       "    .dataframe tbody tr th:only-of-type {\n",
       "        vertical-align: middle;\n",
       "    }\n",
       "\n",
       "    .dataframe tbody tr th {\n",
       "        vertical-align: top;\n",
       "    }\n",
       "\n",
       "    .dataframe thead th {\n",
       "        text-align: right;\n",
       "    }\n",
       "</style>\n",
       "<table border=\"1\" class=\"dataframe\">\n",
       "  <thead>\n",
       "    <tr style=\"text-align: right;\">\n",
       "      <th></th>\n",
       "      <th>PassengerId</th>\n",
       "      <th>Survived</th>\n",
       "      <th>Pclass</th>\n",
       "      <th>Name</th>\n",
       "      <th>Sex</th>\n",
       "      <th>SibSp</th>\n",
       "      <th>Parch</th>\n",
       "      <th>Ticket</th>\n",
       "      <th>Embarked</th>\n",
       "      <th>Age</th>\n",
       "      <th>Fare</th>\n",
       "    </tr>\n",
       "  </thead>\n",
       "  <tbody>\n",
       "    <tr>\n",
       "      <th>0</th>\n",
       "      <td>1</td>\n",
       "      <td>0</td>\n",
       "      <td>3</td>\n",
       "      <td>Braund, Mr. Owen Harris</td>\n",
       "      <td>male</td>\n",
       "      <td>1</td>\n",
       "      <td>0</td>\n",
       "      <td>A/5 21171</td>\n",
       "      <td>S</td>\n",
       "      <td>22.0</td>\n",
       "      <td>7.2500</td>\n",
       "    </tr>\n",
       "    <tr>\n",
       "      <th>1</th>\n",
       "      <td>2</td>\n",
       "      <td>1</td>\n",
       "      <td>1</td>\n",
       "      <td>Cumings, Mrs. John Bradley (Florence Briggs Th...</td>\n",
       "      <td>female</td>\n",
       "      <td>1</td>\n",
       "      <td>0</td>\n",
       "      <td>PC 17599</td>\n",
       "      <td>C</td>\n",
       "      <td>38.0</td>\n",
       "      <td>71.2833</td>\n",
       "    </tr>\n",
       "    <tr>\n",
       "      <th>2</th>\n",
       "      <td>3</td>\n",
       "      <td>1</td>\n",
       "      <td>3</td>\n",
       "      <td>Heikkinen, Miss. Laina</td>\n",
       "      <td>female</td>\n",
       "      <td>0</td>\n",
       "      <td>0</td>\n",
       "      <td>STON/O2. 3101282</td>\n",
       "      <td>S</td>\n",
       "      <td>26.0</td>\n",
       "      <td>7.9250</td>\n",
       "    </tr>\n",
       "    <tr>\n",
       "      <th>3</th>\n",
       "      <td>4</td>\n",
       "      <td>1</td>\n",
       "      <td>1</td>\n",
       "      <td>Futrelle, Mrs. Jacques Heath (Lily May Peel)</td>\n",
       "      <td>female</td>\n",
       "      <td>1</td>\n",
       "      <td>0</td>\n",
       "      <td>113803</td>\n",
       "      <td>S</td>\n",
       "      <td>35.0</td>\n",
       "      <td>53.1000</td>\n",
       "    </tr>\n",
       "    <tr>\n",
       "      <th>4</th>\n",
       "      <td>5</td>\n",
       "      <td>0</td>\n",
       "      <td>3</td>\n",
       "      <td>Allen, Mr. William Henry</td>\n",
       "      <td>male</td>\n",
       "      <td>0</td>\n",
       "      <td>0</td>\n",
       "      <td>373450</td>\n",
       "      <td>S</td>\n",
       "      <td>35.0</td>\n",
       "      <td>8.0500</td>\n",
       "    </tr>\n",
       "  </tbody>\n",
       "</table>\n",
       "</div>"
      ],
      "text/plain": [
       "   PassengerId  Survived  Pclass  \\\n",
       "0            1         0       3   \n",
       "1            2         1       1   \n",
       "2            3         1       3   \n",
       "3            4         1       1   \n",
       "4            5         0       3   \n",
       "\n",
       "                                                Name     Sex  SibSp  Parch  \\\n",
       "0                            Braund, Mr. Owen Harris    male      1      0   \n",
       "1  Cumings, Mrs. John Bradley (Florence Briggs Th...  female      1      0   \n",
       "2                             Heikkinen, Miss. Laina  female      0      0   \n",
       "3       Futrelle, Mrs. Jacques Heath (Lily May Peel)  female      1      0   \n",
       "4                           Allen, Mr. William Henry    male      0      0   \n",
       "\n",
       "             Ticket Embarked   Age     Fare  \n",
       "0         A/5 21171        S  22.0   7.2500  \n",
       "1          PC 17599        C  38.0  71.2833  \n",
       "2  STON/O2. 3101282        S  26.0   7.9250  \n",
       "3            113803        S  35.0  53.1000  \n",
       "4            373450        S  35.0   8.0500  "
      ]
     },
     "execution_count": 50,
     "metadata": {},
     "output_type": "execute_result"
    }
   ],
   "source": [
    "train.head()"
   ]
  },
  {
   "cell_type": "markdown",
   "id": "7eaf8d8c",
   "metadata": {},
   "source": [
    "# Analisis exploratorio"
   ]
  },
  {
   "cell_type": "markdown",
   "id": "fa316ab1",
   "metadata": {},
   "source": [
    "Con datos limpios del set de datos de entrenamiento, se realiza un analisis exploratorio"
   ]
  },
  {
   "cell_type": "code",
   "execution_count": 51,
   "id": "22e282e7",
   "metadata": {},
   "outputs": [],
   "source": [
    "#se cambian los tipos de datos\n",
    "train['Pclass'] = train['Pclass'].astype(str)\n",
    "train['Survived'] = train['Survived'].astype(str)\n",
    "train['SibSp'] = train['SibSp'].astype(str)\n",
    "train['Parch'] = train['Parch'].astype(str)\n",
    "train['PassengerId'] = train['PassengerId'].astype(str)\n",
    "#no olvidar ejecutar despues de ver nulos, si no no los encuentra"
   ]
  },
  {
   "cell_type": "code",
   "execution_count": 52,
   "id": "08a8ea78",
   "metadata": {},
   "outputs": [
    {
     "name": "stdout",
     "output_type": "stream",
     "text": [
      "<class 'pandas.core.frame.DataFrame'>\n",
      "RangeIndex: 891 entries, 0 to 890\n",
      "Data columns (total 11 columns):\n",
      " #   Column       Non-Null Count  Dtype  \n",
      "---  ------       --------------  -----  \n",
      " 0   PassengerId  891 non-null    object \n",
      " 1   Survived     891 non-null    object \n",
      " 2   Pclass       891 non-null    object \n",
      " 3   Name         891 non-null    object \n",
      " 4   Sex          891 non-null    object \n",
      " 5   SibSp        891 non-null    object \n",
      " 6   Parch        891 non-null    object \n",
      " 7   Ticket       891 non-null    object \n",
      " 8   Embarked     891 non-null    object \n",
      " 9   Age          891 non-null    float64\n",
      " 10  Fare         891 non-null    float64\n",
      "dtypes: float64(2), object(9)\n",
      "memory usage: 76.7+ KB\n"
     ]
    }
   ],
   "source": [
    "train.info()"
   ]
  },
  {
   "cell_type": "code",
   "execution_count": 53,
   "id": "ee2eb996",
   "metadata": {},
   "outputs": [
    {
     "data": {
      "image/png": "[encoded data removed]",
      "text/plain": [
       "<Figure size 1000x500 with 6 Axes>"
      ]
     },
     "metadata": {},
     "output_type": "display_data"
    }
   ],
   "source": [
    "cat_var=['Pclass','Sex', 'SibSp', 'Parch', 'Embarked']\n",
    "fig,axs=plt.subplots(nrows=2,ncols=3,figsize=(10,5))\n",
    "axs=axs.flatten()\n",
    "\n",
    "for i, var in enumerate  (cat_var):\n",
    "    sns.histplot(x=var,hue='Survived', data=train,ax=axs[i],\n",
    "                 multiple = \"fill\",\n",
    "                 kde = False, element = \"bars\", fill= True, \n",
    "                 stat = \"density\"\n",
    "                )\n",
    "    axs[i].set_xticklabels(train[var].unique(), rotation=90)\n",
    "    axs[i].set_xlabel(var)\n",
    "fig.tight_layout()\n",
    "plt.show()\n",
    "\n",
    "#se vio que habia mas gente en 3ra clase, mas hombres y mas gente que embarco en Southampton (S), sin embargo,\n",
    "#proporcionalmente hablando mas mujeres se salvaron, también mas personas de 1ra clase y más personas que embarcaron en\n",
    "# Cherbourg (C) se salvaron.\n"
   ]
  },
  {
   "cell_type": "code",
   "execution_count": 54,
   "id": "436f8a84",
   "metadata": {},
   "outputs": [
    {
     "data": {
      "image/png": "[encoded data removed]",
      "text/plain": [
       "<Figure size 700x500 with 2 Axes>"
      ]
     },
     "metadata": {},
     "output_type": "display_data"
    }
   ],
   "source": [
    "num_vars=['Age','Fare'] \n",
    "\n",
    "fig, axs = plt.subplots(nrows=1, ncols=2, figsize=(7, 5))\n",
    "axs = axs.flatten()\n",
    "\n",
    "for i, var in enumerate(num_vars): \n",
    "    sns.boxplot(x=var, data=train,ax=axs[i])\n",
    "    \n",
    "fig.tight_layout()\n",
    "    \n",
    "plt.show()\n",
    "#ambos muestran outliers, pero Fare tiene mas"
   ]
  },
  {
   "cell_type": "code",
   "execution_count": 55,
   "id": "216c0437",
   "metadata": {},
   "outputs": [],
   "source": [
    "#se vuelven a codificar como numericas para aplicar los algoritmos\n",
    "train['Pclass'] = train['Pclass'].astype(int)\n",
    "train['Survived'] = train['Survived'].astype(int)\n",
    "train['SibSp'] = train['SibSp'].astype(int)\n",
    "train['Parch'] = train['Parch'].astype(int)"
   ]
  },
  {
   "cell_type": "markdown",
   "id": "c70b3908",
   "metadata": {},
   "source": [
    "Se aplica one hot encoding para transformar variables categoricas a etiquetas numericas. Con esto tendrian una distribucion mas cercana a una normal"
   ]
  },
  {
   "cell_type": "code",
   "execution_count": 56,
   "id": "9b8be840",
   "metadata": {},
   "outputs": [],
   "source": [
    "from sklearn import preprocessing\n",
    "label_encoder = preprocessing.LabelEncoder()\n",
    "train['Sex']= label_encoder.fit_transform(train['Sex'])\n",
    "train['Embarked']= label_encoder.fit_transform(train['Embarked'])"
   ]
  },
  {
   "cell_type": "code",
   "execution_count": 57,
   "id": "884dc052",
   "metadata": {},
   "outputs": [
    {
     "data": {
      "text/html": [
       "<div>\n",
       "<style scoped>\n",
       "    .dataframe tbody tr th:only-of-type {\n",
       "        vertical-align: middle;\n",
       "    }\n",
       "\n",
       "    .dataframe tbody tr th {\n",
       "        vertical-align: top;\n",
       "    }\n",
       "\n",
       "    .dataframe thead th {\n",
       "        text-align: right;\n",
       "    }\n",
       "</style>\n",
       "<table border=\"1\" class=\"dataframe\">\n",
       "  <thead>\n",
       "    <tr style=\"text-align: right;\">\n",
       "      <th></th>\n",
       "      <th>PassengerId</th>\n",
       "      <th>Survived</th>\n",
       "      <th>Pclass</th>\n",
       "      <th>Name</th>\n",
       "      <th>Sex</th>\n",
       "      <th>SibSp</th>\n",
       "      <th>Parch</th>\n",
       "      <th>Ticket</th>\n",
       "      <th>Embarked</th>\n",
       "      <th>Age</th>\n",
       "      <th>Fare</th>\n",
       "    </tr>\n",
       "  </thead>\n",
       "  <tbody>\n",
       "    <tr>\n",
       "      <th>0</th>\n",
       "      <td>1</td>\n",
       "      <td>0</td>\n",
       "      <td>3</td>\n",
       "      <td>Braund, Mr. Owen Harris</td>\n",
       "      <td>1</td>\n",
       "      <td>1</td>\n",
       "      <td>0</td>\n",
       "      <td>A/5 21171</td>\n",
       "      <td>2</td>\n",
       "      <td>22.0</td>\n",
       "      <td>7.2500</td>\n",
       "    </tr>\n",
       "    <tr>\n",
       "      <th>1</th>\n",
       "      <td>2</td>\n",
       "      <td>1</td>\n",
       "      <td>1</td>\n",
       "      <td>Cumings, Mrs. John Bradley (Florence Briggs Th...</td>\n",
       "      <td>0</td>\n",
       "      <td>1</td>\n",
       "      <td>0</td>\n",
       "      <td>PC 17599</td>\n",
       "      <td>0</td>\n",
       "      <td>38.0</td>\n",
       "      <td>71.2833</td>\n",
       "    </tr>\n",
       "    <tr>\n",
       "      <th>2</th>\n",
       "      <td>3</td>\n",
       "      <td>1</td>\n",
       "      <td>3</td>\n",
       "      <td>Heikkinen, Miss. Laina</td>\n",
       "      <td>0</td>\n",
       "      <td>0</td>\n",
       "      <td>0</td>\n",
       "      <td>STON/O2. 3101282</td>\n",
       "      <td>2</td>\n",
       "      <td>26.0</td>\n",
       "      <td>7.9250</td>\n",
       "    </tr>\n",
       "    <tr>\n",
       "      <th>3</th>\n",
       "      <td>4</td>\n",
       "      <td>1</td>\n",
       "      <td>1</td>\n",
       "      <td>Futrelle, Mrs. Jacques Heath (Lily May Peel)</td>\n",
       "      <td>0</td>\n",
       "      <td>1</td>\n",
       "      <td>0</td>\n",
       "      <td>113803</td>\n",
       "      <td>2</td>\n",
       "      <td>35.0</td>\n",
       "      <td>53.1000</td>\n",
       "    </tr>\n",
       "    <tr>\n",
       "      <th>4</th>\n",
       "      <td>5</td>\n",
       "      <td>0</td>\n",
       "      <td>3</td>\n",
       "      <td>Allen, Mr. William Henry</td>\n",
       "      <td>1</td>\n",
       "      <td>0</td>\n",
       "      <td>0</td>\n",
       "      <td>373450</td>\n",
       "      <td>2</td>\n",
       "      <td>35.0</td>\n",
       "      <td>8.0500</td>\n",
       "    </tr>\n",
       "  </tbody>\n",
       "</table>\n",
       "</div>"
      ],
      "text/plain": [
       "  PassengerId  Survived  Pclass  \\\n",
       "0           1         0       3   \n",
       "1           2         1       1   \n",
       "2           3         1       3   \n",
       "3           4         1       1   \n",
       "4           5         0       3   \n",
       "\n",
       "                                                Name  Sex  SibSp  Parch  \\\n",
       "0                            Braund, Mr. Owen Harris    1      1      0   \n",
       "1  Cumings, Mrs. John Bradley (Florence Briggs Th...    0      1      0   \n",
       "2                             Heikkinen, Miss. Laina    0      0      0   \n",
       "3       Futrelle, Mrs. Jacques Heath (Lily May Peel)    0      1      0   \n",
       "4                           Allen, Mr. William Henry    1      0      0   \n",
       "\n",
       "             Ticket  Embarked   Age     Fare  \n",
       "0         A/5 21171         2  22.0   7.2500  \n",
       "1          PC 17599         0  38.0  71.2833  \n",
       "2  STON/O2. 3101282         2  26.0   7.9250  \n",
       "3            113803         2  35.0  53.1000  \n",
       "4            373450         2  35.0   8.0500  "
      ]
     },
     "execution_count": 57,
     "metadata": {},
     "output_type": "execute_result"
    }
   ],
   "source": [
    "train.head()"
   ]
  },
  {
   "cell_type": "code",
   "execution_count": 58,
   "id": "9d3a0fc3",
   "metadata": {},
   "outputs": [
    {
     "data": {
      "text/plain": [
       "0    549\n",
       "1    342\n",
       "Name: Survived, dtype: int64"
      ]
     },
     "execution_count": 58,
     "metadata": {},
     "output_type": "execute_result"
    },
    {
     "data": {
      "image/png": "[encoded data removed]",
      "text/plain": [
       "<Figure size 640x480 with 1 Axes>"
      ]
     },
     "metadata": {},
     "output_type": "display_data"
    }
   ],
   "source": [
    "#se analiza el balanceado de etiquetas\n",
    "sns.countplot(train['Survived'])\n",
    "train['Survived'].value_counts()"
   ]
  },
  {
   "cell_type": "code",
   "execution_count": 59,
   "id": "c249ddb9",
   "metadata": {},
   "outputs": [
    {
     "data": {
      "text/html": [
       "<div>\n",
       "<style scoped>\n",
       "    .dataframe tbody tr th:only-of-type {\n",
       "        vertical-align: middle;\n",
       "    }\n",
       "\n",
       "    .dataframe tbody tr th {\n",
       "        vertical-align: top;\n",
       "    }\n",
       "\n",
       "    .dataframe thead th {\n",
       "        text-align: right;\n",
       "    }\n",
       "</style>\n",
       "<table border=\"1\" class=\"dataframe\">\n",
       "  <thead>\n",
       "    <tr style=\"text-align: right;\">\n",
       "      <th></th>\n",
       "      <th>PassengerId</th>\n",
       "      <th>Survived</th>\n",
       "      <th>Pclass</th>\n",
       "      <th>Name</th>\n",
       "      <th>Sex</th>\n",
       "      <th>SibSp</th>\n",
       "      <th>Parch</th>\n",
       "      <th>Ticket</th>\n",
       "      <th>Embarked</th>\n",
       "      <th>Age</th>\n",
       "      <th>Fare</th>\n",
       "    </tr>\n",
       "  </thead>\n",
       "  <tbody>\n",
       "    <tr>\n",
       "      <th>443</th>\n",
       "      <td>444</td>\n",
       "      <td>1</td>\n",
       "      <td>2</td>\n",
       "      <td>Reynaldo, Ms. Encarnacion</td>\n",
       "      <td>0</td>\n",
       "      <td>0</td>\n",
       "      <td>0</td>\n",
       "      <td>230434</td>\n",
       "      <td>2</td>\n",
       "      <td>28.0</td>\n",
       "      <td>13.0000</td>\n",
       "    </tr>\n",
       "    <tr>\n",
       "      <th>128</th>\n",
       "      <td>129</td>\n",
       "      <td>1</td>\n",
       "      <td>3</td>\n",
       "      <td>Peter, Miss. Anna</td>\n",
       "      <td>0</td>\n",
       "      <td>1</td>\n",
       "      <td>1</td>\n",
       "      <td>2668</td>\n",
       "      <td>0</td>\n",
       "      <td>17.6</td>\n",
       "      <td>22.3583</td>\n",
       "    </tr>\n",
       "    <tr>\n",
       "      <th>315</th>\n",
       "      <td>316</td>\n",
       "      <td>1</td>\n",
       "      <td>3</td>\n",
       "      <td>Nilsson, Miss. Helmina Josefina</td>\n",
       "      <td>0</td>\n",
       "      <td>0</td>\n",
       "      <td>0</td>\n",
       "      <td>347470</td>\n",
       "      <td>2</td>\n",
       "      <td>26.0</td>\n",
       "      <td>7.8542</td>\n",
       "    </tr>\n",
       "    <tr>\n",
       "      <th>496</th>\n",
       "      <td>497</td>\n",
       "      <td>1</td>\n",
       "      <td>1</td>\n",
       "      <td>Eustis, Miss. Elizabeth Mussey</td>\n",
       "      <td>0</td>\n",
       "      <td>1</td>\n",
       "      <td>0</td>\n",
       "      <td>36947</td>\n",
       "      <td>0</td>\n",
       "      <td>54.0</td>\n",
       "      <td>78.2667</td>\n",
       "    </tr>\n",
       "    <tr>\n",
       "      <th>839</th>\n",
       "      <td>840</td>\n",
       "      <td>1</td>\n",
       "      <td>1</td>\n",
       "      <td>Marechal, Mr. Pierre</td>\n",
       "      <td>1</td>\n",
       "      <td>0</td>\n",
       "      <td>0</td>\n",
       "      <td>11774</td>\n",
       "      <td>0</td>\n",
       "      <td>33.6</td>\n",
       "      <td>29.7000</td>\n",
       "    </tr>\n",
       "  </tbody>\n",
       "</table>\n",
       "</div>"
      ],
      "text/plain": [
       "    PassengerId  Survived  Pclass                             Name  Sex  \\\n",
       "443         444         1       2        Reynaldo, Ms. Encarnacion    0   \n",
       "128         129         1       3                Peter, Miss. Anna    0   \n",
       "315         316         1       3  Nilsson, Miss. Helmina Josefina    0   \n",
       "496         497         1       1   Eustis, Miss. Elizabeth Mussey    0   \n",
       "839         840         1       1             Marechal, Mr. Pierre    1   \n",
       "\n",
       "     SibSp  Parch  Ticket  Embarked   Age     Fare  \n",
       "443      0      0  230434         2  28.0  13.0000  \n",
       "128      1      1    2668         0  17.6  22.3583  \n",
       "315      0      0  347470         2  26.0   7.8542  \n",
       "496      1      0   36947         0  54.0  78.2667  \n",
       "839      0      0   11774         0  33.6  29.7000  "
      ]
     },
     "execution_count": 59,
     "metadata": {},
     "output_type": "execute_result"
    }
   ],
   "source": [
    "# si bien se ve que la base tiene un 61% (no) vs (39%) si, se decide balancear\n",
    "from sklearn.utils import resample\n",
    "\n",
    "df_majority=train[(train['Survived']==0)] \n",
    "df_minority=train[(train['Survived']==1)]\n",
    "\n",
    "# muestreo ascendente de la clase minoritaria\n",
    "df_minority_unsampled=resample(df_minority, \n",
    "                              replace=True, \n",
    "                              n_samples=549, \n",
    "                              random_state=0) \n",
    "\n",
    "# Combinar la clase mayoritaria con la muestra ascendente de la clase minoritaria \n",
    "df_upsampled=pd.concat([df_minority_unsampled,df_majority]) #junta tablas\n",
    "df_upsampled.head()"
   ]
  },
  {
   "cell_type": "code",
   "execution_count": 60,
   "id": "aebb2c11",
   "metadata": {},
   "outputs": [
    {
     "data": {
      "text/plain": [
       "1    549\n",
       "0    549\n",
       "Name: Survived, dtype: int64"
      ]
     },
     "execution_count": 60,
     "metadata": {},
     "output_type": "execute_result"
    },
    {
     "data": {
      "image/png": "[encoded data removed]",
      "text/plain": [
       "<Figure size 640x480 with 1 Axes>"
      ]
     },
     "metadata": {},
     "output_type": "display_data"
    }
   ],
   "source": [
    "#despues del balanceo\n",
    "sns.countplot(df_upsampled['Survived'])\n",
    "df_upsampled['Survived'].value_counts()"
   ]
  },
  {
   "cell_type": "code",
   "execution_count": 61,
   "id": "77a84a3b",
   "metadata": {},
   "outputs": [
    {
     "data": {
      "text/plain": [
       "(1098, 11)"
      ]
     },
     "execution_count": 61,
     "metadata": {},
     "output_type": "execute_result"
    }
   ],
   "source": [
    "df_upsampled.shape"
   ]
  },
  {
   "cell_type": "code",
   "execution_count": 62,
   "id": "52cb206f",
   "metadata": {},
   "outputs": [
    {
     "data": {
      "text/html": [
       "<div>\n",
       "<style scoped>\n",
       "    .dataframe tbody tr th:only-of-type {\n",
       "        vertical-align: middle;\n",
       "    }\n",
       "\n",
       "    .dataframe tbody tr th {\n",
       "        vertical-align: top;\n",
       "    }\n",
       "\n",
       "    .dataframe thead th {\n",
       "        text-align: right;\n",
       "    }\n",
       "</style>\n",
       "<table border=\"1\" class=\"dataframe\">\n",
       "  <thead>\n",
       "    <tr style=\"text-align: right;\">\n",
       "      <th></th>\n",
       "      <th>PassengerId</th>\n",
       "      <th>Survived</th>\n",
       "      <th>Pclass</th>\n",
       "      <th>Name</th>\n",
       "      <th>Sex</th>\n",
       "      <th>SibSp</th>\n",
       "      <th>Parch</th>\n",
       "      <th>Ticket</th>\n",
       "      <th>Embarked</th>\n",
       "      <th>Age</th>\n",
       "      <th>Fare</th>\n",
       "    </tr>\n",
       "  </thead>\n",
       "  <tbody>\n",
       "    <tr>\n",
       "      <th>443</th>\n",
       "      <td>444</td>\n",
       "      <td>1</td>\n",
       "      <td>2</td>\n",
       "      <td>Reynaldo, Ms. Encarnacion</td>\n",
       "      <td>0</td>\n",
       "      <td>0</td>\n",
       "      <td>0</td>\n",
       "      <td>230434</td>\n",
       "      <td>2</td>\n",
       "      <td>28.0</td>\n",
       "      <td>13.0000</td>\n",
       "    </tr>\n",
       "    <tr>\n",
       "      <th>128</th>\n",
       "      <td>129</td>\n",
       "      <td>1</td>\n",
       "      <td>3</td>\n",
       "      <td>Peter, Miss. Anna</td>\n",
       "      <td>0</td>\n",
       "      <td>1</td>\n",
       "      <td>1</td>\n",
       "      <td>2668</td>\n",
       "      <td>0</td>\n",
       "      <td>17.6</td>\n",
       "      <td>22.3583</td>\n",
       "    </tr>\n",
       "    <tr>\n",
       "      <th>315</th>\n",
       "      <td>316</td>\n",
       "      <td>1</td>\n",
       "      <td>3</td>\n",
       "      <td>Nilsson, Miss. Helmina Josefina</td>\n",
       "      <td>0</td>\n",
       "      <td>0</td>\n",
       "      <td>0</td>\n",
       "      <td>347470</td>\n",
       "      <td>2</td>\n",
       "      <td>26.0</td>\n",
       "      <td>7.8542</td>\n",
       "    </tr>\n",
       "    <tr>\n",
       "      <th>839</th>\n",
       "      <td>840</td>\n",
       "      <td>1</td>\n",
       "      <td>1</td>\n",
       "      <td>Marechal, Mr. Pierre</td>\n",
       "      <td>1</td>\n",
       "      <td>0</td>\n",
       "      <td>0</td>\n",
       "      <td>11774</td>\n",
       "      <td>0</td>\n",
       "      <td>33.6</td>\n",
       "      <td>29.7000</td>\n",
       "    </tr>\n",
       "    <tr>\n",
       "      <th>643</th>\n",
       "      <td>644</td>\n",
       "      <td>1</td>\n",
       "      <td>3</td>\n",
       "      <td>Foo, Mr. Choong</td>\n",
       "      <td>1</td>\n",
       "      <td>0</td>\n",
       "      <td>0</td>\n",
       "      <td>1601</td>\n",
       "      <td>2</td>\n",
       "      <td>29.6</td>\n",
       "      <td>56.4958</td>\n",
       "    </tr>\n",
       "  </tbody>\n",
       "</table>\n",
       "</div>"
      ],
      "text/plain": [
       "    PassengerId  Survived  Pclass                             Name  Sex  \\\n",
       "443         444         1       2        Reynaldo, Ms. Encarnacion    0   \n",
       "128         129         1       3                Peter, Miss. Anna    0   \n",
       "315         316         1       3  Nilsson, Miss. Helmina Josefina    0   \n",
       "839         840         1       1             Marechal, Mr. Pierre    1   \n",
       "643         644         1       3                  Foo, Mr. Choong    1   \n",
       "\n",
       "     SibSp  Parch  Ticket  Embarked   Age     Fare  \n",
       "443      0      0  230434         2  28.0  13.0000  \n",
       "128      1      1    2668         0  17.6  22.3583  \n",
       "315      0      0  347470         2  26.0   7.8542  \n",
       "839      0      0   11774         0  33.6  29.7000  \n",
       "643      0      0    1601         2  29.6  56.4958  "
      ]
     },
     "execution_count": 62,
     "metadata": {},
     "output_type": "execute_result"
    }
   ],
   "source": [
    "#se eliminan outliers de var numericas, con esto se pareceran mas a una normal\n",
    "def remove_outliers_iqr(df, columns):\n",
    "    for col in columns:\n",
    "        q1 = df[col].quantile(0.25)\n",
    "        q3 = df[col].quantile(0.75)\n",
    "        iqr = q3 - q1\n",
    "        lower_bound = q1 - 1.5 * iqr\n",
    "        upper_bound = q3 + 1.5 * iqr\n",
    "        df = df[(df[col] >= lower_bound) & (df[col] <= upper_bound)]\n",
    "    return df\n",
    "\n",
    "# Señale las columnas para remover los outliers\n",
    "columns_to_check = num_vars\n",
    "\n",
    "# Solicitar la función que remueve los outliers usando IQR\n",
    "train_limpio = remove_outliers_iqr(df_upsampled, columns_to_check)\n",
    "\n",
    "# Mostrar el resultado en el dataframe\n",
    "train_limpio.head()\n"
   ]
  },
  {
   "cell_type": "code",
   "execution_count": 63,
   "id": "08a3e2d5",
   "metadata": {},
   "outputs": [
    {
     "data": {
      "text/plain": [
       "(923, 11)"
      ]
     },
     "execution_count": 63,
     "metadata": {},
     "output_type": "execute_result"
    }
   ],
   "source": [
    "train_limpio.shape\n",
    "#la base no reduce sustansialmente despues de quitar outliers (gracias al balanceo)"
   ]
  },
  {
   "cell_type": "code",
   "execution_count": 64,
   "id": "859cfaa4",
   "metadata": {},
   "outputs": [
    {
     "data": {
      "image/png": "[encoded data removed]",
      "text/plain": [
       "<Figure size 700x500 with 2 Axes>"
      ]
     },
     "metadata": {},
     "output_type": "display_data"
    }
   ],
   "source": [
    "#despues de haber quitado outliers, donde se evidencia una distribucion mas uniforme de fare\n",
    "fig, axs = plt.subplots(nrows=1, ncols=2, figsize=(7, 5))\n",
    "axs = axs.flatten()\n",
    "\n",
    "for i, var in enumerate(num_vars): \n",
    "    sns.boxplot(x=var, data=train_limpio,ax=axs[i])\n",
    "    \n",
    "fig.tight_layout()\n",
    "    \n",
    "plt.show()"
   ]
  },
  {
   "cell_type": "code",
   "execution_count": 65,
   "id": "f9c09dfc",
   "metadata": {},
   "outputs": [],
   "source": [
    "train_limpio = train_limpio.reset_index(drop=True)"
   ]
  },
  {
   "cell_type": "code",
   "execution_count": 66,
   "id": "e1c15ed1",
   "metadata": {},
   "outputs": [
    {
     "data": {
      "image/png": "[encoded data removed]",
      "text/plain": [
       "<Figure size 2000x2000 with 72 Axes>"
      ]
     },
     "metadata": {},
     "output_type": "display_data"
    }
   ],
   "source": [
    "#no se evidencia alguna correlacion alta entre var independientes y la var a predecir\n",
    "from scipy.stats import pearsonr\n",
    "def corrfunc(x, y, **kwds):\n",
    "    cmap = kwds['cmap']\n",
    "    norm = kwds['norm']\n",
    "    ax = plt.gca()\n",
    "    ax.tick_params(bottom=False, top=False, left=False, right=False)\n",
    "    \n",
    "    sns.despine(ax=ax, bottom=True, top=True, left=True, right=True)\n",
    "    r, _ = pearsonr(x, y)\n",
    "    facecolor = cmap(norm(r))\n",
    "    ax.set_facecolor(facecolor)\n",
    "    \n",
    "    lightness = (max(facecolor[:3]) + min(facecolor[:3]) ) / 2\n",
    "    \n",
    "    ax.annotate(f\"r={r:.2f}\", \n",
    "                xy=(.5, .5), \n",
    "                xycoords=ax.transAxes,\n",
    "                color='white' if r < 0.1 else 'blue', #text color\n",
    "                size=26, \n",
    "                ha='center', \n",
    "                va='center'\n",
    "                )\n",
    "\n",
    "g = sns.PairGrid(train_limpio) #para crear la matriz de graficos \n",
    "\n",
    "g.map_lower(plt.scatter, \n",
    "            s=10) #grafica las dispersiones en el triangulo inferior\n",
    "\n",
    "g.map_diag(sns.histplot, \n",
    "           kde=False) #muestra los graficos de barras en la diogonal\n",
    "\n",
    "g.map_upper(corrfunc, \n",
    "            cmap=plt.get_cmap('coolwarm'), #https://matplotlib.org/stable/tutorials/colors/colormaps.html\n",
    "            norm=plt.Normalize(vmin=-0.5, vmax=0.5)\n",
    "          ) #muestra los valores de r en triangulo superior\n",
    "\n",
    "g.fig.subplots_adjust(wspace=0.06, hspace=0.06) # equal spacing in both directions\n",
    "plt.show()"
   ]
  },
  {
   "cell_type": "markdown",
   "id": "5351bc43",
   "metadata": {},
   "source": [
    "## REGRESION LOGISTICA"
   ]
  },
  {
   "cell_type": "markdown",
   "id": "26810be9",
   "metadata": {},
   "source": [
    "Definiendo vector de características (X) y variable target (y)"
   ]
  },
  {
   "cell_type": "code",
   "execution_count": 67,
   "id": "08b0161d",
   "metadata": {},
   "outputs": [],
   "source": [
    "X_train = train_limpio.drop(['Survived','PassengerId','Name','Ticket'], axis=1)\n",
    "y_train = train_limpio['Survived']"
   ]
  },
  {
   "cell_type": "code",
   "execution_count": 68,
   "id": "159ac4e0",
   "metadata": {},
   "outputs": [
    {
     "data": {
      "text/html": [
       "<div>\n",
       "<style scoped>\n",
       "    .dataframe tbody tr th:only-of-type {\n",
       "        vertical-align: middle;\n",
       "    }\n",
       "\n",
       "    .dataframe tbody tr th {\n",
       "        vertical-align: top;\n",
       "    }\n",
       "\n",
       "    .dataframe thead th {\n",
       "        text-align: right;\n",
       "    }\n",
       "</style>\n",
       "<table border=\"1\" class=\"dataframe\">\n",
       "  <thead>\n",
       "    <tr style=\"text-align: right;\">\n",
       "      <th></th>\n",
       "      <th>Pclass</th>\n",
       "      <th>Sex</th>\n",
       "      <th>SibSp</th>\n",
       "      <th>Parch</th>\n",
       "      <th>Embarked</th>\n",
       "      <th>Age</th>\n",
       "      <th>Fare</th>\n",
       "    </tr>\n",
       "  </thead>\n",
       "  <tbody>\n",
       "    <tr>\n",
       "      <th>0</th>\n",
       "      <td>2</td>\n",
       "      <td>0</td>\n",
       "      <td>0</td>\n",
       "      <td>0</td>\n",
       "      <td>2</td>\n",
       "      <td>28.0</td>\n",
       "      <td>13.0000</td>\n",
       "    </tr>\n",
       "    <tr>\n",
       "      <th>1</th>\n",
       "      <td>3</td>\n",
       "      <td>0</td>\n",
       "      <td>1</td>\n",
       "      <td>1</td>\n",
       "      <td>0</td>\n",
       "      <td>17.6</td>\n",
       "      <td>22.3583</td>\n",
       "    </tr>\n",
       "    <tr>\n",
       "      <th>2</th>\n",
       "      <td>3</td>\n",
       "      <td>0</td>\n",
       "      <td>0</td>\n",
       "      <td>0</td>\n",
       "      <td>2</td>\n",
       "      <td>26.0</td>\n",
       "      <td>7.8542</td>\n",
       "    </tr>\n",
       "    <tr>\n",
       "      <th>3</th>\n",
       "      <td>1</td>\n",
       "      <td>1</td>\n",
       "      <td>0</td>\n",
       "      <td>0</td>\n",
       "      <td>0</td>\n",
       "      <td>33.6</td>\n",
       "      <td>29.7000</td>\n",
       "    </tr>\n",
       "    <tr>\n",
       "      <th>4</th>\n",
       "      <td>3</td>\n",
       "      <td>1</td>\n",
       "      <td>0</td>\n",
       "      <td>0</td>\n",
       "      <td>2</td>\n",
       "      <td>29.6</td>\n",
       "      <td>56.4958</td>\n",
       "    </tr>\n",
       "  </tbody>\n",
       "</table>\n",
       "</div>"
      ],
      "text/plain": [
       "   Pclass  Sex  SibSp  Parch  Embarked   Age     Fare\n",
       "0       2    0      0      0         2  28.0  13.0000\n",
       "1       3    0      1      1         0  17.6  22.3583\n",
       "2       3    0      0      0         2  26.0   7.8542\n",
       "3       1    1      0      0         0  33.6  29.7000\n",
       "4       3    1      0      0         2  29.6  56.4958"
      ]
     },
     "execution_count": 68,
     "metadata": {},
     "output_type": "execute_result"
    }
   ],
   "source": [
    "X_train.head()"
   ]
  },
  {
   "cell_type": "code",
   "execution_count": 69,
   "id": "56187984",
   "metadata": {},
   "outputs": [],
   "source": [
    "X_test = test.drop(['PassengerId','Name','Ticket'], axis=1)"
   ]
  },
  {
   "cell_type": "code",
   "execution_count": 70,
   "id": "d288e8d8",
   "metadata": {},
   "outputs": [
    {
     "data": {
      "text/html": [
       "<div>\n",
       "<style scoped>\n",
       "    .dataframe tbody tr th:only-of-type {\n",
       "        vertical-align: middle;\n",
       "    }\n",
       "\n",
       "    .dataframe tbody tr th {\n",
       "        vertical-align: top;\n",
       "    }\n",
       "\n",
       "    .dataframe thead th {\n",
       "        text-align: right;\n",
       "    }\n",
       "</style>\n",
       "<table border=\"1\" class=\"dataframe\">\n",
       "  <thead>\n",
       "    <tr style=\"text-align: right;\">\n",
       "      <th></th>\n",
       "      <th>Pclass</th>\n",
       "      <th>Sex</th>\n",
       "      <th>SibSp</th>\n",
       "      <th>Parch</th>\n",
       "      <th>Embarked</th>\n",
       "      <th>Age</th>\n",
       "      <th>Fare</th>\n",
       "    </tr>\n",
       "  </thead>\n",
       "  <tbody>\n",
       "    <tr>\n",
       "      <th>0</th>\n",
       "      <td>3</td>\n",
       "      <td>1</td>\n",
       "      <td>0</td>\n",
       "      <td>0</td>\n",
       "      <td>1</td>\n",
       "      <td>34.5</td>\n",
       "      <td>7.8292</td>\n",
       "    </tr>\n",
       "    <tr>\n",
       "      <th>1</th>\n",
       "      <td>3</td>\n",
       "      <td>0</td>\n",
       "      <td>1</td>\n",
       "      <td>0</td>\n",
       "      <td>2</td>\n",
       "      <td>47.0</td>\n",
       "      <td>7.0000</td>\n",
       "    </tr>\n",
       "    <tr>\n",
       "      <th>2</th>\n",
       "      <td>2</td>\n",
       "      <td>1</td>\n",
       "      <td>0</td>\n",
       "      <td>0</td>\n",
       "      <td>1</td>\n",
       "      <td>62.0</td>\n",
       "      <td>9.6875</td>\n",
       "    </tr>\n",
       "    <tr>\n",
       "      <th>3</th>\n",
       "      <td>3</td>\n",
       "      <td>1</td>\n",
       "      <td>0</td>\n",
       "      <td>0</td>\n",
       "      <td>2</td>\n",
       "      <td>27.0</td>\n",
       "      <td>8.6625</td>\n",
       "    </tr>\n",
       "    <tr>\n",
       "      <th>4</th>\n",
       "      <td>3</td>\n",
       "      <td>0</td>\n",
       "      <td>1</td>\n",
       "      <td>1</td>\n",
       "      <td>2</td>\n",
       "      <td>22.0</td>\n",
       "      <td>12.2875</td>\n",
       "    </tr>\n",
       "  </tbody>\n",
       "</table>\n",
       "</div>"
      ],
      "text/plain": [
       "   Pclass  Sex  SibSp  Parch  Embarked   Age     Fare\n",
       "0       3    1      0      0         1  34.5   7.8292\n",
       "1       3    0      1      0         2  47.0   7.0000\n",
       "2       2    1      0      0         1  62.0   9.6875\n",
       "3       3    1      0      0         2  27.0   8.6625\n",
       "4       3    0      1      1         2  22.0  12.2875"
      ]
     },
     "execution_count": 70,
     "metadata": {},
     "output_type": "execute_result"
    }
   ],
   "source": [
    "X_test.head()"
   ]
  },
  {
   "cell_type": "code",
   "execution_count": 71,
   "id": "657e05e2",
   "metadata": {},
   "outputs": [
    {
     "data": {
      "text/plain": [
       "LogisticRegression(random_state=0)"
      ]
     },
     "execution_count": 71,
     "metadata": {},
     "output_type": "execute_result"
    }
   ],
   "source": [
    "from sklearn.linear_model import LogisticRegression\n",
    "LR = LogisticRegression(random_state=0)\n",
    "LR.fit(X_train, y_train)"
   ]
  },
  {
   "cell_type": "code",
   "execution_count": 72,
   "id": "c84746d2",
   "metadata": {},
   "outputs": [],
   "source": [
    "from sklearn.metrics import accuracy_score, f1_score, precision_score, recall_score, jaccard_score\n",
    "from sklearn.metrics import classification_report, confusion_matrix, roc_curve"
   ]
  },
  {
   "cell_type": "code",
   "execution_count": 73,
   "id": "aaa3cbfb",
   "metadata": {},
   "outputs": [
    {
     "name": "stdout",
     "output_type": "stream",
     "text": [
      "Precisión en el set de Entrenamiento: 0.78\n"
     ]
    }
   ],
   "source": [
    "y_predLR = LR.predict(X_test)\n",
    "print('Precisión en el set de Entrenamiento: {:.2f}'\n",
    "    .format(LR.score(X_train, y_train)))"
   ]
  },
  {
   "cell_type": "code",
   "execution_count": 74,
   "id": "058a06e5",
   "metadata": {},
   "outputs": [
    {
     "data": {
      "text/plain": [
       "array([0, 0, 0, 0, 1, 0, 1, 0, 1, 0, 0, 0, 1, 0, 1, 1, 0, 0, 1, 1, 0, 0,\n",
       "       1, 1, 1, 0, 1, 0, 0, 0, 0, 0, 1, 1, 1, 0, 1, 1, 0, 0, 0, 0, 0, 1,\n",
       "       1, 0, 1, 0, 1, 1, 1, 0, 1, 1, 1, 0, 0, 0, 0, 1, 0, 0, 0, 1, 1, 1,\n",
       "       1, 0, 1, 1, 1, 0, 1, 1, 1, 1, 0, 1, 0, 1, 0, 1, 0, 0, 0, 0, 1, 1,\n",
       "       1, 1, 1, 0, 1, 0, 1, 0, 1, 0, 1, 0, 1, 0, 0, 0, 1, 0, 0, 0, 0, 0,\n",
       "       0, 1, 1, 1, 1, 0, 0, 1, 1, 1, 1, 0, 1, 0, 0, 1, 0, 1, 0, 0, 0, 0,\n",
       "       1, 0, 0, 0, 0, 0, 1, 0, 0, 1, 1, 0, 0, 0, 1, 0, 0, 0, 1, 0, 0, 1,\n",
       "       0, 0, 1, 1, 0, 1, 1, 0, 1, 0, 0, 1, 1, 0, 1, 1, 0, 0, 0, 0, 0, 1,\n",
       "       1, 0, 1, 1, 0, 1, 1, 0, 1, 0, 1, 0, 0, 0, 0, 1, 0, 0, 1, 0, 1, 1,\n",
       "       0, 1, 1, 0, 1, 1, 0, 0, 1, 0, 1, 0, 0, 0, 1, 0, 0, 1, 1, 1, 1, 0,\n",
       "       1, 0, 1, 0, 1, 1, 0, 1, 0, 0, 1, 1, 0, 0, 1, 0, 0, 0, 1, 1, 1, 1,\n",
       "       1, 0, 0, 0, 1, 0, 1, 1, 1, 0, 1, 0, 0, 0, 0, 0, 1, 0, 0, 0, 1, 1,\n",
       "       0, 0, 0, 0, 1, 0, 1, 0, 1, 1, 0, 1, 0, 0, 0, 0, 1, 0, 1, 1, 1, 0,\n",
       "       0, 1, 0, 0, 1, 1, 0, 0, 0, 0, 1, 0, 1, 0, 0, 0, 0, 0, 1, 1, 1, 0,\n",
       "       1, 0, 0, 0, 0, 1, 1, 1, 1, 0, 0, 0, 0, 0, 0, 1, 1, 0, 1, 1, 0, 0,\n",
       "       1, 1, 0, 1, 0, 1, 0, 0, 0, 0, 0, 0, 0, 1, 0, 1, 0, 1, 0, 1, 1, 0,\n",
       "       1, 0, 1, 0, 1, 0, 0, 1, 0, 1, 1, 0, 1, 1, 0, 1, 1, 0, 0, 1, 0, 0,\n",
       "       1, 1, 0, 0, 0, 0, 0, 0, 1, 1, 0, 1, 0, 0, 0, 0, 1, 1, 0, 0, 0, 1,\n",
       "       0, 1, 0, 0, 1, 0, 1, 1, 0, 1, 0, 1, 1, 1, 1, 1, 1, 0, 1, 0, 0, 0])"
      ]
     },
     "execution_count": 74,
     "metadata": {},
     "output_type": "execute_result"
    }
   ],
   "source": [
    "y_predLR"
   ]
  },
  {
   "cell_type": "code",
   "execution_count": 75,
   "id": "a8b63690",
   "metadata": {},
   "outputs": [
    {
     "name": "stdout",
     "output_type": "stream",
     "text": [
      "Intercept: [5.15314345]\n",
      "Coefficients: \n"
     ]
    },
    {
     "data": {
      "text/html": [
       "<div>\n",
       "<style scoped>\n",
       "    .dataframe tbody tr th:only-of-type {\n",
       "        vertical-align: middle;\n",
       "    }\n",
       "\n",
       "    .dataframe tbody tr th {\n",
       "        vertical-align: top;\n",
       "    }\n",
       "\n",
       "    .dataframe thead th {\n",
       "        text-align: right;\n",
       "    }\n",
       "</style>\n",
       "<table border=\"1\" class=\"dataframe\">\n",
       "  <thead>\n",
       "    <tr style=\"text-align: right;\">\n",
       "      <th></th>\n",
       "      <th>Variable</th>\n",
       "      <th>Coefficient</th>\n",
       "    </tr>\n",
       "  </thead>\n",
       "  <tbody>\n",
       "    <tr>\n",
       "      <th>6</th>\n",
       "      <td>Fare</td>\n",
       "      <td>0.024324</td>\n",
       "    </tr>\n",
       "    <tr>\n",
       "      <th>3</th>\n",
       "      <td>Parch</td>\n",
       "      <td>-0.029223</td>\n",
       "    </tr>\n",
       "    <tr>\n",
       "      <th>5</th>\n",
       "      <td>Age</td>\n",
       "      <td>-0.053147</td>\n",
       "    </tr>\n",
       "    <tr>\n",
       "      <th>4</th>\n",
       "      <td>Embarked</td>\n",
       "      <td>-0.181611</td>\n",
       "    </tr>\n",
       "    <tr>\n",
       "      <th>2</th>\n",
       "      <td>SibSp</td>\n",
       "      <td>-0.568112</td>\n",
       "    </tr>\n",
       "    <tr>\n",
       "      <th>0</th>\n",
       "      <td>Pclass</td>\n",
       "      <td>-0.929896</td>\n",
       "    </tr>\n",
       "    <tr>\n",
       "      <th>1</th>\n",
       "      <td>Sex</td>\n",
       "      <td>-2.45834</td>\n",
       "    </tr>\n",
       "  </tbody>\n",
       "</table>\n",
       "</div>"
      ],
      "text/plain": [
       "   Variable Coefficient\n",
       "6      Fare    0.024324\n",
       "3     Parch   -0.029223\n",
       "5       Age   -0.053147\n",
       "4  Embarked   -0.181611\n",
       "2     SibSp   -0.568112\n",
       "0    Pclass   -0.929896\n",
       "1       Sex    -2.45834"
      ]
     },
     "execution_count": 75,
     "metadata": {},
     "output_type": "execute_result"
    }
   ],
   "source": [
    "# Esta es una regresión, por lo que tiene coeficientes\n",
    "\n",
    "print('Intercept: ' + str(LR.intercept_))\n",
    "print('Coefficients: ')\n",
    "summary = pd.DataFrame([X_test.columns,LR.coef_[0]]).transpose().sort_values(by = 1, ascending = False)\n",
    "summary.columns = ['Variable','Coefficient']\n",
    "summary"
   ]
  },
  {
   "cell_type": "markdown",
   "id": "9bc6be2a",
   "metadata": {},
   "source": [
    "## NAIVE BAYES"
   ]
  },
  {
   "cell_type": "markdown",
   "id": "24372a1a",
   "metadata": {},
   "source": [
    "ALGORITMO GAUSSIAN"
   ]
  },
  {
   "cell_type": "code",
   "execution_count": 76,
   "id": "c892e28a",
   "metadata": {},
   "outputs": [],
   "source": [
    "X_train = train_limpio.drop(['Survived','PassengerId','Name','Ticket'], axis=1)\n",
    "y_train = train_limpio['Survived']"
   ]
  },
  {
   "cell_type": "code",
   "execution_count": 77,
   "id": "7d6abd62",
   "metadata": {},
   "outputs": [],
   "source": [
    "X_test = test.drop(['PassengerId','Name','Ticket'], axis=1)"
   ]
  },
  {
   "cell_type": "code",
   "execution_count": 78,
   "id": "ab0ace65",
   "metadata": {},
   "outputs": [
    {
     "data": {
      "text/plain": [
       "GaussianNB()"
      ]
     },
     "execution_count": 78,
     "metadata": {},
     "output_type": "execute_result"
    }
   ],
   "source": [
    "from sklearn.naive_bayes import GaussianNB\n",
    "gnb = GaussianNB()\n",
    "gnb.fit(X_train, y_train)"
   ]
  },
  {
   "cell_type": "code",
   "execution_count": 79,
   "id": "c943f644",
   "metadata": {},
   "outputs": [
    {
     "name": "stdout",
     "output_type": "stream",
     "text": [
      "Precisión en el set de Entrenamiento: 0.78\n"
     ]
    }
   ],
   "source": [
    "y_predgnb = gnb.predict(X_test)\n",
    "\n",
    "\n",
    "print('Precisión en el set de Entrenamiento: {:.2f}'\n",
    "     .format(gnb.score(X_train, y_train)))"
   ]
  },
  {
   "cell_type": "markdown",
   "id": "61886637",
   "metadata": {},
   "source": [
    "ALGORITMO MULTINOMIAL"
   ]
  },
  {
   "cell_type": "code",
   "execution_count": 80,
   "id": "6049522e",
   "metadata": {},
   "outputs": [],
   "source": [
    "X_train = train_limpio.drop(['Survived','PassengerId','Name','Ticket'], axis=1)\n",
    "y_train = train_limpio['Survived']"
   ]
  },
  {
   "cell_type": "code",
   "execution_count": 81,
   "id": "459e9213",
   "metadata": {},
   "outputs": [],
   "source": [
    "X_test = test.drop(['PassengerId','Name','Ticket'], axis=1)"
   ]
  },
  {
   "cell_type": "code",
   "execution_count": 82,
   "id": "7bdd83ec",
   "metadata": {},
   "outputs": [
    {
     "data": {
      "text/plain": [
       "MultinomialNB()"
      ]
     },
     "execution_count": 82,
     "metadata": {},
     "output_type": "execute_result"
    }
   ],
   "source": [
    "from sklearn.naive_bayes import MultinomialNB\n",
    "Mult = MultinomialNB()\n",
    "Mult.fit(X_train, y_train)  \n"
   ]
  },
  {
   "cell_type": "code",
   "execution_count": 83,
   "id": "ffe63500",
   "metadata": {},
   "outputs": [
    {
     "name": "stdout",
     "output_type": "stream",
     "text": [
      "Precisión en el set de Entrenamiento: 0.66\n"
     ]
    }
   ],
   "source": [
    "y_predMult = Mult.predict(X_test)\n",
    "\n",
    "print('Precisión en el set de Entrenamiento: {:.2f}'\n",
    "     .format(Mult.score(X_train, y_train)))"
   ]
  },
  {
   "cell_type": "markdown",
   "id": "70a113ea",
   "metadata": {},
   "source": [
    "## KNN"
   ]
  },
  {
   "cell_type": "code",
   "execution_count": 84,
   "id": "0dd5b281",
   "metadata": {},
   "outputs": [],
   "source": [
    "X_train = train_limpio.drop(['Survived','PassengerId','Name','Ticket'], axis=1)\n",
    "y_train = train_limpio['Survived']"
   ]
  },
  {
   "cell_type": "code",
   "execution_count": 85,
   "id": "1fb8e0fd",
   "metadata": {},
   "outputs": [],
   "source": [
    "X_test = test.drop(['PassengerId','Name','Ticket'], axis=1)"
   ]
  },
  {
   "cell_type": "code",
   "execution_count": 86,
   "id": "f65e5e4c",
   "metadata": {},
   "outputs": [],
   "source": [
    "from sklearn.neighbors import KNeighborsClassifier\n",
    "knn=KNeighborsClassifier(n_neighbors=3,algorithm='auto',metric='euclidean',weights='uniform')\n",
    "#primero se elige un vecindario de 3 para despues encontrar el optimo en gráfico"
   ]
  },
  {
   "cell_type": "code",
   "execution_count": 87,
   "id": "33d920ac",
   "metadata": {},
   "outputs": [
    {
     "data": {
      "text/plain": [
       "KNeighborsClassifier(metric='euclidean', n_neighbors=3)"
      ]
     },
     "execution_count": 87,
     "metadata": {},
     "output_type": "execute_result"
    }
   ],
   "source": [
    "knn.fit(X_train,y_train)"
   ]
  },
  {
   "cell_type": "code",
   "execution_count": 88,
   "id": "2e58ad3a",
   "metadata": {},
   "outputs": [
    {
     "name": "stdout",
     "output_type": "stream",
     "text": [
      "Precisión en el set de Entrenamiento: 0.89\n"
     ]
    }
   ],
   "source": [
    "y_predknn=knn.predict(X_test)\n",
    "print('Precisión en el set de Entrenamiento: {:.2f}'\n",
    "     .format(knn.score(X_train, y_train)))"
   ]
  },
  {
   "cell_type": "markdown",
   "id": "6eddc4ee",
   "metadata": {},
   "source": [
    "Delimitar el valor de K:"
   ]
  },
  {
   "cell_type": "code",
   "execution_count": 89,
   "id": "3f712bef",
   "metadata": {},
   "outputs": [
    {
     "data": {
      "text/plain": [
       "array([ 1,  2,  3,  4,  5,  6,  7,  8,  9, 10, 11, 12, 13, 14, 15, 16, 17,\n",
       "       18, 19])"
      ]
     },
     "execution_count": 89,
     "metadata": {},
     "output_type": "execute_result"
    }
   ],
   "source": [
    "vecinos=np.arange(1,20)\n",
    "vecinos \n",
    "#no se genera un array mas grande, por que las inflexiones (codo) ya se logran ver dentro de los 20."
   ]
  },
  {
   "cell_type": "code",
   "execution_count": 90,
   "id": "e4ba358a",
   "metadata": {},
   "outputs": [],
   "source": [
    "train_ex =np.empty(len(vecinos))"
   ]
  },
  {
   "cell_type": "code",
   "execution_count": 91,
   "id": "86480cef",
   "metadata": {},
   "outputs": [],
   "source": [
    "for i, k in enumerate(vecinos):\n",
    "    knn = KNeighborsClassifier (n_neighbors = k)\n",
    "    knn.fit(X_train, y_train)\n",
    "    train_ex[i] = knn.score(X_train, y_train)"
   ]
  },
  {
   "cell_type": "code",
   "execution_count": 92,
   "id": "7a0fae92",
   "metadata": {},
   "outputs": [
    {
     "data": {
      "text/plain": [
       "array([0.97616468, 0.94257855, 0.89274106, 0.86132178, 0.83748646,\n",
       "       0.82340195, 0.79306609, 0.77681473, 0.76814735, 0.75731311,\n",
       "       0.7475623 , 0.73239437, 0.7432286 , 0.73672806, 0.71614301,\n",
       "       0.71289274, 0.71505959, 0.71722644, 0.72589382])"
      ]
     },
     "execution_count": 92,
     "metadata": {},
     "output_type": "execute_result"
    }
   ],
   "source": [
    "train_ex"
   ]
  },
  {
   "cell_type": "code",
   "execution_count": 93,
   "id": "ff022ec4",
   "metadata": {
    "scrolled": false
   },
   "outputs": [
    {
     "data": {
      "image/png": "[encoded data removed]",
      "text/plain": [
       "<Figure size 640x480 with 1 Axes>"
      ]
     },
     "metadata": {},
     "output_type": "display_data"
    }
   ],
   "source": [
    "plt.title(\"vecinos proximos KNN\")\n",
    "plt.plot(vecinos, train_ex, label = \"exactitud en train\")\n",
    "plt.legend()\n",
    "plt.xlabel(\"numero de vecinos\")\n",
    "plt.ylabel(\"exactitud\")\n",
    "plt.show()"
   ]
  },
  {
   "cell_type": "markdown",
   "id": "ac4e3fe3",
   "metadata": {},
   "source": [
    "# DECISION TREE"
   ]
  },
  {
   "cell_type": "code",
   "execution_count": 94,
   "id": "07a4bd26",
   "metadata": {},
   "outputs": [],
   "source": [
    "X_train = train_limpio.drop(['Survived','PassengerId','Name','Ticket'], axis=1)\n",
    "y_train = train_limpio['Survived']"
   ]
  },
  {
   "cell_type": "code",
   "execution_count": 95,
   "id": "840ed90b",
   "metadata": {},
   "outputs": [],
   "source": [
    "X_test = test.drop(['PassengerId','Name','Ticket'], axis=1)"
   ]
  },
  {
   "cell_type": "markdown",
   "id": "3c66086d",
   "metadata": {},
   "source": [
    "CLF Gini"
   ]
  },
  {
   "cell_type": "code",
   "execution_count": 96,
   "id": "870c96ba",
   "metadata": {},
   "outputs": [
    {
     "data": {
      "text/plain": [
       "DecisionTreeClassifier(max_depth=3, random_state=0)"
      ]
     },
     "execution_count": 96,
     "metadata": {},
     "output_type": "execute_result"
    }
   ],
   "source": [
    "from sklearn.tree import DecisionTreeClassifier\n",
    "clf_gini = DecisionTreeClassifier(criterion='gini', max_depth=3, random_state=0)\n",
    "\n",
    "clf_gini.fit(X_train, y_train)"
   ]
  },
  {
   "cell_type": "code",
   "execution_count": 97,
   "id": "63f21570",
   "metadata": {},
   "outputs": [],
   "source": [
    "y_pred_gini = clf_gini.predict(X_test)"
   ]
  },
  {
   "cell_type": "code",
   "execution_count": 98,
   "id": "0fb60de4",
   "metadata": {},
   "outputs": [
    {
     "name": "stdout",
     "output_type": "stream",
     "text": [
      "Precisión en el set de Entrenamiento: 0.82\n"
     ]
    }
   ],
   "source": [
    "print('Precisión en el set de Entrenamiento: {:.2f}'\n",
    "     .format(clf_gini.score(X_train, y_train)))"
   ]
  },
  {
   "cell_type": "code",
   "execution_count": 99,
   "id": "007fa42a",
   "metadata": {},
   "outputs": [],
   "source": [
    "from sklearn import tree\n",
    "import graphviz \n",
    "import pydotplus\n",
    "%matplotlib inline"
   ]
  },
  {
   "cell_type": "code",
   "execution_count": 100,
   "id": "bcc48ccf",
   "metadata": {},
   "outputs": [
    {
     "data": {
      "image/svg+xml": [
       "<?xml version=\"1.0\" encoding=\"UTF-8\" standalone=\"no\"?>\n",
       "<!DOCTYPE svg PUBLIC \"-//W3C//DTD SVG 1.1//EN\"\n",
       " \"http://www.w3.org/Graphics/SVG/1.1/DTD/svg11.dtd\">\n",
       "<!-- Generated by graphviz version 2.50.0 (0)\n",
       " -->\n",
       "<!-- Title: Tree Pages: 1 -->\n",
       "<svg width=\"600pt\" height=\"646pt\"\n",
       " viewBox=\"0.00 0.00 600.00 646.00\" xmlns=\"http://www.w3.org/2000/svg\" xmlns:xlink=\"http://www.w3.org/1999/xlink\">\n",
       "<g id=\"graph0\" class=\"graph\" transform=\"scale(1 1) rotate(0) translate(4 642)\">\n",
       "<title>Tree</title>\n",
       "<polygon fill=\"white\" stroke=\"transparent\" points=\"-4,4 -4,-642 596,-642 596,4 -4,4\"/>\n",
       "<!-- 0 -->\n",
       "<g id=\"node1\" class=\"node\">\n",
       "<title>0</title>\n",
       "<path fill=\"#fae9dc\" stroke=\"black\" d=\"M113,-392C113,-392 12,-392 12,-392 6,-392 0,-386 0,-380 0,-380 0,-326 0,-326 0,-320 6,-314 12,-314 12,-314 113,-314 113,-314 119,-314 125,-320 125,-326 125,-326 125,-380 125,-380 125,-386 119,-392 113,-392\"/>\n",
       "<text text-anchor=\"start\" x=\"33.5\" y=\"-377.8\" font-family=\"Helvetica,sans-Serif\" font-size=\"14.00\">Sex ≤ 0.5</text>\n",
       "<text text-anchor=\"start\" x=\"27\" y=\"-363.8\" font-family=\"Helvetica,sans-Serif\" font-size=\"14.00\">gini = 0.495</text>\n",
       "<text text-anchor=\"start\" x=\"17.5\" y=\"-349.8\" font-family=\"Helvetica,sans-Serif\" font-size=\"14.00\">samples = 923</text>\n",
       "<text text-anchor=\"start\" x=\"8\" y=\"-335.8\" font-family=\"Helvetica,sans-Serif\" font-size=\"14.00\">value = [506, 417]</text>\n",
       "<text text-anchor=\"start\" x=\"32\" y=\"-321.8\" font-family=\"Helvetica,sans-Serif\" font-size=\"14.00\">class = y</text>\n",
       "<text text-anchor=\"start\" x=\"86\" y=\"-321.8\" font-family=\"Helvetica,sans-Serif\" baseline-shift=\"sub\" font-size=\"14.00\">0</text>\n",
       "</g>\n",
       "<!-- 1 -->\n",
       "<g id=\"node2\" class=\"node\">\n",
       "<title>1</title>\n",
       "<path fill=\"#73baed\" stroke=\"black\" d=\"M270,-433C270,-433 177,-433 177,-433 171,-433 165,-427 165,-421 165,-421 165,-367 165,-367 165,-361 171,-355 177,-355 177,-355 270,-355 270,-355 276,-355 282,-361 282,-367 282,-367 282,-421 282,-421 282,-427 276,-433 270,-433\"/>\n",
       "<text text-anchor=\"start\" x=\"186.5\" y=\"-418.8\" font-family=\"Helvetica,sans-Serif\" font-size=\"14.00\">Pclass ≤ 2.5</text>\n",
       "<text text-anchor=\"start\" x=\"188\" y=\"-404.8\" font-family=\"Helvetica,sans-Serif\" font-size=\"14.00\">gini = 0.351</text>\n",
       "<text text-anchor=\"start\" x=\"178.5\" y=\"-390.8\" font-family=\"Helvetica,sans-Serif\" font-size=\"14.00\">samples = 348</text>\n",
       "<text text-anchor=\"start\" x=\"173\" y=\"-376.8\" font-family=\"Helvetica,sans-Serif\" font-size=\"14.00\">value = [79, 269]</text>\n",
       "<text text-anchor=\"start\" x=\"193\" y=\"-362.8\" font-family=\"Helvetica,sans-Serif\" font-size=\"14.00\">class = y</text>\n",
       "<text text-anchor=\"start\" x=\"247\" y=\"-362.8\" font-family=\"Helvetica,sans-Serif\" baseline-shift=\"sub\" font-size=\"14.00\">1</text>\n",
       "</g>\n",
       "<!-- 0&#45;&gt;1 -->\n",
       "<g id=\"edge1\" class=\"edge\">\n",
       "<title>0&#45;&gt;1</title>\n",
       "<path fill=\"none\" stroke=\"black\" d=\"M125.43,-368.97C135.17,-371.48 145.29,-374.09 155.15,-376.63\"/>\n",
       "<polygon fill=\"black\" stroke=\"black\" points=\"154.34,-380.04 164.9,-379.15 156.09,-373.26 154.34,-380.04\"/>\n",
       "<text text-anchor=\"middle\" x=\"143.37\" y=\"-388.15\" font-family=\"Helvetica,sans-Serif\" font-size=\"14.00\">True</text>\n",
       "</g>\n",
       "<!-- 8 -->\n",
       "<g id=\"node9\" class=\"node\">\n",
       "<title>8</title>\n",
       "<path fill=\"#eead7e\" stroke=\"black\" d=\"M274,-283C274,-283 173,-283 173,-283 167,-283 161,-277 161,-271 161,-271 161,-217 161,-217 161,-211 167,-205 173,-205 173,-205 274,-205 274,-205 280,-205 286,-211 286,-217 286,-217 286,-271 286,-271 286,-277 280,-283 274,-283\"/>\n",
       "<text text-anchor=\"start\" x=\"181\" y=\"-268.8\" font-family=\"Helvetica,sans-Serif\" font-size=\"14.00\">Fare ≤ 26.269</text>\n",
       "<text text-anchor=\"start\" x=\"188\" y=\"-254.8\" font-family=\"Helvetica,sans-Serif\" font-size=\"14.00\">gini = 0.382</text>\n",
       "<text text-anchor=\"start\" x=\"178.5\" y=\"-240.8\" font-family=\"Helvetica,sans-Serif\" font-size=\"14.00\">samples = 575</text>\n",
       "<text text-anchor=\"start\" x=\"169\" y=\"-226.8\" font-family=\"Helvetica,sans-Serif\" font-size=\"14.00\">value = [427, 148]</text>\n",
       "<text text-anchor=\"start\" x=\"193\" y=\"-212.8\" font-family=\"Helvetica,sans-Serif\" font-size=\"14.00\">class = y</text>\n",
       "<text text-anchor=\"start\" x=\"247\" y=\"-212.8\" font-family=\"Helvetica,sans-Serif\" baseline-shift=\"sub\" font-size=\"14.00\">0</text>\n",
       "</g>\n",
       "<!-- 0&#45;&gt;8 -->\n",
       "<g id=\"edge8\" class=\"edge\">\n",
       "<title>0&#45;&gt;8</title>\n",
       "<path fill=\"none\" stroke=\"black\" d=\"M120.45,-313.96C132.33,-305.82 144.93,-297.18 157.08,-288.84\"/>\n",
       "<polygon fill=\"black\" stroke=\"black\" points=\"159.14,-291.68 165.41,-283.14 155.18,-285.9 159.14,-291.68\"/>\n",
       "<text text-anchor=\"middle\" x=\"140.83\" y=\"-274.85\" font-family=\"Helvetica,sans-Serif\" font-size=\"14.00\">False</text>\n",
       "</g>\n",
       "<!-- 2 -->\n",
       "<g id=\"node3\" class=\"node\">\n",
       "<title>2</title>\n",
       "<path fill=\"#42a1e6\" stroke=\"black\" d=\"M423.5,-563C423.5,-563 337.5,-563 337.5,-563 331.5,-563 325.5,-557 325.5,-551 325.5,-551 325.5,-497 325.5,-497 325.5,-491 331.5,-485 337.5,-485 337.5,-485 423.5,-485 423.5,-485 429.5,-485 435.5,-491 435.5,-497 435.5,-497 435.5,-551 435.5,-551 435.5,-557 429.5,-563 423.5,-563\"/>\n",
       "<text text-anchor=\"start\" x=\"347.5\" y=\"-548.8\" font-family=\"Helvetica,sans-Serif\" font-size=\"14.00\">Age ≤ 56.0</text>\n",
       "<text text-anchor=\"start\" x=\"345\" y=\"-534.8\" font-family=\"Helvetica,sans-Serif\" font-size=\"14.00\">gini = 0.079</text>\n",
       "<text text-anchor=\"start\" x=\"335.5\" y=\"-520.8\" font-family=\"Helvetica,sans-Serif\" font-size=\"14.00\">samples = 169</text>\n",
       "<text text-anchor=\"start\" x=\"333.5\" y=\"-506.8\" font-family=\"Helvetica,sans-Serif\" font-size=\"14.00\">value = [7, 162]</text>\n",
       "<text text-anchor=\"start\" x=\"350\" y=\"-492.8\" font-family=\"Helvetica,sans-Serif\" font-size=\"14.00\">class = y</text>\n",
       "<text text-anchor=\"start\" x=\"404\" y=\"-492.8\" font-family=\"Helvetica,sans-Serif\" baseline-shift=\"sub\" font-size=\"14.00\">1</text>\n",
       "</g>\n",
       "<!-- 1&#45;&gt;2 -->\n",
       "<g id=\"edge2\" class=\"edge\">\n",
       "<title>1&#45;&gt;2</title>\n",
       "<path fill=\"none\" stroke=\"black\" d=\"M271.01,-433C287.94,-447.21 307.24,-463.39 324.82,-478.14\"/>\n",
       "<polygon fill=\"black\" stroke=\"black\" points=\"322.85,-481.05 332.76,-484.8 327.35,-475.69 322.85,-481.05\"/>\n",
       "</g>\n",
       "<!-- 5 -->\n",
       "<g id=\"node6\" class=\"node\">\n",
       "<title>5</title>\n",
       "<path fill=\"#bedff6\" stroke=\"black\" d=\"M427,-433C427,-433 334,-433 334,-433 328,-433 322,-427 322,-421 322,-421 322,-367 322,-367 322,-361 328,-355 334,-355 334,-355 427,-355 427,-355 433,-355 439,-361 439,-367 439,-367 439,-421 439,-421 439,-427 433,-433 427,-433\"/>\n",
       "<text text-anchor=\"start\" x=\"347.5\" y=\"-418.8\" font-family=\"Helvetica,sans-Serif\" font-size=\"14.00\">Age ≤ 38.2</text>\n",
       "<text text-anchor=\"start\" x=\"345\" y=\"-404.8\" font-family=\"Helvetica,sans-Serif\" font-size=\"14.00\">gini = 0.481</text>\n",
       "<text text-anchor=\"start\" x=\"335.5\" y=\"-390.8\" font-family=\"Helvetica,sans-Serif\" font-size=\"14.00\">samples = 179</text>\n",
       "<text text-anchor=\"start\" x=\"330\" y=\"-376.8\" font-family=\"Helvetica,sans-Serif\" font-size=\"14.00\">value = [72, 107]</text>\n",
       "<text text-anchor=\"start\" x=\"350\" y=\"-362.8\" font-family=\"Helvetica,sans-Serif\" font-size=\"14.00\">class = y</text>\n",
       "<text text-anchor=\"start\" x=\"404\" y=\"-362.8\" font-family=\"Helvetica,sans-Serif\" baseline-shift=\"sub\" font-size=\"14.00\">1</text>\n",
       "</g>\n",
       "<!-- 1&#45;&gt;5 -->\n",
       "<g id=\"edge5\" class=\"edge\">\n",
       "<title>1&#45;&gt;5</title>\n",
       "<path fill=\"none\" stroke=\"black\" d=\"M282.22,-394C291.86,-394 301.95,-394 311.82,-394\"/>\n",
       "<polygon fill=\"black\" stroke=\"black\" points=\"311.99,-397.5 321.99,-394 311.99,-390.5 311.99,-397.5\"/>\n",
       "</g>\n",
       "<!-- 3 -->\n",
       "<g id=\"node4\" class=\"node\">\n",
       "<title>3</title>\n",
       "<path fill=\"#40a1e6\" stroke=\"black\" d=\"M576.5,-638C576.5,-638 490.5,-638 490.5,-638 484.5,-638 478.5,-632 478.5,-626 478.5,-626 478.5,-586 478.5,-586 478.5,-580 484.5,-574 490.5,-574 490.5,-574 576.5,-574 576.5,-574 582.5,-574 588.5,-580 588.5,-586 588.5,-586 588.5,-626 588.5,-626 588.5,-632 582.5,-638 576.5,-638\"/>\n",
       "<text text-anchor=\"start\" x=\"498\" y=\"-623.8\" font-family=\"Helvetica,sans-Serif\" font-size=\"14.00\">gini = 0.069</text>\n",
       "<text text-anchor=\"start\" x=\"488.5\" y=\"-609.8\" font-family=\"Helvetica,sans-Serif\" font-size=\"14.00\">samples = 167</text>\n",
       "<text text-anchor=\"start\" x=\"486.5\" y=\"-595.8\" font-family=\"Helvetica,sans-Serif\" font-size=\"14.00\">value = [6, 161]</text>\n",
       "<text text-anchor=\"start\" x=\"503\" y=\"-581.8\" font-family=\"Helvetica,sans-Serif\" font-size=\"14.00\">class = y</text>\n",
       "<text text-anchor=\"start\" x=\"557\" y=\"-581.8\" font-family=\"Helvetica,sans-Serif\" baseline-shift=\"sub\" font-size=\"14.00\">1</text>\n",
       "</g>\n",
       "<!-- 2&#45;&gt;3 -->\n",
       "<g id=\"edge3\" class=\"edge\">\n",
       "<title>2&#45;&gt;3</title>\n",
       "<path fill=\"none\" stroke=\"black\" d=\"M435.59,-553.37C446.54,-559.32 458.15,-565.62 469.38,-571.72\"/>\n",
       "<polygon fill=\"black\" stroke=\"black\" points=\"467.82,-574.86 478.28,-576.56 471.16,-568.71 467.82,-574.86\"/>\n",
       "</g>\n",
       "<!-- 4 -->\n",
       "<g id=\"node5\" class=\"node\">\n",
       "<title>4</title>\n",
       "<path fill=\"#ffffff\" stroke=\"black\" d=\"M569,-556C569,-556 498,-556 498,-556 492,-556 486,-550 486,-544 486,-544 486,-504 486,-504 486,-498 492,-492 498,-492 498,-492 569,-492 569,-492 575,-492 581,-498 581,-504 581,-504 581,-544 581,-544 581,-550 575,-556 569,-556\"/>\n",
       "<text text-anchor=\"start\" x=\"505.5\" y=\"-541.8\" font-family=\"Helvetica,sans-Serif\" font-size=\"14.00\">gini = 0.5</text>\n",
       "<text text-anchor=\"start\" x=\"496\" y=\"-527.8\" font-family=\"Helvetica,sans-Serif\" font-size=\"14.00\">samples = 2</text>\n",
       "<text text-anchor=\"start\" x=\"494\" y=\"-513.8\" font-family=\"Helvetica,sans-Serif\" font-size=\"14.00\">value = [1, 1]</text>\n",
       "<text text-anchor=\"start\" x=\"503\" y=\"-499.8\" font-family=\"Helvetica,sans-Serif\" font-size=\"14.00\">class = y</text>\n",
       "<text text-anchor=\"start\" x=\"557\" y=\"-499.8\" font-family=\"Helvetica,sans-Serif\" baseline-shift=\"sub\" font-size=\"14.00\">0</text>\n",
       "</g>\n",
       "<!-- 2&#45;&gt;4 -->\n",
       "<g id=\"edge4\" class=\"edge\">\n",
       "<title>2&#45;&gt;4</title>\n",
       "<path fill=\"none\" stroke=\"black\" d=\"M435.59,-524C448.54,-524 462.41,-524 475.49,-524\"/>\n",
       "<polygon fill=\"black\" stroke=\"black\" points=\"475.78,-527.5 485.78,-524 475.78,-520.5 475.78,-527.5\"/>\n",
       "</g>\n",
       "<!-- 6 -->\n",
       "<g id=\"node7\" class=\"node\">\n",
       "<title>6</title>\n",
       "<path fill=\"#a2d1f3\" stroke=\"black\" d=\"M580,-474C580,-474 487,-474 487,-474 481,-474 475,-468 475,-462 475,-462 475,-422 475,-422 475,-416 481,-410 487,-410 487,-410 580,-410 580,-410 586,-410 592,-416 592,-422 592,-422 592,-462 592,-462 592,-468 586,-474 580,-474\"/>\n",
       "<text text-anchor=\"start\" x=\"498\" y=\"-459.8\" font-family=\"Helvetica,sans-Serif\" font-size=\"14.00\">gini = 0.454</text>\n",
       "<text text-anchor=\"start\" x=\"488.5\" y=\"-445.8\" font-family=\"Helvetica,sans-Serif\" font-size=\"14.00\">samples = 164</text>\n",
       "<text text-anchor=\"start\" x=\"483\" y=\"-431.8\" font-family=\"Helvetica,sans-Serif\" font-size=\"14.00\">value = [57, 107]</text>\n",
       "<text text-anchor=\"start\" x=\"503\" y=\"-417.8\" font-family=\"Helvetica,sans-Serif\" font-size=\"14.00\">class = y</text>\n",
       "<text text-anchor=\"start\" x=\"557\" y=\"-417.8\" font-family=\"Helvetica,sans-Serif\" baseline-shift=\"sub\" font-size=\"14.00\">1</text>\n",
       "</g>\n",
       "<!-- 5&#45;&gt;6 -->\n",
       "<g id=\"edge6\" class=\"edge\">\n",
       "<title>5&#45;&gt;6</title>\n",
       "<path fill=\"none\" stroke=\"black\" d=\"M439.02,-412.28C447.56,-415 456.42,-417.82 465.14,-420.59\"/>\n",
       "<polygon fill=\"black\" stroke=\"black\" points=\"464.3,-423.99 474.89,-423.69 466.42,-417.32 464.3,-423.99\"/>\n",
       "</g>\n",
       "<!-- 7 -->\n",
       "<g id=\"node8\" class=\"node\">\n",
       "<title>7</title>\n",
       "<path fill=\"#e58139\" stroke=\"black\" d=\"M572.5,-392C572.5,-392 494.5,-392 494.5,-392 488.5,-392 482.5,-386 482.5,-380 482.5,-380 482.5,-340 482.5,-340 482.5,-334 488.5,-328 494.5,-328 494.5,-328 572.5,-328 572.5,-328 578.5,-328 584.5,-334 584.5,-340 584.5,-340 584.5,-380 584.5,-380 584.5,-386 578.5,-392 572.5,-392\"/>\n",
       "<text text-anchor=\"start\" x=\"505.5\" y=\"-377.8\" font-family=\"Helvetica,sans-Serif\" font-size=\"14.00\">gini = 0.0</text>\n",
       "<text text-anchor=\"start\" x=\"492.5\" y=\"-363.8\" font-family=\"Helvetica,sans-Serif\" font-size=\"14.00\">samples = 15</text>\n",
       "<text text-anchor=\"start\" x=\"490.5\" y=\"-349.8\" font-family=\"Helvetica,sans-Serif\" font-size=\"14.00\">value = [15, 0]</text>\n",
       "<text text-anchor=\"start\" x=\"503\" y=\"-335.8\" font-family=\"Helvetica,sans-Serif\" font-size=\"14.00\">class = y</text>\n",
       "<text text-anchor=\"start\" x=\"557\" y=\"-335.8\" font-family=\"Helvetica,sans-Serif\" baseline-shift=\"sub\" font-size=\"14.00\">0</text>\n",
       "</g>\n",
       "<!-- 5&#45;&gt;7 -->\n",
       "<g id=\"edge7\" class=\"edge\">\n",
       "<title>5&#45;&gt;7</title>\n",
       "<path fill=\"none\" stroke=\"black\" d=\"M439.02,-381.05C449.87,-378.61 461.24,-376.05 472.17,-373.58\"/>\n",
       "<polygon fill=\"black\" stroke=\"black\" points=\"473.07,-376.97 482.06,-371.36 471.53,-370.14 473.07,-376.97\"/>\n",
       "</g>\n",
       "<!-- 9 -->\n",
       "<g id=\"node10\" class=\"node\">\n",
       "<title>9</title>\n",
       "<path fill=\"#eb9d65\" stroke=\"black\" d=\"M427,-283C427,-283 334,-283 334,-283 328,-283 322,-277 322,-271 322,-271 322,-217 322,-217 322,-211 328,-205 334,-205 334,-205 427,-205 427,-205 433,-205 439,-211 439,-217 439,-217 439,-271 439,-271 439,-277 433,-283 427,-283\"/>\n",
       "<text text-anchor=\"start\" x=\"351.5\" y=\"-268.8\" font-family=\"Helvetica,sans-Serif\" font-size=\"14.00\">Age ≤ 9.1</text>\n",
       "<text text-anchor=\"start\" x=\"345\" y=\"-254.8\" font-family=\"Helvetica,sans-Serif\" font-size=\"14.00\">gini = 0.297</text>\n",
       "<text text-anchor=\"start\" x=\"335.5\" y=\"-240.8\" font-family=\"Helvetica,sans-Serif\" font-size=\"14.00\">samples = 430</text>\n",
       "<text text-anchor=\"start\" x=\"330\" y=\"-226.8\" font-family=\"Helvetica,sans-Serif\" font-size=\"14.00\">value = [352, 78]</text>\n",
       "<text text-anchor=\"start\" x=\"350\" y=\"-212.8\" font-family=\"Helvetica,sans-Serif\" font-size=\"14.00\">class = y</text>\n",
       "<text text-anchor=\"start\" x=\"404\" y=\"-212.8\" font-family=\"Helvetica,sans-Serif\" baseline-shift=\"sub\" font-size=\"14.00\">0</text>\n",
       "</g>\n",
       "<!-- 8&#45;&gt;9 -->\n",
       "<g id=\"edge9\" class=\"edge\">\n",
       "<title>8&#45;&gt;9</title>\n",
       "<path fill=\"none\" stroke=\"black\" d=\"M286.21,-244C294.55,-244 303.15,-244 311.59,-244\"/>\n",
       "<polygon fill=\"black\" stroke=\"black\" points=\"311.78,-247.5 321.78,-244 311.78,-240.5 311.78,-247.5\"/>\n",
       "</g>\n",
       "<!-- 12 -->\n",
       "<g id=\"node13\" class=\"node\">\n",
       "<title>12</title>\n",
       "<path fill=\"#fdf7f2\" stroke=\"black\" d=\"M423.5,-153C423.5,-153 337.5,-153 337.5,-153 331.5,-153 325.5,-147 325.5,-141 325.5,-141 325.5,-87 325.5,-87 325.5,-81 331.5,-75 337.5,-75 337.5,-75 423.5,-75 423.5,-75 429.5,-75 435.5,-81 435.5,-87 435.5,-87 435.5,-141 435.5,-141 435.5,-147 429.5,-153 423.5,-153\"/>\n",
       "<text text-anchor=\"start\" x=\"345.5\" y=\"-138.8\" font-family=\"Helvetica,sans-Serif\" font-size=\"14.00\">SibSp ≤ 0.5</text>\n",
       "<text text-anchor=\"start\" x=\"345\" y=\"-124.8\" font-family=\"Helvetica,sans-Serif\" font-size=\"14.00\">gini = 0.499</text>\n",
       "<text text-anchor=\"start\" x=\"335.5\" y=\"-110.8\" font-family=\"Helvetica,sans-Serif\" font-size=\"14.00\">samples = 145</text>\n",
       "<text text-anchor=\"start\" x=\"333.5\" y=\"-96.8\" font-family=\"Helvetica,sans-Serif\" font-size=\"14.00\">value = [75, 70]</text>\n",
       "<text text-anchor=\"start\" x=\"350\" y=\"-82.8\" font-family=\"Helvetica,sans-Serif\" font-size=\"14.00\">class = y</text>\n",
       "<text text-anchor=\"start\" x=\"404\" y=\"-82.8\" font-family=\"Helvetica,sans-Serif\" baseline-shift=\"sub\" font-size=\"14.00\">0</text>\n",
       "</g>\n",
       "<!-- 8&#45;&gt;12 -->\n",
       "<g id=\"edge12\" class=\"edge\">\n",
       "<title>8&#45;&gt;12</title>\n",
       "<path fill=\"none\" stroke=\"black\" d=\"M271.01,-205C287.94,-190.79 307.24,-174.61 324.82,-159.86\"/>\n",
       "<polygon fill=\"black\" stroke=\"black\" points=\"327.35,-162.31 332.76,-153.2 322.85,-156.95 327.35,-162.31\"/>\n",
       "</g>\n",
       "<!-- 10 -->\n",
       "<g id=\"node11\" class=\"node\">\n",
       "<title>10</title>\n",
       "<path fill=\"#42a2e6\" stroke=\"black\" d=\"M572.5,-310C572.5,-310 494.5,-310 494.5,-310 488.5,-310 482.5,-304 482.5,-298 482.5,-298 482.5,-258 482.5,-258 482.5,-252 488.5,-246 494.5,-246 494.5,-246 572.5,-246 572.5,-246 578.5,-246 584.5,-252 584.5,-258 584.5,-258 584.5,-298 584.5,-298 584.5,-304 578.5,-310 572.5,-310\"/>\n",
       "<text text-anchor=\"start\" x=\"498\" y=\"-295.8\" font-family=\"Helvetica,sans-Serif\" font-size=\"14.00\">gini = 0.087</text>\n",
       "<text text-anchor=\"start\" x=\"492.5\" y=\"-281.8\" font-family=\"Helvetica,sans-Serif\" font-size=\"14.00\">samples = 22</text>\n",
       "<text text-anchor=\"start\" x=\"490.5\" y=\"-267.8\" font-family=\"Helvetica,sans-Serif\" font-size=\"14.00\">value = [1, 21]</text>\n",
       "<text text-anchor=\"start\" x=\"503\" y=\"-253.8\" font-family=\"Helvetica,sans-Serif\" font-size=\"14.00\">class = y</text>\n",
       "<text text-anchor=\"start\" x=\"557\" y=\"-253.8\" font-family=\"Helvetica,sans-Serif\" baseline-shift=\"sub\" font-size=\"14.00\">1</text>\n",
       "</g>\n",
       "<!-- 9&#45;&gt;10 -->\n",
       "<g id=\"edge10\" class=\"edge\">\n",
       "<title>9&#45;&gt;10</title>\n",
       "<path fill=\"none\" stroke=\"black\" d=\"M439.02,-256.95C449.87,-259.39 461.24,-261.95 472.17,-264.42\"/>\n",
       "<polygon fill=\"black\" stroke=\"black\" points=\"471.53,-267.86 482.06,-266.64 473.07,-261.03 471.53,-267.86\"/>\n",
       "</g>\n",
       "<!-- 11 -->\n",
       "<g id=\"node12\" class=\"node\">\n",
       "<title>11</title>\n",
       "<path fill=\"#e99559\" stroke=\"black\" d=\"M580,-228C580,-228 487,-228 487,-228 481,-228 475,-222 475,-216 475,-216 475,-176 475,-176 475,-170 481,-164 487,-164 487,-164 580,-164 580,-164 586,-164 592,-170 592,-176 592,-176 592,-216 592,-216 592,-222 586,-228 580,-228\"/>\n",
       "<text text-anchor=\"start\" x=\"501.5\" y=\"-213.8\" font-family=\"Helvetica,sans-Serif\" font-size=\"14.00\">gini = 0.24</text>\n",
       "<text text-anchor=\"start\" x=\"488.5\" y=\"-199.8\" font-family=\"Helvetica,sans-Serif\" font-size=\"14.00\">samples = 408</text>\n",
       "<text text-anchor=\"start\" x=\"483\" y=\"-185.8\" font-family=\"Helvetica,sans-Serif\" font-size=\"14.00\">value = [351, 57]</text>\n",
       "<text text-anchor=\"start\" x=\"503\" y=\"-171.8\" font-family=\"Helvetica,sans-Serif\" font-size=\"14.00\">class = y</text>\n",
       "<text text-anchor=\"start\" x=\"557\" y=\"-171.8\" font-family=\"Helvetica,sans-Serif\" baseline-shift=\"sub\" font-size=\"14.00\">0</text>\n",
       "</g>\n",
       "<!-- 9&#45;&gt;11 -->\n",
       "<g id=\"edge11\" class=\"edge\">\n",
       "<title>9&#45;&gt;11</title>\n",
       "<path fill=\"none\" stroke=\"black\" d=\"M439.02,-225.72C447.56,-223 456.42,-220.18 465.14,-217.41\"/>\n",
       "<polygon fill=\"black\" stroke=\"black\" points=\"466.42,-220.68 474.89,-214.31 464.3,-214.01 466.42,-220.68\"/>\n",
       "</g>\n",
       "<!-- 13 -->\n",
       "<g id=\"node14\" class=\"node\">\n",
       "<title>13</title>\n",
       "<path fill=\"#abd5f4\" stroke=\"black\" d=\"M576.5,-146C576.5,-146 490.5,-146 490.5,-146 484.5,-146 478.5,-140 478.5,-134 478.5,-134 478.5,-94 478.5,-94 478.5,-88 484.5,-82 490.5,-82 490.5,-82 576.5,-82 576.5,-82 582.5,-82 588.5,-88 588.5,-94 588.5,-94 588.5,-134 588.5,-134 588.5,-140 582.5,-146 576.5,-146\"/>\n",
       "<text text-anchor=\"start\" x=\"498\" y=\"-131.8\" font-family=\"Helvetica,sans-Serif\" font-size=\"14.00\">gini = 0.464</text>\n",
       "<text text-anchor=\"start\" x=\"492.5\" y=\"-117.8\" font-family=\"Helvetica,sans-Serif\" font-size=\"14.00\">samples = 93</text>\n",
       "<text text-anchor=\"start\" x=\"486.5\" y=\"-103.8\" font-family=\"Helvetica,sans-Serif\" font-size=\"14.00\">value = [34, 59]</text>\n",
       "<text text-anchor=\"start\" x=\"503\" y=\"-89.8\" font-family=\"Helvetica,sans-Serif\" font-size=\"14.00\">class = y</text>\n",
       "<text text-anchor=\"start\" x=\"557\" y=\"-89.8\" font-family=\"Helvetica,sans-Serif\" baseline-shift=\"sub\" font-size=\"14.00\">1</text>\n",
       "</g>\n",
       "<!-- 12&#45;&gt;13 -->\n",
       "<g id=\"edge13\" class=\"edge\">\n",
       "<title>12&#45;&gt;13</title>\n",
       "<path fill=\"none\" stroke=\"black\" d=\"M435.59,-114C446.11,-114 457.23,-114 468.04,-114\"/>\n",
       "<polygon fill=\"black\" stroke=\"black\" points=\"468.28,-117.5 478.28,-114 468.28,-110.5 468.28,-117.5\"/>\n",
       "</g>\n",
       "<!-- 14 -->\n",
       "<g id=\"node15\" class=\"node\">\n",
       "<title>14</title>\n",
       "<path fill=\"#eca36e\" stroke=\"black\" d=\"M576,-64C576,-64 491,-64 491,-64 485,-64 479,-58 479,-52 479,-52 479,-12 479,-12 479,-6 485,0 491,0 491,0 576,0 576,0 582,0 588,-6 588,-12 588,-12 588,-52 588,-52 588,-58 582,-64 576,-64\"/>\n",
       "<text text-anchor=\"start\" x=\"498\" y=\"-49.8\" font-family=\"Helvetica,sans-Serif\" font-size=\"14.00\">gini = 0.334</text>\n",
       "<text text-anchor=\"start\" x=\"492.5\" y=\"-35.8\" font-family=\"Helvetica,sans-Serif\" font-size=\"14.00\">samples = 52</text>\n",
       "<text text-anchor=\"start\" x=\"487\" y=\"-21.8\" font-family=\"Helvetica,sans-Serif\" font-size=\"14.00\">value = [41, 11]</text>\n",
       "<text text-anchor=\"start\" x=\"503\" y=\"-7.8\" font-family=\"Helvetica,sans-Serif\" font-size=\"14.00\">class = y</text>\n",
       "<text text-anchor=\"start\" x=\"557\" y=\"-7.8\" font-family=\"Helvetica,sans-Serif\" baseline-shift=\"sub\" font-size=\"14.00\">0</text>\n",
       "</g>\n",
       "<!-- 12&#45;&gt;14 -->\n",
       "<g id=\"edge14\" class=\"edge\">\n",
       "<title>12&#45;&gt;14</title>\n",
       "<path fill=\"none\" stroke=\"black\" d=\"M435.59,-84.63C446.67,-78.61 458.43,-72.22 469.79,-66.06\"/>\n",
       "<polygon fill=\"black\" stroke=\"black\" points=\"471.67,-69.02 478.79,-61.17 468.33,-62.86 471.67,-69.02\"/>\n",
       "</g>\n",
       "</g>\n",
       "</svg>\n"
      ],
      "text/plain": [
       "<graphviz.sources.Source at 0x243f4c97970>"
      ]
     },
     "execution_count": 100,
     "metadata": {},
     "output_type": "execute_result"
    }
   ],
   "source": [
    "dot_data = tree.export_graphviz(clf_gini, out_file=None, max_depth=None,\n",
    "                                feature_names=X_train.columns,  \n",
    "                                class_names=True,  \n",
    "                                filled=True, rotate=True, rounded=True,  \n",
    "                                special_characters=True)\n",
    "\n",
    "graph = graphviz.Source(dot_data) \n",
    "graph\n"
   ]
  },
  {
   "cell_type": "markdown",
   "id": "29f900ee",
   "metadata": {},
   "source": [
    "Gini entropy"
   ]
  },
  {
   "cell_type": "code",
   "execution_count": 101,
   "id": "76f915c2",
   "metadata": {},
   "outputs": [
    {
     "data": {
      "text/plain": [
       "DecisionTreeClassifier(criterion='entropy', max_depth=3, random_state=0)"
      ]
     },
     "execution_count": 101,
     "metadata": {},
     "output_type": "execute_result"
    }
   ],
   "source": [
    "from sklearn.tree import DecisionTreeClassifier\n",
    "clf_en = DecisionTreeClassifier(criterion='entropy', max_depth=3, random_state=0)\n",
    "clf_en.fit(X_train, y_train)"
   ]
  },
  {
   "cell_type": "code",
   "execution_count": 102,
   "id": "bc5f7744",
   "metadata": {},
   "outputs": [],
   "source": [
    "y_pred_en = clf_en.predict(X_test)"
   ]
  },
  {
   "cell_type": "code",
   "execution_count": 103,
   "id": "826fa5ba",
   "metadata": {},
   "outputs": [
    {
     "name": "stdout",
     "output_type": "stream",
     "text": [
      "Precisión en el set de Entrenamiento: 0.79\n"
     ]
    }
   ],
   "source": [
    "print('Precisión en el set de Entrenamiento: {:.2f}'\n",
    "     .format(clf_en.score(X_train, y_train)))"
   ]
  },
  {
   "cell_type": "code",
   "execution_count": 104,
   "id": "332b7d3e",
   "metadata": {},
   "outputs": [
    {
     "data": {
      "image/svg+xml": [
       "<?xml version=\"1.0\" encoding=\"UTF-8\" standalone=\"no\"?>\n",
       "<!DOCTYPE svg PUBLIC \"-//W3C//DTD SVG 1.1//EN\"\n",
       " \"http://www.w3.org/Graphics/SVG/1.1/DTD/svg11.dtd\">\n",
       "<!-- Generated by graphviz version 2.50.0 (0)\n",
       " -->\n",
       "<!-- Title: Tree Pages: 1 -->\n",
       "<svg width=\"600pt\" height=\"646pt\"\n",
       " viewBox=\"0.00 0.00 600.00 646.00\" xmlns=\"http://www.w3.org/2000/svg\" xmlns:xlink=\"http://www.w3.org/1999/xlink\">\n",
       "<g id=\"graph0\" class=\"graph\" transform=\"scale(1 1) rotate(0) translate(4 642)\">\n",
       "<title>Tree</title>\n",
       "<polygon fill=\"white\" stroke=\"transparent\" points=\"-4,4 -4,-642 596,-642 596,4 -4,4\"/>\n",
       "<!-- 0 -->\n",
       "<g id=\"node1\" class=\"node\">\n",
       "<title>0</title>\n",
       "<path fill=\"#fae9dc\" stroke=\"black\" d=\"M113,-392C113,-392 12,-392 12,-392 6,-392 0,-386 0,-380 0,-380 0,-326 0,-326 0,-320 6,-314 12,-314 12,-314 113,-314 113,-314 119,-314 125,-320 125,-326 125,-326 125,-380 125,-380 125,-386 119,-392 113,-392\"/>\n",
       "<text text-anchor=\"start\" x=\"33.5\" y=\"-377.8\" font-family=\"Helvetica,sans-Serif\" font-size=\"14.00\">Sex ≤ 0.5</text>\n",
       "<text text-anchor=\"start\" x=\"15\" y=\"-363.8\" font-family=\"Helvetica,sans-Serif\" font-size=\"14.00\">entropy = 0.993</text>\n",
       "<text text-anchor=\"start\" x=\"17.5\" y=\"-349.8\" font-family=\"Helvetica,sans-Serif\" font-size=\"14.00\">samples = 923</text>\n",
       "<text text-anchor=\"start\" x=\"8\" y=\"-335.8\" font-family=\"Helvetica,sans-Serif\" font-size=\"14.00\">value = [506, 417]</text>\n",
       "<text text-anchor=\"start\" x=\"32\" y=\"-321.8\" font-family=\"Helvetica,sans-Serif\" font-size=\"14.00\">class = y</text>\n",
       "<text text-anchor=\"start\" x=\"86\" y=\"-321.8\" font-family=\"Helvetica,sans-Serif\" baseline-shift=\"sub\" font-size=\"14.00\">0</text>\n",
       "</g>\n",
       "<!-- 1 -->\n",
       "<g id=\"node2\" class=\"node\">\n",
       "<title>1</title>\n",
       "<path fill=\"#73baed\" stroke=\"black\" d=\"M270,-433C270,-433 177,-433 177,-433 171,-433 165,-427 165,-421 165,-421 165,-367 165,-367 165,-361 171,-355 177,-355 177,-355 270,-355 270,-355 276,-355 282,-361 282,-367 282,-367 282,-421 282,-421 282,-427 276,-433 270,-433\"/>\n",
       "<text text-anchor=\"start\" x=\"186.5\" y=\"-418.8\" font-family=\"Helvetica,sans-Serif\" font-size=\"14.00\">Pclass ≤ 2.5</text>\n",
       "<text text-anchor=\"start\" x=\"176\" y=\"-404.8\" font-family=\"Helvetica,sans-Serif\" font-size=\"14.00\">entropy = 0.773</text>\n",
       "<text text-anchor=\"start\" x=\"178.5\" y=\"-390.8\" font-family=\"Helvetica,sans-Serif\" font-size=\"14.00\">samples = 348</text>\n",
       "<text text-anchor=\"start\" x=\"173\" y=\"-376.8\" font-family=\"Helvetica,sans-Serif\" font-size=\"14.00\">value = [79, 269]</text>\n",
       "<text text-anchor=\"start\" x=\"193\" y=\"-362.8\" font-family=\"Helvetica,sans-Serif\" font-size=\"14.00\">class = y</text>\n",
       "<text text-anchor=\"start\" x=\"247\" y=\"-362.8\" font-family=\"Helvetica,sans-Serif\" baseline-shift=\"sub\" font-size=\"14.00\">1</text>\n",
       "</g>\n",
       "<!-- 0&#45;&gt;1 -->\n",
       "<g id=\"edge1\" class=\"edge\">\n",
       "<title>0&#45;&gt;1</title>\n",
       "<path fill=\"none\" stroke=\"black\" d=\"M125.43,-368.97C135.17,-371.48 145.29,-374.09 155.15,-376.63\"/>\n",
       "<polygon fill=\"black\" stroke=\"black\" points=\"154.34,-380.04 164.9,-379.15 156.09,-373.26 154.34,-380.04\"/>\n",
       "<text text-anchor=\"middle\" x=\"143.37\" y=\"-388.15\" font-family=\"Helvetica,sans-Serif\" font-size=\"14.00\">True</text>\n",
       "</g>\n",
       "<!-- 8 -->\n",
       "<g id=\"node9\" class=\"node\">\n",
       "<title>8</title>\n",
       "<path fill=\"#eead7e\" stroke=\"black\" d=\"M274,-283C274,-283 173,-283 173,-283 167,-283 161,-277 161,-271 161,-271 161,-217 161,-217 161,-211 167,-205 173,-205 173,-205 274,-205 274,-205 280,-205 286,-211 286,-217 286,-217 286,-271 286,-271 286,-277 280,-283 274,-283\"/>\n",
       "<text text-anchor=\"start\" x=\"181\" y=\"-268.8\" font-family=\"Helvetica,sans-Serif\" font-size=\"14.00\">Fare ≤ 15.173</text>\n",
       "<text text-anchor=\"start\" x=\"176\" y=\"-254.8\" font-family=\"Helvetica,sans-Serif\" font-size=\"14.00\">entropy = 0.823</text>\n",
       "<text text-anchor=\"start\" x=\"178.5\" y=\"-240.8\" font-family=\"Helvetica,sans-Serif\" font-size=\"14.00\">samples = 575</text>\n",
       "<text text-anchor=\"start\" x=\"169\" y=\"-226.8\" font-family=\"Helvetica,sans-Serif\" font-size=\"14.00\">value = [427, 148]</text>\n",
       "<text text-anchor=\"start\" x=\"193\" y=\"-212.8\" font-family=\"Helvetica,sans-Serif\" font-size=\"14.00\">class = y</text>\n",
       "<text text-anchor=\"start\" x=\"247\" y=\"-212.8\" font-family=\"Helvetica,sans-Serif\" baseline-shift=\"sub\" font-size=\"14.00\">0</text>\n",
       "</g>\n",
       "<!-- 0&#45;&gt;8 -->\n",
       "<g id=\"edge8\" class=\"edge\">\n",
       "<title>0&#45;&gt;8</title>\n",
       "<path fill=\"none\" stroke=\"black\" d=\"M120.45,-313.96C132.33,-305.82 144.93,-297.18 157.08,-288.84\"/>\n",
       "<polygon fill=\"black\" stroke=\"black\" points=\"159.14,-291.68 165.41,-283.14 155.18,-285.9 159.14,-291.68\"/>\n",
       "<text text-anchor=\"middle\" x=\"140.83\" y=\"-274.85\" font-family=\"Helvetica,sans-Serif\" font-size=\"14.00\">False</text>\n",
       "</g>\n",
       "<!-- 2 -->\n",
       "<g id=\"node3\" class=\"node\">\n",
       "<title>2</title>\n",
       "<path fill=\"#42a1e6\" stroke=\"black\" d=\"M424,-563C424,-563 337,-563 337,-563 331,-563 325,-557 325,-551 325,-551 325,-497 325,-497 325,-491 331,-485 337,-485 337,-485 424,-485 424,-485 430,-485 436,-491 436,-497 436,-497 436,-551 436,-551 436,-557 430,-563 424,-563\"/>\n",
       "<text text-anchor=\"start\" x=\"338\" y=\"-548.8\" font-family=\"Helvetica,sans-Serif\" font-size=\"14.00\">Fare ≤ 29.356</text>\n",
       "<text text-anchor=\"start\" x=\"333\" y=\"-534.8\" font-family=\"Helvetica,sans-Serif\" font-size=\"14.00\">entropy = 0.249</text>\n",
       "<text text-anchor=\"start\" x=\"335.5\" y=\"-520.8\" font-family=\"Helvetica,sans-Serif\" font-size=\"14.00\">samples = 169</text>\n",
       "<text text-anchor=\"start\" x=\"333.5\" y=\"-506.8\" font-family=\"Helvetica,sans-Serif\" font-size=\"14.00\">value = [7, 162]</text>\n",
       "<text text-anchor=\"start\" x=\"350\" y=\"-492.8\" font-family=\"Helvetica,sans-Serif\" font-size=\"14.00\">class = y</text>\n",
       "<text text-anchor=\"start\" x=\"404\" y=\"-492.8\" font-family=\"Helvetica,sans-Serif\" baseline-shift=\"sub\" font-size=\"14.00\">1</text>\n",
       "</g>\n",
       "<!-- 1&#45;&gt;2 -->\n",
       "<g id=\"edge2\" class=\"edge\">\n",
       "<title>1&#45;&gt;2</title>\n",
       "<path fill=\"none\" stroke=\"black\" d=\"M271.01,-433C287.94,-447.21 307.24,-463.39 324.82,-478.14\"/>\n",
       "<polygon fill=\"black\" stroke=\"black\" points=\"322.85,-481.05 332.76,-484.8 327.35,-475.69 322.85,-481.05\"/>\n",
       "</g>\n",
       "<!-- 5 -->\n",
       "<g id=\"node6\" class=\"node\">\n",
       "<title>5</title>\n",
       "<path fill=\"#bedff6\" stroke=\"black\" d=\"M427,-433C427,-433 334,-433 334,-433 328,-433 322,-427 322,-421 322,-421 322,-367 322,-367 322,-361 328,-355 334,-355 334,-355 427,-355 427,-355 433,-355 439,-361 439,-367 439,-367 439,-421 439,-421 439,-427 433,-433 427,-433\"/>\n",
       "<text text-anchor=\"start\" x=\"347.5\" y=\"-418.8\" font-family=\"Helvetica,sans-Serif\" font-size=\"14.00\">Age ≤ 38.2</text>\n",
       "<text text-anchor=\"start\" x=\"333\" y=\"-404.8\" font-family=\"Helvetica,sans-Serif\" font-size=\"14.00\">entropy = 0.972</text>\n",
       "<text text-anchor=\"start\" x=\"335.5\" y=\"-390.8\" font-family=\"Helvetica,sans-Serif\" font-size=\"14.00\">samples = 179</text>\n",
       "<text text-anchor=\"start\" x=\"330\" y=\"-376.8\" font-family=\"Helvetica,sans-Serif\" font-size=\"14.00\">value = [72, 107]</text>\n",
       "<text text-anchor=\"start\" x=\"350\" y=\"-362.8\" font-family=\"Helvetica,sans-Serif\" font-size=\"14.00\">class = y</text>\n",
       "<text text-anchor=\"start\" x=\"404\" y=\"-362.8\" font-family=\"Helvetica,sans-Serif\" baseline-shift=\"sub\" font-size=\"14.00\">1</text>\n",
       "</g>\n",
       "<!-- 1&#45;&gt;5 -->\n",
       "<g id=\"edge5\" class=\"edge\">\n",
       "<title>1&#45;&gt;5</title>\n",
       "<path fill=\"none\" stroke=\"black\" d=\"M282.22,-394C291.86,-394 301.95,-394 311.82,-394\"/>\n",
       "<polygon fill=\"black\" stroke=\"black\" points=\"311.99,-397.5 321.99,-394 311.99,-390.5 311.99,-397.5\"/>\n",
       "</g>\n",
       "<!-- 3 -->\n",
       "<g id=\"node4\" class=\"node\">\n",
       "<title>3</title>\n",
       "<path fill=\"#47a4e7\" stroke=\"black\" d=\"M577,-638C577,-638 490,-638 490,-638 484,-638 478,-632 478,-626 478,-626 478,-586 478,-586 478,-580 484,-574 490,-574 490,-574 577,-574 577,-574 583,-574 589,-580 589,-586 589,-586 589,-626 589,-626 589,-632 583,-638 577,-638\"/>\n",
       "<text text-anchor=\"start\" x=\"486\" y=\"-623.8\" font-family=\"Helvetica,sans-Serif\" font-size=\"14.00\">entropy = 0.346</text>\n",
       "<text text-anchor=\"start\" x=\"488.5\" y=\"-609.8\" font-family=\"Helvetica,sans-Serif\" font-size=\"14.00\">samples = 108</text>\n",
       "<text text-anchor=\"start\" x=\"486.5\" y=\"-595.8\" font-family=\"Helvetica,sans-Serif\" font-size=\"14.00\">value = [7, 101]</text>\n",
       "<text text-anchor=\"start\" x=\"503\" y=\"-581.8\" font-family=\"Helvetica,sans-Serif\" font-size=\"14.00\">class = y</text>\n",
       "<text text-anchor=\"start\" x=\"557\" y=\"-581.8\" font-family=\"Helvetica,sans-Serif\" baseline-shift=\"sub\" font-size=\"14.00\">1</text>\n",
       "</g>\n",
       "<!-- 2&#45;&gt;3 -->\n",
       "<g id=\"edge3\" class=\"edge\">\n",
       "<title>2&#45;&gt;3</title>\n",
       "<path fill=\"none\" stroke=\"black\" d=\"M436.01,-553.6C446.64,-559.37 457.87,-565.47 468.76,-571.39\"/>\n",
       "<polygon fill=\"black\" stroke=\"black\" points=\"467.35,-574.61 477.81,-576.3 470.69,-568.45 467.35,-574.61\"/>\n",
       "</g>\n",
       "<!-- 4 -->\n",
       "<g id=\"node5\" class=\"node\">\n",
       "<title>4</title>\n",
       "<path fill=\"#399de5\" stroke=\"black\" d=\"M572.5,-556C572.5,-556 494.5,-556 494.5,-556 488.5,-556 482.5,-550 482.5,-544 482.5,-544 482.5,-504 482.5,-504 482.5,-498 488.5,-492 494.5,-492 494.5,-492 572.5,-492 572.5,-492 578.5,-492 584.5,-498 584.5,-504 584.5,-504 584.5,-544 584.5,-544 584.5,-550 578.5,-556 572.5,-556\"/>\n",
       "<text text-anchor=\"start\" x=\"493.5\" y=\"-541.8\" font-family=\"Helvetica,sans-Serif\" font-size=\"14.00\">entropy = 0.0</text>\n",
       "<text text-anchor=\"start\" x=\"492.5\" y=\"-527.8\" font-family=\"Helvetica,sans-Serif\" font-size=\"14.00\">samples = 61</text>\n",
       "<text text-anchor=\"start\" x=\"490.5\" y=\"-513.8\" font-family=\"Helvetica,sans-Serif\" font-size=\"14.00\">value = [0, 61]</text>\n",
       "<text text-anchor=\"start\" x=\"503\" y=\"-499.8\" font-family=\"Helvetica,sans-Serif\" font-size=\"14.00\">class = y</text>\n",
       "<text text-anchor=\"start\" x=\"557\" y=\"-499.8\" font-family=\"Helvetica,sans-Serif\" baseline-shift=\"sub\" font-size=\"14.00\">1</text>\n",
       "</g>\n",
       "<!-- 2&#45;&gt;4 -->\n",
       "<g id=\"edge4\" class=\"edge\">\n",
       "<title>2&#45;&gt;4</title>\n",
       "<path fill=\"none\" stroke=\"black\" d=\"M436.01,-524C447.64,-524 460,-524 471.84,-524\"/>\n",
       "<polygon fill=\"black\" stroke=\"black\" points=\"472.09,-527.5 482.09,-524 472.09,-520.5 472.09,-527.5\"/>\n",
       "</g>\n",
       "<!-- 6 -->\n",
       "<g id=\"node7\" class=\"node\">\n",
       "<title>6</title>\n",
       "<path fill=\"#a2d1f3\" stroke=\"black\" d=\"M580,-474C580,-474 487,-474 487,-474 481,-474 475,-468 475,-462 475,-462 475,-422 475,-422 475,-416 481,-410 487,-410 487,-410 580,-410 580,-410 586,-410 592,-416 592,-422 592,-422 592,-462 592,-462 592,-468 586,-474 580,-474\"/>\n",
       "<text text-anchor=\"start\" x=\"486\" y=\"-459.8\" font-family=\"Helvetica,sans-Serif\" font-size=\"14.00\">entropy = 0.932</text>\n",
       "<text text-anchor=\"start\" x=\"488.5\" y=\"-445.8\" font-family=\"Helvetica,sans-Serif\" font-size=\"14.00\">samples = 164</text>\n",
       "<text text-anchor=\"start\" x=\"483\" y=\"-431.8\" font-family=\"Helvetica,sans-Serif\" font-size=\"14.00\">value = [57, 107]</text>\n",
       "<text text-anchor=\"start\" x=\"503\" y=\"-417.8\" font-family=\"Helvetica,sans-Serif\" font-size=\"14.00\">class = y</text>\n",
       "<text text-anchor=\"start\" x=\"557\" y=\"-417.8\" font-family=\"Helvetica,sans-Serif\" baseline-shift=\"sub\" font-size=\"14.00\">1</text>\n",
       "</g>\n",
       "<!-- 5&#45;&gt;6 -->\n",
       "<g id=\"edge6\" class=\"edge\">\n",
       "<title>5&#45;&gt;6</title>\n",
       "<path fill=\"none\" stroke=\"black\" d=\"M439.02,-412.28C447.56,-415 456.42,-417.82 465.14,-420.59\"/>\n",
       "<polygon fill=\"black\" stroke=\"black\" points=\"464.3,-423.99 474.89,-423.69 466.42,-417.32 464.3,-423.99\"/>\n",
       "</g>\n",
       "<!-- 7 -->\n",
       "<g id=\"node8\" class=\"node\">\n",
       "<title>7</title>\n",
       "<path fill=\"#e58139\" stroke=\"black\" d=\"M572.5,-392C572.5,-392 494.5,-392 494.5,-392 488.5,-392 482.5,-386 482.5,-380 482.5,-380 482.5,-340 482.5,-340 482.5,-334 488.5,-328 494.5,-328 494.5,-328 572.5,-328 572.5,-328 578.5,-328 584.5,-334 584.5,-340 584.5,-340 584.5,-380 584.5,-380 584.5,-386 578.5,-392 572.5,-392\"/>\n",
       "<text text-anchor=\"start\" x=\"493.5\" y=\"-377.8\" font-family=\"Helvetica,sans-Serif\" font-size=\"14.00\">entropy = 0.0</text>\n",
       "<text text-anchor=\"start\" x=\"492.5\" y=\"-363.8\" font-family=\"Helvetica,sans-Serif\" font-size=\"14.00\">samples = 15</text>\n",
       "<text text-anchor=\"start\" x=\"490.5\" y=\"-349.8\" font-family=\"Helvetica,sans-Serif\" font-size=\"14.00\">value = [15, 0]</text>\n",
       "<text text-anchor=\"start\" x=\"503\" y=\"-335.8\" font-family=\"Helvetica,sans-Serif\" font-size=\"14.00\">class = y</text>\n",
       "<text text-anchor=\"start\" x=\"557\" y=\"-335.8\" font-family=\"Helvetica,sans-Serif\" baseline-shift=\"sub\" font-size=\"14.00\">0</text>\n",
       "</g>\n",
       "<!-- 5&#45;&gt;7 -->\n",
       "<g id=\"edge7\" class=\"edge\">\n",
       "<title>5&#45;&gt;7</title>\n",
       "<path fill=\"none\" stroke=\"black\" d=\"M439.02,-381.05C449.87,-378.61 461.24,-376.05 472.17,-373.58\"/>\n",
       "<polygon fill=\"black\" stroke=\"black\" points=\"473.07,-376.97 482.06,-371.36 471.53,-370.14 473.07,-376.97\"/>\n",
       "</g>\n",
       "<!-- 9 -->\n",
       "<g id=\"node10\" class=\"node\">\n",
       "<title>9</title>\n",
       "<path fill=\"#ea985d\" stroke=\"black\" d=\"M427,-283C427,-283 334,-283 334,-283 328,-283 322,-277 322,-271 322,-271 322,-217 322,-217 322,-211 328,-205 334,-205 334,-205 427,-205 427,-205 433,-205 439,-211 439,-217 439,-217 439,-271 439,-271 439,-277 433,-283 427,-283\"/>\n",
       "<text text-anchor=\"start\" x=\"347.5\" y=\"-268.8\" font-family=\"Helvetica,sans-Serif\" font-size=\"14.00\">Age ≤ 10.5</text>\n",
       "<text text-anchor=\"start\" x=\"333\" y=\"-254.8\" font-family=\"Helvetica,sans-Serif\" font-size=\"14.00\">entropy = 0.623</text>\n",
       "<text text-anchor=\"start\" x=\"335.5\" y=\"-240.8\" font-family=\"Helvetica,sans-Serif\" font-size=\"14.00\">samples = 354</text>\n",
       "<text text-anchor=\"start\" x=\"330\" y=\"-226.8\" font-family=\"Helvetica,sans-Serif\" font-size=\"14.00\">value = [299, 55]</text>\n",
       "<text text-anchor=\"start\" x=\"350\" y=\"-212.8\" font-family=\"Helvetica,sans-Serif\" font-size=\"14.00\">class = y</text>\n",
       "<text text-anchor=\"start\" x=\"404\" y=\"-212.8\" font-family=\"Helvetica,sans-Serif\" baseline-shift=\"sub\" font-size=\"14.00\">0</text>\n",
       "</g>\n",
       "<!-- 8&#45;&gt;9 -->\n",
       "<g id=\"edge9\" class=\"edge\">\n",
       "<title>8&#45;&gt;9</title>\n",
       "<path fill=\"none\" stroke=\"black\" d=\"M286.21,-244C294.55,-244 303.15,-244 311.59,-244\"/>\n",
       "<polygon fill=\"black\" stroke=\"black\" points=\"311.78,-247.5 321.78,-244 311.78,-240.5 311.78,-247.5\"/>\n",
       "</g>\n",
       "<!-- 12 -->\n",
       "<g id=\"node13\" class=\"node\">\n",
       "<title>12</title>\n",
       "<path fill=\"#f8ddc9\" stroke=\"black\" d=\"M427,-153C427,-153 334,-153 334,-153 328,-153 322,-147 322,-141 322,-141 322,-87 322,-87 322,-81 328,-75 334,-75 334,-75 427,-75 427,-75 433,-75 439,-81 439,-87 439,-87 439,-141 439,-141 439,-147 433,-153 427,-153\"/>\n",
       "<text text-anchor=\"start\" x=\"343.5\" y=\"-138.8\" font-family=\"Helvetica,sans-Serif\" font-size=\"14.00\">Pclass ≤ 1.5</text>\n",
       "<text text-anchor=\"start\" x=\"333\" y=\"-124.8\" font-family=\"Helvetica,sans-Serif\" font-size=\"14.00\">entropy = 0.982</text>\n",
       "<text text-anchor=\"start\" x=\"335.5\" y=\"-110.8\" font-family=\"Helvetica,sans-Serif\" font-size=\"14.00\">samples = 221</text>\n",
       "<text text-anchor=\"start\" x=\"330\" y=\"-96.8\" font-family=\"Helvetica,sans-Serif\" font-size=\"14.00\">value = [128, 93]</text>\n",
       "<text text-anchor=\"start\" x=\"350\" y=\"-82.8\" font-family=\"Helvetica,sans-Serif\" font-size=\"14.00\">class = y</text>\n",
       "<text text-anchor=\"start\" x=\"404\" y=\"-82.8\" font-family=\"Helvetica,sans-Serif\" baseline-shift=\"sub\" font-size=\"14.00\">0</text>\n",
       "</g>\n",
       "<!-- 8&#45;&gt;12 -->\n",
       "<g id=\"edge12\" class=\"edge\">\n",
       "<title>8&#45;&gt;12</title>\n",
       "<path fill=\"none\" stroke=\"black\" d=\"M271.01,-205C287.94,-190.79 307.24,-174.61 324.82,-159.86\"/>\n",
       "<polygon fill=\"black\" stroke=\"black\" points=\"327.35,-162.31 332.76,-153.2 322.85,-156.95 327.35,-162.31\"/>\n",
       "</g>\n",
       "<!-- 10 -->\n",
       "<g id=\"node11\" class=\"node\">\n",
       "<title>10</title>\n",
       "<path fill=\"#399de5\" stroke=\"black\" d=\"M569.5,-310C569.5,-310 497.5,-310 497.5,-310 491.5,-310 485.5,-304 485.5,-298 485.5,-298 485.5,-258 485.5,-258 485.5,-252 491.5,-246 497.5,-246 497.5,-246 569.5,-246 569.5,-246 575.5,-246 581.5,-252 581.5,-258 581.5,-258 581.5,-298 581.5,-298 581.5,-304 575.5,-310 569.5,-310\"/>\n",
       "<text text-anchor=\"start\" x=\"493.5\" y=\"-295.8\" font-family=\"Helvetica,sans-Serif\" font-size=\"14.00\">entropy = 0.0</text>\n",
       "<text text-anchor=\"start\" x=\"496\" y=\"-281.8\" font-family=\"Helvetica,sans-Serif\" font-size=\"14.00\">samples = 8</text>\n",
       "<text text-anchor=\"start\" x=\"494\" y=\"-267.8\" font-family=\"Helvetica,sans-Serif\" font-size=\"14.00\">value = [0, 8]</text>\n",
       "<text text-anchor=\"start\" x=\"503\" y=\"-253.8\" font-family=\"Helvetica,sans-Serif\" font-size=\"14.00\">class = y</text>\n",
       "<text text-anchor=\"start\" x=\"557\" y=\"-253.8\" font-family=\"Helvetica,sans-Serif\" baseline-shift=\"sub\" font-size=\"14.00\">1</text>\n",
       "</g>\n",
       "<!-- 9&#45;&gt;10 -->\n",
       "<g id=\"edge10\" class=\"edge\">\n",
       "<title>9&#45;&gt;10</title>\n",
       "<path fill=\"none\" stroke=\"black\" d=\"M439.02,-256.95C451,-259.65 463.62,-262.49 475.58,-265.18\"/>\n",
       "<polygon fill=\"black\" stroke=\"black\" points=\"474.92,-268.62 485.44,-267.4 476.45,-261.79 474.92,-268.62\"/>\n",
       "</g>\n",
       "<!-- 11 -->\n",
       "<g id=\"node12\" class=\"node\">\n",
       "<title>11</title>\n",
       "<path fill=\"#e99558\" stroke=\"black\" d=\"M580,-228C580,-228 487,-228 487,-228 481,-228 475,-222 475,-216 475,-216 475,-176 475,-176 475,-170 481,-164 487,-164 487,-164 580,-164 580,-164 586,-164 592,-170 592,-176 592,-176 592,-216 592,-216 592,-222 586,-228 580,-228\"/>\n",
       "<text text-anchor=\"start\" x=\"486\" y=\"-213.8\" font-family=\"Helvetica,sans-Serif\" font-size=\"14.00\">entropy = 0.573</text>\n",
       "<text text-anchor=\"start\" x=\"488.5\" y=\"-199.8\" font-family=\"Helvetica,sans-Serif\" font-size=\"14.00\">samples = 346</text>\n",
       "<text text-anchor=\"start\" x=\"483\" y=\"-185.8\" font-family=\"Helvetica,sans-Serif\" font-size=\"14.00\">value = [299, 47]</text>\n",
       "<text text-anchor=\"start\" x=\"503\" y=\"-171.8\" font-family=\"Helvetica,sans-Serif\" font-size=\"14.00\">class = y</text>\n",
       "<text text-anchor=\"start\" x=\"557\" y=\"-171.8\" font-family=\"Helvetica,sans-Serif\" baseline-shift=\"sub\" font-size=\"14.00\">0</text>\n",
       "</g>\n",
       "<!-- 9&#45;&gt;11 -->\n",
       "<g id=\"edge11\" class=\"edge\">\n",
       "<title>9&#45;&gt;11</title>\n",
       "<path fill=\"none\" stroke=\"black\" d=\"M439.02,-225.72C447.56,-223 456.42,-220.18 465.14,-217.41\"/>\n",
       "<polygon fill=\"black\" stroke=\"black\" points=\"466.42,-220.68 474.89,-214.31 464.3,-214.01 466.42,-220.68\"/>\n",
       "</g>\n",
       "<!-- 13 -->\n",
       "<g id=\"node14\" class=\"node\">\n",
       "<title>13</title>\n",
       "<path fill=\"#cbe5f8\" stroke=\"black\" d=\"M577,-146C577,-146 490,-146 490,-146 484,-146 478,-140 478,-134 478,-134 478,-94 478,-94 478,-88 484,-82 490,-82 490,-82 577,-82 577,-82 583,-82 589,-88 589,-94 589,-94 589,-134 589,-134 589,-140 583,-146 577,-146\"/>\n",
       "<text text-anchor=\"start\" x=\"486\" y=\"-131.8\" font-family=\"Helvetica,sans-Serif\" font-size=\"14.00\">entropy = 0.983</text>\n",
       "<text text-anchor=\"start\" x=\"492.5\" y=\"-117.8\" font-family=\"Helvetica,sans-Serif\" font-size=\"14.00\">samples = 92</text>\n",
       "<text text-anchor=\"start\" x=\"486.5\" y=\"-103.8\" font-family=\"Helvetica,sans-Serif\" font-size=\"14.00\">value = [39, 53]</text>\n",
       "<text text-anchor=\"start\" x=\"503\" y=\"-89.8\" font-family=\"Helvetica,sans-Serif\" font-size=\"14.00\">class = y</text>\n",
       "<text text-anchor=\"start\" x=\"557\" y=\"-89.8\" font-family=\"Helvetica,sans-Serif\" baseline-shift=\"sub\" font-size=\"14.00\">1</text>\n",
       "</g>\n",
       "<!-- 12&#45;&gt;13 -->\n",
       "<g id=\"edge13\" class=\"edge\">\n",
       "<title>12&#45;&gt;13</title>\n",
       "<path fill=\"none\" stroke=\"black\" d=\"M439.02,-114C448.32,-114 458.01,-114 467.48,-114\"/>\n",
       "<polygon fill=\"black\" stroke=\"black\" points=\"467.63,-117.5 477.63,-114 467.63,-110.5 467.63,-117.5\"/>\n",
       "</g>\n",
       "<!-- 14 -->\n",
       "<g id=\"node15\" class=\"node\">\n",
       "<title>14</title>\n",
       "<path fill=\"#f1ba92\" stroke=\"black\" d=\"M577,-64C577,-64 490,-64 490,-64 484,-64 478,-58 478,-52 478,-52 478,-12 478,-12 478,-6 484,0 490,0 490,0 577,0 577,0 583,0 589,-6 589,-12 589,-12 589,-52 589,-52 589,-58 583,-64 577,-64\"/>\n",
       "<text text-anchor=\"start\" x=\"486\" y=\"-49.8\" font-family=\"Helvetica,sans-Serif\" font-size=\"14.00\">entropy = 0.893</text>\n",
       "<text text-anchor=\"start\" x=\"488.5\" y=\"-35.8\" font-family=\"Helvetica,sans-Serif\" font-size=\"14.00\">samples = 129</text>\n",
       "<text text-anchor=\"start\" x=\"486.5\" y=\"-21.8\" font-family=\"Helvetica,sans-Serif\" font-size=\"14.00\">value = [89, 40]</text>\n",
       "<text text-anchor=\"start\" x=\"503\" y=\"-7.8\" font-family=\"Helvetica,sans-Serif\" font-size=\"14.00\">class = y</text>\n",
       "<text text-anchor=\"start\" x=\"557\" y=\"-7.8\" font-family=\"Helvetica,sans-Serif\" baseline-shift=\"sub\" font-size=\"14.00\">0</text>\n",
       "</g>\n",
       "<!-- 12&#45;&gt;14 -->\n",
       "<g id=\"edge14\" class=\"edge\">\n",
       "<title>12&#45;&gt;14</title>\n",
       "<path fill=\"none\" stroke=\"black\" d=\"M439.02,-82.77C448.72,-77.5 458.84,-72 468.68,-66.65\"/>\n",
       "<polygon fill=\"black\" stroke=\"black\" points=\"470.51,-69.64 477.63,-61.8 467.17,-63.49 470.51,-69.64\"/>\n",
       "</g>\n",
       "</g>\n",
       "</svg>\n"
      ],
      "text/plain": [
       "<graphviz.sources.Source at 0x243f4cb2e20>"
      ]
     },
     "execution_count": 104,
     "metadata": {},
     "output_type": "execute_result"
    }
   ],
   "source": [
    "dot_data = tree.export_graphviz(clf_en, out_file=None, max_depth=None,\n",
    "                                feature_names=X_train.columns,  \n",
    "                                class_names=True,  \n",
    "                                filled=True, rotate=True, rounded=True,  \n",
    "                                special_characters=True)\n",
    "\n",
    "graph = graphviz.Source(dot_data) \n",
    "graph \n",
    "#con criterio entropy los valores de entropy son peores, debido a que set de entrenamiento utilizado se trata solo de valores continuos"
   ]
  },
  {
   "cell_type": "markdown",
   "id": "417bff1e",
   "metadata": {},
   "source": [
    "# RANDOM FOREST"
   ]
  },
  {
   "cell_type": "code",
   "execution_count": 105,
   "id": "35b716ec",
   "metadata": {},
   "outputs": [],
   "source": [
    "X_train = train_limpio.drop(['Survived','PassengerId','Name','Ticket'], axis=1)\n",
    "y_train = train_limpio['Survived']"
   ]
  },
  {
   "cell_type": "code",
   "execution_count": 106,
   "id": "619997c8",
   "metadata": {},
   "outputs": [],
   "source": [
    "X_test = test.drop(['PassengerId','Name','Ticket'], axis=1)"
   ]
  },
  {
   "cell_type": "code",
   "execution_count": 107,
   "id": "9eeaec1a",
   "metadata": {},
   "outputs": [],
   "source": [
    "from sklearn.ensemble import RandomForestClassifier"
   ]
  },
  {
   "cell_type": "code",
   "execution_count": 108,
   "id": "a2b08d49",
   "metadata": {},
   "outputs": [
    {
     "data": {
      "text/plain": [
       "RandomForestClassifier(random_state=0)"
      ]
     },
     "execution_count": 108,
     "metadata": {},
     "output_type": "execute_result"
    }
   ],
   "source": [
    "rfc_100 = RandomForestClassifier(n_estimators=100, random_state=0)\n",
    "rfc_100.fit(X_train, y_train)"
   ]
  },
  {
   "cell_type": "code",
   "execution_count": 109,
   "id": "c1e7422e",
   "metadata": {},
   "outputs": [
    {
     "name": "stdout",
     "output_type": "stream",
     "text": [
      "Precisión en el set de Entrenamiento: 0.99\n"
     ]
    }
   ],
   "source": [
    "y_pred_100 = rfc_100.predict(X_test)\n",
    "print('Precisión en el set de Entrenamiento: {:.2f}'\n",
    "     .format(rfc_100.score(X_train, y_train)))\n",
    "#hay overfitting"
   ]
  },
  {
   "cell_type": "markdown",
   "id": "55a7823e",
   "metadata": {},
   "source": [
    "# xgboost"
   ]
  },
  {
   "cell_type": "code",
   "execution_count": 110,
   "id": "2cecc82a",
   "metadata": {},
   "outputs": [],
   "source": [
    "X_train = train_limpio.drop(['Survived','PassengerId','Name','Ticket'], axis=1)\n",
    "y_train = train_limpio['Survived']"
   ]
  },
  {
   "cell_type": "code",
   "execution_count": 111,
   "id": "cbc47909",
   "metadata": {},
   "outputs": [],
   "source": [
    "X_test = test.drop(['PassengerId','Name','Ticket'], axis=1)"
   ]
  },
  {
   "cell_type": "code",
   "execution_count": 112,
   "id": "245daf04",
   "metadata": {},
   "outputs": [],
   "source": [
    "from xgboost import XGBClassifier"
   ]
  },
  {
   "cell_type": "code",
   "execution_count": 113,
   "id": "6f159820",
   "metadata": {},
   "outputs": [
    {
     "data": {
      "text/plain": [
       "XGBClassifier(base_score=None, booster=None, callbacks=None,\n",
       "              colsample_bylevel=None, colsample_bynode=None,\n",
       "              colsample_bytree=None, early_stopping_rounds=None,\n",
       "              enable_categorical=False, eval_metric=None, feature_types=None,\n",
       "              gamma=None, gpu_id=None, grow_policy=None, importance_type=None,\n",
       "              interaction_constraints=None, learning_rate=0.001, max_bin=None,\n",
       "              max_cat_threshold=None, max_cat_to_onehot=None,\n",
       "              max_delta_step=None, max_depth=None, max_leaves=None,\n",
       "              min_child_weight=None, missing=nan, monotone_constraints=None,\n",
       "              n_estimators=1000, n_jobs=None, num_parallel_tree=None,\n",
       "              predictor=None, random_state=None, ...)"
      ]
     },
     "execution_count": 113,
     "metadata": {},
     "output_type": "execute_result"
    }
   ],
   "source": [
    "xgb = XGBClassifier(n_estimators=1000, learning_rate=0.001)\n",
    "xgb.fit(X_train, y_train)"
   ]
  },
  {
   "cell_type": "code",
   "execution_count": 114,
   "id": "3739262d",
   "metadata": {},
   "outputs": [
    {
     "name": "stdout",
     "output_type": "stream",
     "text": [
      "Precisión en el set de Entrenamiento: 0.86\n"
     ]
    }
   ],
   "source": [
    "y_predxgb = xgb.predict(X_test)\n",
    "print('Precisión en el set de Entrenamiento: {:.2f}'\n",
    "     .format(xgb.score(X_train, y_train)))"
   ]
  },
  {
   "cell_type": "markdown",
   "id": "62d6650e",
   "metadata": {},
   "source": [
    "# SUPORT VECTOR MACHINE"
   ]
  },
  {
   "cell_type": "code",
   "execution_count": 115,
   "id": "868e795f",
   "metadata": {},
   "outputs": [],
   "source": [
    "X_train = train_limpio.drop(['Survived','PassengerId','Name','Ticket'], axis=1)\n",
    "y_train = train_limpio['Survived']"
   ]
  },
  {
   "cell_type": "code",
   "execution_count": 116,
   "id": "9d53ec4b",
   "metadata": {},
   "outputs": [],
   "source": [
    "X_test = test.drop(['PassengerId','Name','Ticket'], axis=1)"
   ]
  },
  {
   "cell_type": "markdown",
   "id": "6ff0f211",
   "metadata": {},
   "source": [
    "Estimación de un hiperplano lineal no óptimo:"
   ]
  },
  {
   "cell_type": "code",
   "execution_count": 117,
   "id": "49e16f5e",
   "metadata": {},
   "outputs": [
    {
     "data": {
      "text/plain": [
       "SVC(probability=True)"
      ]
     },
     "execution_count": 117,
     "metadata": {},
     "output_type": "execute_result"
    }
   ],
   "source": [
    "from sklearn.svm import SVC\n",
    "svc = SVC(probability=True)\n",
    "svc.fit(X_train, y_train)"
   ]
  },
  {
   "cell_type": "code",
   "execution_count": 118,
   "id": "01075457",
   "metadata": {},
   "outputs": [
    {
     "name": "stdout",
     "output_type": "stream",
     "text": [
      "Precisión en el set de Entrenamiento: 0.67\n"
     ]
    }
   ],
   "source": [
    "y_predsvc = svc.predict(X_test)\n",
    "print('Precisión en el set de Entrenamiento: {:.2f}'\n",
    "     .format(svc.score(X_train, y_train)))"
   ]
  },
  {
   "cell_type": "markdown",
   "id": "c858c469",
   "metadata": {},
   "source": [
    "Obtener C Grid Search:"
   ]
  },
  {
   "cell_type": "code",
   "execution_count": 119,
   "id": "27c24ee7",
   "metadata": {},
   "outputs": [],
   "source": [
    "from sklearn.model_selection import GridSearchCV\n",
    "param_grid = {\"C\":[0.1, 1, 10, 100, 1000], \"gamma\":[1, 0.1, 0.01, 0.001, 0.0001]}"
   ]
  },
  {
   "cell_type": "code",
   "execution_count": 120,
   "id": "55e7e145",
   "metadata": {},
   "outputs": [
    {
     "name": "stdout",
     "output_type": "stream",
     "text": [
      "Fitting 5 folds for each of 25 candidates, totalling 125 fits\n",
      "[CV] END .....................................C=0.1, gamma=1; total time=   0.0s\n",
      "[CV] END .....................................C=0.1, gamma=1; total time=   0.0s\n",
      "[CV] END .....................................C=0.1, gamma=1; total time=   0.0s\n",
      "[CV] END .....................................C=0.1, gamma=1; total time=   0.0s\n",
      "[CV] END .....................................C=0.1, gamma=1; total time=   0.0s\n",
      "[CV] END ...................................C=0.1, gamma=0.1; total time=   0.0s\n",
      "[CV] END ...................................C=0.1, gamma=0.1; total time=   0.0s\n",
      "[CV] END ...................................C=0.1, gamma=0.1; total time=   0.0s\n",
      "[CV] END ...................................C=0.1, gamma=0.1; total time=   0.0s\n",
      "[CV] END ...................................C=0.1, gamma=0.1; total time=   0.0s\n",
      "[CV] END ..................................C=0.1, gamma=0.01; total time=   0.0s\n",
      "[CV] END ..................................C=0.1, gamma=0.01; total time=   0.0s\n",
      "[CV] END ..................................C=0.1, gamma=0.01; total time=   0.0s\n",
      "[CV] END ..................................C=0.1, gamma=0.01; total time=   0.0s\n",
      "[CV] END ..................................C=0.1, gamma=0.01; total time=   0.0s\n",
      "[CV] END .................................C=0.1, gamma=0.001; total time=   0.0s\n",
      "[CV] END .................................C=0.1, gamma=0.001; total time=   0.0s\n",
      "[CV] END .................................C=0.1, gamma=0.001; total time=   0.0s\n",
      "[CV] END .................................C=0.1, gamma=0.001; total time=   0.0s\n",
      "[CV] END .................................C=0.1, gamma=0.001; total time=   0.0s\n",
      "[CV] END ................................C=0.1, gamma=0.0001; total time=   0.0s\n",
      "[CV] END ................................C=0.1, gamma=0.0001; total time=   0.0s\n",
      "[CV] END ................................C=0.1, gamma=0.0001; total time=   0.0s\n",
      "[CV] END ................................C=0.1, gamma=0.0001; total time=   0.0s\n",
      "[CV] END ................................C=0.1, gamma=0.0001; total time=   0.0s\n",
      "[CV] END .......................................C=1, gamma=1; total time=   0.0s\n",
      "[CV] END .......................................C=1, gamma=1; total time=   0.0s\n",
      "[CV] END .......................................C=1, gamma=1; total time=   0.0s\n",
      "[CV] END .......................................C=1, gamma=1; total time=   0.0s\n",
      "[CV] END .......................................C=1, gamma=1; total time=   0.0s\n",
      "[CV] END .....................................C=1, gamma=0.1; total time=   0.0s\n",
      "[CV] END .....................................C=1, gamma=0.1; total time=   0.0s\n",
      "[CV] END .....................................C=1, gamma=0.1; total time=   0.0s\n",
      "[CV] END .....................................C=1, gamma=0.1; total time=   0.0s\n",
      "[CV] END .....................................C=1, gamma=0.1; total time=   0.0s\n",
      "[CV] END ....................................C=1, gamma=0.01; total time=   0.0s\n",
      "[CV] END ....................................C=1, gamma=0.01; total time=   0.0s\n",
      "[CV] END ....................................C=1, gamma=0.01; total time=   0.0s\n",
      "[CV] END ....................................C=1, gamma=0.01; total time=   0.0s\n",
      "[CV] END ....................................C=1, gamma=0.01; total time=   0.0s\n",
      "[CV] END ...................................C=1, gamma=0.001; total time=   0.0s\n",
      "[CV] END ...................................C=1, gamma=0.001; total time=   0.0s\n",
      "[CV] END ...................................C=1, gamma=0.001; total time=   0.0s\n",
      "[CV] END ...................................C=1, gamma=0.001; total time=   0.0s\n",
      "[CV] END ...................................C=1, gamma=0.001; total time=   0.0s\n",
      "[CV] END ..................................C=1, gamma=0.0001; total time=   0.0s\n",
      "[CV] END ..................................C=1, gamma=0.0001; total time=   0.0s\n",
      "[CV] END ..................................C=1, gamma=0.0001; total time=   0.0s\n",
      "[CV] END ..................................C=1, gamma=0.0001; total time=   0.0s\n",
      "[CV] END ..................................C=1, gamma=0.0001; total time=   0.0s\n",
      "[CV] END ......................................C=10, gamma=1; total time=   0.0s\n",
      "[CV] END ......................................C=10, gamma=1; total time=   0.0s\n",
      "[CV] END ......................................C=10, gamma=1; total time=   0.0s\n",
      "[CV] END ......................................C=10, gamma=1; total time=   0.0s\n",
      "[CV] END ......................................C=10, gamma=1; total time=   0.0s\n",
      "[CV] END ....................................C=10, gamma=0.1; total time=   0.0s\n",
      "[CV] END ....................................C=10, gamma=0.1; total time=   0.0s\n",
      "[CV] END ....................................C=10, gamma=0.1; total time=   0.0s\n",
      "[CV] END ....................................C=10, gamma=0.1; total time=   0.0s\n",
      "[CV] END ....................................C=10, gamma=0.1; total time=   0.0s\n",
      "[CV] END ...................................C=10, gamma=0.01; total time=   0.0s\n",
      "[CV] END ...................................C=10, gamma=0.01; total time=   0.0s\n",
      "[CV] END ...................................C=10, gamma=0.01; total time=   0.0s\n",
      "[CV] END ...................................C=10, gamma=0.01; total time=   0.0s\n",
      "[CV] END ...................................C=10, gamma=0.01; total time=   0.0s\n",
      "[CV] END ..................................C=10, gamma=0.001; total time=   0.0s\n",
      "[CV] END ..................................C=10, gamma=0.001; total time=   0.0s\n",
      "[CV] END ..................................C=10, gamma=0.001; total time=   0.0s\n",
      "[CV] END ..................................C=10, gamma=0.001; total time=   0.0s\n",
      "[CV] END ..................................C=10, gamma=0.001; total time=   0.0s\n",
      "[CV] END .................................C=10, gamma=0.0001; total time=   0.0s\n",
      "[CV] END .................................C=10, gamma=0.0001; total time=   0.0s\n",
      "[CV] END .................................C=10, gamma=0.0001; total time=   0.0s\n",
      "[CV] END .................................C=10, gamma=0.0001; total time=   0.0s\n",
      "[CV] END .................................C=10, gamma=0.0001; total time=   0.0s\n",
      "[CV] END .....................................C=100, gamma=1; total time=   0.0s\n",
      "[CV] END .....................................C=100, gamma=1; total time=   0.0s\n",
      "[CV] END .....................................C=100, gamma=1; total time=   0.0s\n",
      "[CV] END .....................................C=100, gamma=1; total time=   0.0s\n",
      "[CV] END .....................................C=100, gamma=1; total time=   0.0s\n",
      "[CV] END ...................................C=100, gamma=0.1; total time=   0.0s\n",
      "[CV] END ...................................C=100, gamma=0.1; total time=   0.0s\n",
      "[CV] END ...................................C=100, gamma=0.1; total time=   0.0s\n",
      "[CV] END ...................................C=100, gamma=0.1; total time=   0.0s\n",
      "[CV] END ...................................C=100, gamma=0.1; total time=   0.0s\n",
      "[CV] END ..................................C=100, gamma=0.01; total time=   0.0s\n",
      "[CV] END ..................................C=100, gamma=0.01; total time=   0.0s\n",
      "[CV] END ..................................C=100, gamma=0.01; total time=   0.0s\n",
      "[CV] END ..................................C=100, gamma=0.01; total time=   0.0s\n",
      "[CV] END ..................................C=100, gamma=0.01; total time=   0.0s\n",
      "[CV] END .................................C=100, gamma=0.001; total time=   0.0s\n",
      "[CV] END .................................C=100, gamma=0.001; total time=   0.0s\n",
      "[CV] END .................................C=100, gamma=0.001; total time=   0.0s\n",
      "[CV] END .................................C=100, gamma=0.001; total time=   0.0s\n",
      "[CV] END .................................C=100, gamma=0.001; total time=   0.0s\n",
      "[CV] END ................................C=100, gamma=0.0001; total time=   0.0s\n",
      "[CV] END ................................C=100, gamma=0.0001; total time=   0.0s\n",
      "[CV] END ................................C=100, gamma=0.0001; total time=   0.0s\n",
      "[CV] END ................................C=100, gamma=0.0001; total time=   0.0s\n",
      "[CV] END ................................C=100, gamma=0.0001; total time=   0.0s\n",
      "[CV] END ....................................C=1000, gamma=1; total time=   0.0s\n",
      "[CV] END ....................................C=1000, gamma=1; total time=   0.0s\n",
      "[CV] END ....................................C=1000, gamma=1; total time=   0.0s\n",
      "[CV] END ....................................C=1000, gamma=1; total time=   0.0s\n",
      "[CV] END ....................................C=1000, gamma=1; total time=   0.0s\n"
     ]
    },
    {
     "name": "stdout",
     "output_type": "stream",
     "text": [
      "[CV] END ..................................C=1000, gamma=0.1; total time=   0.0s\n",
      "[CV] END ..................................C=1000, gamma=0.1; total time=   0.0s\n",
      "[CV] END ..................................C=1000, gamma=0.1; total time=   0.0s\n",
      "[CV] END ..................................C=1000, gamma=0.1; total time=   0.0s\n",
      "[CV] END ..................................C=1000, gamma=0.1; total time=   0.0s\n",
      "[CV] END .................................C=1000, gamma=0.01; total time=   0.0s\n",
      "[CV] END .................................C=1000, gamma=0.01; total time=   0.1s\n",
      "[CV] END .................................C=1000, gamma=0.01; total time=   0.0s\n",
      "[CV] END .................................C=1000, gamma=0.01; total time=   0.0s\n",
      "[CV] END .................................C=1000, gamma=0.01; total time=   0.0s\n",
      "[CV] END ................................C=1000, gamma=0.001; total time=   0.0s\n",
      "[CV] END ................................C=1000, gamma=0.001; total time=   0.0s\n",
      "[CV] END ................................C=1000, gamma=0.001; total time=   0.0s\n",
      "[CV] END ................................C=1000, gamma=0.001; total time=   0.0s\n",
      "[CV] END ................................C=1000, gamma=0.001; total time=   0.0s\n",
      "[CV] END ...............................C=1000, gamma=0.0001; total time=   0.0s\n",
      "[CV] END ...............................C=1000, gamma=0.0001; total time=   0.0s\n",
      "[CV] END ...............................C=1000, gamma=0.0001; total time=   0.0s\n",
      "[CV] END ...............................C=1000, gamma=0.0001; total time=   0.0s\n",
      "[CV] END ...............................C=1000, gamma=0.0001; total time=   0.0s\n"
     ]
    },
    {
     "data": {
      "text/plain": [
       "GridSearchCV(estimator=SVC(),\n",
       "             param_grid={'C': [0.1, 1, 10, 100, 1000],\n",
       "                         'gamma': [1, 0.1, 0.01, 0.001, 0.0001]},\n",
       "             verbose=2)"
      ]
     },
     "execution_count": 120,
     "metadata": {},
     "output_type": "execute_result"
    }
   ],
   "source": [
    "grid = GridSearchCV(SVC(), param_grid, verbose=2)\n",
    "grid.fit(X_train, y_train)"
   ]
  },
  {
   "cell_type": "code",
   "execution_count": 121,
   "id": "4874d6d7",
   "metadata": {},
   "outputs": [
    {
     "data": {
      "text/plain": [
       "{'C': 1, 'gamma': 1}"
      ]
     },
     "execution_count": 121,
     "metadata": {},
     "output_type": "execute_result"
    }
   ],
   "source": [
    "#mejores hiperparametros\n",
    "grid.best_params_"
   ]
  },
  {
   "cell_type": "markdown",
   "id": "12e30a67",
   "metadata": {},
   "source": [
    "Estimación con kernell lineal (hiperplano lineal óptimo):"
   ]
  },
  {
   "cell_type": "code",
   "execution_count": 122,
   "id": "6ef65011",
   "metadata": {},
   "outputs": [],
   "source": [
    "linear_classifier = SVC(kernel='linear', C=1, gamma=1, probability=True).fit(X_train,y_train)\n",
    "y_predKL = linear_classifier.predict(X_test)"
   ]
  },
  {
   "cell_type": "code",
   "execution_count": 123,
   "id": "448c144f",
   "metadata": {},
   "outputs": [
    {
     "name": "stdout",
     "output_type": "stream",
     "text": [
      "Precisión en el set de Entrenamiento: 0.75\n"
     ]
    }
   ],
   "source": [
    "print('Precisión en el set de Entrenamiento: {:.2f}'\n",
    "     .format(linear_classifier.score(X_train, y_train)))"
   ]
  },
  {
   "cell_type": "markdown",
   "id": "134b5e56",
   "metadata": {},
   "source": [
    "Estimación con kernell Gaussian RBF:"
   ]
  },
  {
   "cell_type": "code",
   "execution_count": 124,
   "id": "71da9f84",
   "metadata": {},
   "outputs": [],
   "source": [
    "rbf_svc=SVC(kernel='rbf', C=1, gamma=1,probability=True).fit(X_train,y_train)\n",
    "y_predKG = rbf_svc.predict(X_test)"
   ]
  },
  {
   "cell_type": "code",
   "execution_count": 125,
   "id": "b3d1680e",
   "metadata": {},
   "outputs": [
    {
     "name": "stdout",
     "output_type": "stream",
     "text": [
      "Precisión en el set de Entrenamiento: 0.97\n"
     ]
    }
   ],
   "source": [
    "print('Precisión en el set de Entrenamiento: {:.2f}'\n",
    "     .format(rbf_svc.score(X_train, y_train)))"
   ]
  },
  {
   "cell_type": "markdown",
   "id": "25357ec6",
   "metadata": {},
   "source": [
    "Estimación con kernell Polynomial:"
   ]
  },
  {
   "cell_type": "code",
   "execution_count": 126,
   "id": "520200aa",
   "metadata": {},
   "outputs": [],
   "source": [
    "Poly_svc=SVC(kernel='poly', C=1,probability=True).fit(X_train,y_train) \n",
    "y_predKP = Poly_svc.predict(X_test)\n",
    "#con gamma:1 no termina de ejecutar, por lo cual se considera solo C=1"
   ]
  },
  {
   "cell_type": "code",
   "execution_count": 127,
   "id": "5c02bde5",
   "metadata": {},
   "outputs": [
    {
     "name": "stdout",
     "output_type": "stream",
     "text": [
      "Precisión en el set de Entrenamiento: 0.61\n"
     ]
    }
   ],
   "source": [
    "print('Precisión en el set de Entrenamiento: {:.2f}'\n",
    "     .format(Poly_svc.score(X_train, y_train)))"
   ]
  },
  {
   "cell_type": "markdown",
   "id": "c6693f42",
   "metadata": {},
   "source": [
    "Estimación con kernell Sigmoid:"
   ]
  },
  {
   "cell_type": "code",
   "execution_count": 128,
   "id": "ce5ef128",
   "metadata": {},
   "outputs": [],
   "source": [
    "Sig_svc=SVC(kernel='sigmoid', C=1, gamma=1,probability=True).fit(X_train,y_train)\n",
    "y_predKS = Sig_svc.predict(X_test)"
   ]
  },
  {
   "cell_type": "code",
   "execution_count": 129,
   "id": "061d4dec",
   "metadata": {},
   "outputs": [
    {
     "name": "stdout",
     "output_type": "stream",
     "text": [
      "Precisión en el set de Entrenamiento: 0.55\n"
     ]
    }
   ],
   "source": [
    "print('Precisión en el set de Entrenamiento: {:.2f}'\n",
    "     .format(Sig_svc.score(X_train, y_train)))"
   ]
  },
  {
   "cell_type": "markdown",
   "id": "65e819aa",
   "metadata": {},
   "source": [
    "# análisis visual de top 4 predicciones en base a precisión"
   ]
  },
  {
   "cell_type": "code",
   "execution_count": 134,
   "id": "4d009ab7",
   "metadata": {},
   "outputs": [
    {
     "data": {
      "text/html": [
       "<div>\n",
       "<style scoped>\n",
       "    .dataframe tbody tr th:only-of-type {\n",
       "        vertical-align: middle;\n",
       "    }\n",
       "\n",
       "    .dataframe tbody tr th {\n",
       "        vertical-align: top;\n",
       "    }\n",
       "\n",
       "    .dataframe thead th {\n",
       "        text-align: right;\n",
       "    }\n",
       "</style>\n",
       "<table border=\"1\" class=\"dataframe\">\n",
       "  <thead>\n",
       "    <tr style=\"text-align: right;\">\n",
       "      <th></th>\n",
       "      <th>Survived_xgb</th>\n",
       "    </tr>\n",
       "  </thead>\n",
       "  <tbody>\n",
       "    <tr>\n",
       "      <th>0</th>\n",
       "      <td>0</td>\n",
       "    </tr>\n",
       "    <tr>\n",
       "      <th>1</th>\n",
       "      <td>0</td>\n",
       "    </tr>\n",
       "    <tr>\n",
       "      <th>2</th>\n",
       "      <td>0</td>\n",
       "    </tr>\n",
       "    <tr>\n",
       "      <th>3</th>\n",
       "      <td>0</td>\n",
       "    </tr>\n",
       "    <tr>\n",
       "      <th>4</th>\n",
       "      <td>1</td>\n",
       "    </tr>\n",
       "    <tr>\n",
       "      <th>...</th>\n",
       "      <td>...</td>\n",
       "    </tr>\n",
       "    <tr>\n",
       "      <th>413</th>\n",
       "      <td>0</td>\n",
       "    </tr>\n",
       "    <tr>\n",
       "      <th>414</th>\n",
       "      <td>1</td>\n",
       "    </tr>\n",
       "    <tr>\n",
       "      <th>415</th>\n",
       "      <td>0</td>\n",
       "    </tr>\n",
       "    <tr>\n",
       "      <th>416</th>\n",
       "      <td>0</td>\n",
       "    </tr>\n",
       "    <tr>\n",
       "      <th>417</th>\n",
       "      <td>0</td>\n",
       "    </tr>\n",
       "  </tbody>\n",
       "</table>\n",
       "<p>418 rows × 1 columns</p>\n",
       "</div>"
      ],
      "text/plain": [
       "     Survived_xgb\n",
       "0               0\n",
       "1               0\n",
       "2               0\n",
       "3               0\n",
       "4               1\n",
       "..            ...\n",
       "413             0\n",
       "414             1\n",
       "415             0\n",
       "416             0\n",
       "417             0\n",
       "\n",
       "[418 rows x 1 columns]"
      ]
     },
     "execution_count": 134,
     "metadata": {},
     "output_type": "execute_result"
    }
   ],
   "source": [
    "y_predxgb=pd.DataFrame(y_predxgb)\n",
    "y_predxgb.columns=['Survived_xgb']\n",
    "#prediccion con xgboost con precision del 0.86"
   ]
  },
  {
   "cell_type": "code",
   "execution_count": 136,
   "id": "41ae45be",
   "metadata": {},
   "outputs": [],
   "source": [
    "y_pred_gini=pd.DataFrame(y_pred_gini)\n",
    "y_pred_gini.columns=['Survived_gini']\n",
    "#prediccion con decision tree (criterio gini) con precision del 0.82"
   ]
  },
  {
   "cell_type": "code",
   "execution_count": 137,
   "id": "4b66a022",
   "metadata": {},
   "outputs": [],
   "source": [
    "y_predgnb=pd.DataFrame(y_predgnb)\n",
    "y_predgnb.columns=['Survived_gnb']\n",
    "#prediccion con naive bayes (gaussian) con precision del 0.78"
   ]
  },
  {
   "cell_type": "code",
   "execution_count": 138,
   "id": "ccfea34f",
   "metadata": {},
   "outputs": [],
   "source": [
    "y_predLR=pd.DataFrame(y_predLR)\n",
    "y_predLR.columns=['Survived_LR']\n",
    "#prediccion con reg logistica con precision del 0.78"
   ]
  },
  {
   "cell_type": "code",
   "execution_count": 140,
   "id": "1401706a",
   "metadata": {},
   "outputs": [
    {
     "data": {
      "text/html": [
       "<div>\n",
       "<style scoped>\n",
       "    .dataframe tbody tr th:only-of-type {\n",
       "        vertical-align: middle;\n",
       "    }\n",
       "\n",
       "    .dataframe tbody tr th {\n",
       "        vertical-align: top;\n",
       "    }\n",
       "\n",
       "    .dataframe thead th {\n",
       "        text-align: right;\n",
       "    }\n",
       "</style>\n",
       "<table border=\"1\" class=\"dataframe\">\n",
       "  <thead>\n",
       "    <tr style=\"text-align: right;\">\n",
       "      <th></th>\n",
       "      <th>Pclass</th>\n",
       "      <th>Sex</th>\n",
       "      <th>SibSp</th>\n",
       "      <th>Parch</th>\n",
       "      <th>Embarked</th>\n",
       "      <th>Age</th>\n",
       "      <th>Fare</th>\n",
       "      <th>Survived_xgb</th>\n",
       "      <th>Survived_gini</th>\n",
       "      <th>Survived_gnb</th>\n",
       "      <th>Survived_LR</th>\n",
       "    </tr>\n",
       "  </thead>\n",
       "  <tbody>\n",
       "    <tr>\n",
       "      <th>0</th>\n",
       "      <td>3</td>\n",
       "      <td>1</td>\n",
       "      <td>0</td>\n",
       "      <td>0</td>\n",
       "      <td>1</td>\n",
       "      <td>34.5</td>\n",
       "      <td>7.8292</td>\n",
       "      <td>0</td>\n",
       "      <td>0</td>\n",
       "      <td>0</td>\n",
       "      <td>0</td>\n",
       "    </tr>\n",
       "    <tr>\n",
       "      <th>1</th>\n",
       "      <td>3</td>\n",
       "      <td>0</td>\n",
       "      <td>1</td>\n",
       "      <td>0</td>\n",
       "      <td>2</td>\n",
       "      <td>47.0</td>\n",
       "      <td>7.0000</td>\n",
       "      <td>0</td>\n",
       "      <td>0</td>\n",
       "      <td>1</td>\n",
       "      <td>0</td>\n",
       "    </tr>\n",
       "    <tr>\n",
       "      <th>2</th>\n",
       "      <td>2</td>\n",
       "      <td>1</td>\n",
       "      <td>0</td>\n",
       "      <td>0</td>\n",
       "      <td>1</td>\n",
       "      <td>62.0</td>\n",
       "      <td>9.6875</td>\n",
       "      <td>0</td>\n",
       "      <td>0</td>\n",
       "      <td>1</td>\n",
       "      <td>0</td>\n",
       "    </tr>\n",
       "    <tr>\n",
       "      <th>3</th>\n",
       "      <td>3</td>\n",
       "      <td>1</td>\n",
       "      <td>0</td>\n",
       "      <td>0</td>\n",
       "      <td>2</td>\n",
       "      <td>27.0</td>\n",
       "      <td>8.6625</td>\n",
       "      <td>0</td>\n",
       "      <td>0</td>\n",
       "      <td>0</td>\n",
       "      <td>0</td>\n",
       "    </tr>\n",
       "    <tr>\n",
       "      <th>4</th>\n",
       "      <td>3</td>\n",
       "      <td>0</td>\n",
       "      <td>1</td>\n",
       "      <td>1</td>\n",
       "      <td>2</td>\n",
       "      <td>22.0</td>\n",
       "      <td>12.2875</td>\n",
       "      <td>1</td>\n",
       "      <td>1</td>\n",
       "      <td>1</td>\n",
       "      <td>1</td>\n",
       "    </tr>\n",
       "    <tr>\n",
       "      <th>...</th>\n",
       "      <td>...</td>\n",
       "      <td>...</td>\n",
       "      <td>...</td>\n",
       "      <td>...</td>\n",
       "      <td>...</td>\n",
       "      <td>...</td>\n",
       "      <td>...</td>\n",
       "      <td>...</td>\n",
       "      <td>...</td>\n",
       "      <td>...</td>\n",
       "      <td>...</td>\n",
       "    </tr>\n",
       "    <tr>\n",
       "      <th>413</th>\n",
       "      <td>3</td>\n",
       "      <td>1</td>\n",
       "      <td>0</td>\n",
       "      <td>0</td>\n",
       "      <td>2</td>\n",
       "      <td>25.4</td>\n",
       "      <td>8.0500</td>\n",
       "      <td>0</td>\n",
       "      <td>0</td>\n",
       "      <td>0</td>\n",
       "      <td>0</td>\n",
       "    </tr>\n",
       "    <tr>\n",
       "      <th>414</th>\n",
       "      <td>1</td>\n",
       "      <td>0</td>\n",
       "      <td>0</td>\n",
       "      <td>0</td>\n",
       "      <td>0</td>\n",
       "      <td>39.0</td>\n",
       "      <td>108.9000</td>\n",
       "      <td>1</td>\n",
       "      <td>1</td>\n",
       "      <td>1</td>\n",
       "      <td>1</td>\n",
       "    </tr>\n",
       "    <tr>\n",
       "      <th>415</th>\n",
       "      <td>3</td>\n",
       "      <td>1</td>\n",
       "      <td>0</td>\n",
       "      <td>0</td>\n",
       "      <td>2</td>\n",
       "      <td>38.5</td>\n",
       "      <td>7.2500</td>\n",
       "      <td>0</td>\n",
       "      <td>0</td>\n",
       "      <td>0</td>\n",
       "      <td>0</td>\n",
       "    </tr>\n",
       "    <tr>\n",
       "      <th>416</th>\n",
       "      <td>3</td>\n",
       "      <td>1</td>\n",
       "      <td>0</td>\n",
       "      <td>0</td>\n",
       "      <td>2</td>\n",
       "      <td>25.4</td>\n",
       "      <td>8.0500</td>\n",
       "      <td>0</td>\n",
       "      <td>0</td>\n",
       "      <td>0</td>\n",
       "      <td>0</td>\n",
       "    </tr>\n",
       "    <tr>\n",
       "      <th>417</th>\n",
       "      <td>3</td>\n",
       "      <td>1</td>\n",
       "      <td>1</td>\n",
       "      <td>1</td>\n",
       "      <td>0</td>\n",
       "      <td>27.0</td>\n",
       "      <td>22.3583</td>\n",
       "      <td>0</td>\n",
       "      <td>0</td>\n",
       "      <td>0</td>\n",
       "      <td>0</td>\n",
       "    </tr>\n",
       "  </tbody>\n",
       "</table>\n",
       "<p>418 rows × 11 columns</p>\n",
       "</div>"
      ],
      "text/plain": [
       "     Pclass  Sex  SibSp  Parch  Embarked   Age      Fare  Survived_xgb  \\\n",
       "0         3    1      0      0         1  34.5    7.8292             0   \n",
       "1         3    0      1      0         2  47.0    7.0000             0   \n",
       "2         2    1      0      0         1  62.0    9.6875             0   \n",
       "3         3    1      0      0         2  27.0    8.6625             0   \n",
       "4         3    0      1      1         2  22.0   12.2875             1   \n",
       "..      ...  ...    ...    ...       ...   ...       ...           ...   \n",
       "413       3    1      0      0         2  25.4    8.0500             0   \n",
       "414       1    0      0      0         0  39.0  108.9000             1   \n",
       "415       3    1      0      0         2  38.5    7.2500             0   \n",
       "416       3    1      0      0         2  25.4    8.0500             0   \n",
       "417       3    1      1      1         0  27.0   22.3583             0   \n",
       "\n",
       "     Survived_gini  Survived_gnb  Survived_LR  \n",
       "0                0             0            0  \n",
       "1                0             1            0  \n",
       "2                0             1            0  \n",
       "3                0             0            0  \n",
       "4                1             1            1  \n",
       "..             ...           ...          ...  \n",
       "413              0             0            0  \n",
       "414              1             1            1  \n",
       "415              0             0            0  \n",
       "416              0             0            0  \n",
       "417              0             0            0  \n",
       "\n",
       "[418 rows x 11 columns]"
      ]
     },
     "execution_count": 140,
     "metadata": {},
     "output_type": "execute_result"
    }
   ],
   "source": [
    "test=pd.concat([X_test, y_predxgb, y_pred_gini, y_predgnb,y_predLR ], axis=1)\n",
    "test"
   ]
  },
  {
   "cell_type": "code",
   "execution_count": 143,
   "id": "a6d0160f",
   "metadata": {},
   "outputs": [
    {
     "data": {
      "image/png": "[encoded data removed]",
      "text/plain": [
       "<Figure size 1000x500 with 2 Axes>"
      ]
     },
     "metadata": {},
     "output_type": "display_data"
    }
   ],
   "source": [
    "#se analizan las principales 2 variables categoricas segun decision tree para la prediccion de xgboost\n",
    "cat_var=['Sex','Pclass']\n",
    "fig,axs=plt.subplots(nrows=1,ncols=2,figsize=(10,5))\n",
    "axs=axs.flatten()\n",
    "\n",
    "for i, var in enumerate  (cat_var):\n",
    "    sns.countplot(x=var, data=test, hue='Survived_xgb',ax=axs[i])\n",
    "    axs[i].set_xticklabels(axs[i].get_xticklabels(),rotation=90)\n",
    "\n",
    "fig.tight_layout()\n",
    "plt.show()"
   ]
  },
  {
   "cell_type": "code",
   "execution_count": 144,
   "id": "7c3feaec",
   "metadata": {},
   "outputs": [
    {
     "data": {
      "image/png": "[encoded data removed]",
      "text/plain": [
       "<Figure size 1000x500 with 2 Axes>"
      ]
     },
     "metadata": {},
     "output_type": "display_data"
    }
   ],
   "source": [
    "#se analizan las principales 2 variables categoricas segun decision tree para la prediccion de decision tree\n",
    "fig,axs=plt.subplots(nrows=1,ncols=2,figsize=(10,5))\n",
    "axs=axs.flatten()\n",
    "\n",
    "for i, var in enumerate  (cat_var):\n",
    "    sns.countplot(x=var, data=test, hue='Survived_gini',ax=axs[i])\n",
    "    axs[i].set_xticklabels(axs[i].get_xticklabels(),rotation=90)\n",
    "\n",
    "fig.tight_layout()\n",
    "plt.show()"
   ]
  },
  {
   "cell_type": "code",
   "execution_count": 145,
   "id": "c3fcd85b",
   "metadata": {},
   "outputs": [
    {
     "data": {
      "image/png": "[encoded data removed]",
      "text/plain": [
       "<Figure size 1000x500 with 2 Axes>"
      ]
     },
     "metadata": {},
     "output_type": "display_data"
    }
   ],
   "source": [
    "#se analizan las principales 2 variables categoricas segun decision tree para la prediccion de naive bayes\n",
    "\n",
    "fig,axs=plt.subplots(nrows=1,ncols=2,figsize=(10,5))\n",
    "axs=axs.flatten()\n",
    "\n",
    "for i, var in enumerate  (cat_var):\n",
    "    sns.countplot(x=var, data=test, hue='Survived_gnb',ax=axs[i])\n",
    "    axs[i].set_xticklabels(axs[i].get_xticklabels(),rotation=90)\n",
    "\n",
    "fig.tight_layout()\n",
    "plt.show()"
   ]
  },
  {
   "cell_type": "code",
   "execution_count": 146,
   "id": "75bbd93f",
   "metadata": {},
   "outputs": [
    {
     "data": {
      "image/png": "[encoded data removed]",
      "text/plain": [
       "<Figure size 1000x500 with 2 Axes>"
      ]
     },
     "metadata": {},
     "output_type": "display_data"
    }
   ],
   "source": [
    "#se analizan las principales 2 variables categoricas segun decision tree para la prediccion de reg logistica\n",
    "\n",
    "fig,axs=plt.subplots(nrows=1,ncols=2,figsize=(10,5))\n",
    "axs=axs.flatten()\n",
    "\n",
    "for i, var in enumerate  (cat_var):\n",
    "    sns.countplot(x=var, data=test, hue='Survived_LR',ax=axs[i])\n",
    "    axs[i].set_xticklabels(axs[i].get_xticklabels(),rotation=90)\n",
    "\n",
    "fig.tight_layout()\n",
    "plt.show()"
   ]
  },
  {
   "cell_type": "markdown",
   "id": "a6f57aa7",
   "metadata": {},
   "source": [
    "conclusiones:\n",
    "\n",
    "-En el top 4 de algoritmos predicen que el sexo 0 es el que mas sobrevive,junto con la clase/Pclass 1 (a excepción del algoritmo decision tree que estima que la clase 3 sobrevive en mayor cantidad)\n",
    "\n",
    "-respecto al sexo: todos los algoritmos estiman cantidades similares de sobrevivientes (a excepción de decision tree que estima mayor cantidad de sexo 1)\n",
    "\n",
    "-respecto a la clase: reg logistica y xgboost estiman cantidades similares de sobrevivientes"
   ]
  }
 ],
 "metadata": {
  "kernelspec": {
   "display_name": "Python 3 (ipykernel)",
   "language": "python",
   "name": "python3"
  },
  "language_info": {
   "codemirror_mode": {
    "name": "ipython",
    "version": 3
   },
   "file_extension": ".py",
   "mimetype": "text/x-python",
   "name": "python",
   "nbconvert_exporter": "python",
   "pygments_lexer": "ipython3",
   "version": "3.9.13"
  }
 },
 "nbformat": 4,
 "nbformat_minor": 5
}
